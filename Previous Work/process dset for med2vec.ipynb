{
 "cells": [
  {
   "cell_type": "markdown",
   "metadata": {},
   "source": [
    "# CS 271 Project Data Processing"
   ]
  },
  {
   "cell_type": "code",
   "execution_count": 5,
   "metadata": {},
   "outputs": [],
   "source": [
    "# Define imports\n",
    "import sys\n",
    "import pickle\n",
    "import os\n",
    "import csv\n",
    "import time\n",
    "import re"
   ]
  },
  {
   "cell_type": "markdown",
   "metadata": {},
   "source": [
    "### Step 1: Read in relevant Data Files"
   ]
  },
  {
   "cell_type": "markdown",
   "metadata": {},
   "source": [
    "Make sure the files below are in the same directory as your jupyter file"
   ]
  },
  {
   "cell_type": "code",
   "execution_count": 17,
   "metadata": {},
   "outputs": [],
   "source": [
    "# Define constants\n",
    "PATIENT_DATA_FILE = 'B220_SAA_v1.csv'\n",
    "CLEANED_LABELS_FILE = 'ICD_Label_Cleaned_Oct_25.csv'\n",
    "CODE_DESC_FILE = 'BIODS220_ICD_Dx_10_9_v7 - icd_dx_10_9_v7.csv'\n",
    "# May want to consider: glove-wiki-gigaword-100 in the future\n",
    "# See more here: https://github.com/RaRe-Technologies/gensim-data\n",
    "LANG_MODEL = 'word2vec-google-news-300'"
   ]
  },
  {
   "cell_type": "markdown",
   "metadata": {},
   "source": [
    "### Step 2: Get Med2Vec List of Codes "
   ]
  },
  {
   "cell_type": "code",
   "execution_count": 18,
   "metadata": {},
   "outputs": [],
   "source": [
    "med2vec_dict = {}\n",
    "def check_med2vec_dict(icdcode, lastint):\n",
    "    \"\"\"\n",
    "    icdcode: code to check in dictionary\n",
    "    lastint: value of the last code that was added to dictionary\n",
    "    checks to see if a code is in the med2vec dictionary, if not add to it\n",
    "    returns an integer of the dictionary value, and updated last int\n",
    "    \"\"\"\n",
    "    \n",
    "    if icdcode in med2vec_dict:\n",
    "        return med2vec_dict[icdcode], lastint\n",
    "    else:\n",
    "        lastint+=1\n",
    "        med2vec_dict[icdcode] = lastint\n",
    "        return med2vec_dict[icdcode], lastint  \n",
    "    "
   ]
  },
  {
   "cell_type": "code",
   "execution_count": 19,
   "metadata": {},
   "outputs": [],
   "source": [
    "def row_to_list(input_row, lastint):\n",
    "    \"\"\"\n",
    "    input_row: A list of ICD10 codes\n",
    "    returns a list of integers for each ICD10. \n",
    "    \"\"\"\n",
    "    \n",
    "    codes = []\n",
    "    n = len(input_row) \n",
    "    for i in range(0, n):\n",
    "        code = input_row[i]\n",
    "        value, lastint = check_med2vec_dict(code, lastint)\n",
    "        codes.append(value)\n",
    "    return codes, lastint\n",
    "    "
   ]
  },
  {
   "cell_type": "code",
   "execution_count": 20,
   "metadata": {},
   "outputs": [
    {
     "name": "stdout",
     "output_type": "stream",
     "text": [
      "Completed 100000 visit embeddings in 1.2096598148345947\n"
     ]
    },
    {
     "data": {
      "text/plain": [
       "[-1]"
      ]
     },
     "execution_count": 20,
     "metadata": {},
     "output_type": "execute_result"
    }
   ],
   "source": [
    "NUM_PATIENTS = .05e6 #consider removing this for the final run, for final run we should be running this on our final dset, not just the first n visits\n",
    "def get_visit_embedding(input_file_path: str):\n",
    "    final_seq = []\n",
    "    lastint=0\n",
    "    lastpatient=1\n",
    "    start_time = time.time()\n",
    "    max_len = 0\n",
    "    with open(input_file_path, newline='') as csvfile:\n",
    "        data = csv.reader(csvfile, delimiter=',')\n",
    "        count = 0\n",
    "        for row in data: # <- top to bottom\n",
    "            if count == 0: # Skip the first row\n",
    "                count += 1\n",
    "                continue\n",
    "            \n",
    "            if int(row[0]) > NUM_PATIENTS: # Used to limit num patients, reducing model space\n",
    "                break\n",
    "            \n",
    "            currentpatient = row[0]\n",
    "            if lastpatient != currentpatient:\n",
    "                final_seq.append([-1]) #append the patient delimiter for med2vec\n",
    "                lastpatient = currentpatient\n",
    "                \n",
    "            codes, lastint = row_to_list([entry for entry in row[16:41] if entry != ''], lastint)\n",
    "            final_seq.append(codes)\n",
    "            \n",
    "            # Tracking progress\n",
    "            if count % 100000 == 0:\n",
    "                print(\"Completed {} visit embeddings in {}\".format(count, (time.time() - start_time)))\n",
    "            count +=1\n",
    "            \n",
    "    return final_seq\n",
    "\n",
    "codes_list = get_visit_embedding(PATIENT_DATA_FILE)\n",
    "codes_list.pop(0) #remove the first -1"
   ]
  },
  {
   "cell_type": "code",
   "execution_count": 21,
   "metadata": {},
   "outputs": [
    {
     "name": "stdout",
     "output_type": "stream",
     "text": [
      "12068\n"
     ]
    }
   ],
   "source": [
    "print(len(med2vec_dict+1)) #need this number to run med2vec, need to add 1 to it"
   ]
  },
  {
   "cell_type": "code",
   "execution_count": 22,
   "metadata": {},
   "outputs": [],
   "source": [
    "filename = 'visit_list.seqs'\n",
    "pickle_out = open(filename, 'wb')\n",
    "pickle.dump(codes_list, pickle_out, protocol=2)\n",
    "pickle_out.close()"
   ]
  },
  {
   "cell_type": "code",
   "execution_count": 9,
   "metadata": {},
   "outputs": [],
   "source": [
    "med2vec_dict['padding'] = 0"
   ]
  },
  {
   "cell_type": "code",
   "execution_count": 10,
   "metadata": {},
   "outputs": [],
   "source": [
    "filename = 'dict.pkl'\n",
    "pickle_out = open(filename, 'wb')\n",
    "pickle.dump(med2vec_dict, pickle_out, protocol=2)\n",
    "pickle_out.close()"
   ]
  },
  {
   "cell_type": "markdown",
   "metadata": {},
   "source": [
    "### Step 4 - make training list with less codes for med2vec"
   ]
  },
  {
   "cell_type": "code",
   "execution_count": 31,
   "metadata": {},
   "outputs": [],
   "source": [
    "med2vec_dict = {}\n",
    "def check_med2vec_dict(icdcode, lastint):\n",
    "    \"\"\"\n",
    "    icdcode: code to check in dictionary\n",
    "    lastint: value of the last code that was added to dictionary\n",
    "    checks to see if a code is in the med2vec dictionary, if not add to it\n",
    "    returns an integer of the dictionary value, and updated last int\n",
    "    \"\"\"\n",
    "    icdcode = icdcode[:3] #take only first 3 digits \n",
    "    \n",
    "    if icdcode in med2vec_dict:\n",
    "        return med2vec_dict[icdcode], lastint\n",
    "    else:\n",
    "        lastint+=1\n",
    "        med2vec_dict[icdcode] = lastint\n",
    "        return med2vec_dict[icdcode], lastint  \n",
    "    "
   ]
  },
  {
   "cell_type": "code",
   "execution_count": 32,
   "metadata": {},
   "outputs": [
    {
     "name": "stdout",
     "output_type": "stream",
     "text": [
      "Completed 100000 visit embeddings in 1.3099403381347656\n"
     ]
    },
    {
     "data": {
      "text/plain": [
       "[-1]"
      ]
     },
     "execution_count": 32,
     "metadata": {},
     "output_type": "execute_result"
    }
   ],
   "source": [
    "NUM_PATIENTS = .05e6 #consider removing this for the final run\n",
    "def get_visit_embedding_training(input_file_path: str):\n",
    "    final_seq = []\n",
    "    lastint=0\n",
    "    lastpatient=1\n",
    "    start_time = time.time()\n",
    "    max_len = 0\n",
    "    with open(input_file_path, newline='') as csvfile:\n",
    "        data = csv.reader(csvfile, delimiter=',')\n",
    "        count = 0\n",
    "        for row in data: # <- top to bottom\n",
    "            if count == 0: # Skip the first row\n",
    "                count += 1\n",
    "                continue\n",
    "            \n",
    "            if int(row[0]) > NUM_PATIENTS: # Used to limit num patients, reducing model space\n",
    "                break\n",
    "            \n",
    "            currentpatient = row[0]\n",
    "            if lastpatient != currentpatient:\n",
    "                final_seq.append([-1]) #append the patient delimiter for med2vec\n",
    "                lastpatient = currentpatient\n",
    "                \n",
    "            codes, lastint = row_to_list([entry for entry in row[16:41] if entry != ''], lastint) #shrink size\n",
    "            final_seq.append(codes)\n",
    "            \n",
    "            # Tracking progress\n",
    "            if count % 100000 == 0:\n",
    "                print(\"Completed {} visit embeddings in {}\".format(count, (time.time() - start_time)))\n",
    "            count +=1\n",
    "            \n",
    "    return final_seq\n",
    "\n",
    "codes_list_grouped = get_visit_embedding(PATIENT_DATA_FILE)\n",
    "codes_list_grouped.pop(0) #remove the first -1"
   ]
  },
  {
   "cell_type": "code",
   "execution_count": 33,
   "metadata": {},
   "outputs": [
    {
     "name": "stdout",
     "output_type": "stream",
     "text": [
      "1399\n"
     ]
    }
   ],
   "source": [
    "print(len(med2vec_dict+1)) #need this number to run med2vec add 1 "
   ]
  },
  {
   "cell_type": "code",
   "execution_count": 34,
   "metadata": {},
   "outputs": [
    {
     "name": "stdout",
     "output_type": "stream",
     "text": [
      "12068\n"
     ]
    }
   ],
   "source": [
    "max_int = 0\n",
    "for lis in codes_list:\n",
    "    if max(lis) > max_int:\n",
    "        max_int = max(lis)\n",
    "print(max_int)"
   ]
  },
  {
   "cell_type": "markdown",
   "metadata": {},
   "source": [
    "### Step 5: Pickle Grouped Output"
   ]
  },
  {
   "cell_type": "code",
   "execution_count": 35,
   "metadata": {},
   "outputs": [],
   "source": [
    "filename = 'visit_list_grouped.seqs'\n",
    "pickle_out = open(filename, 'wb')\n",
    "pickle.dump(codes_list_grouped, pickle_out, protocol=2)\n",
    "pickle_out.close()"
   ]
  },
  {
   "cell_type": "code",
   "execution_count": 12,
   "metadata": {},
   "outputs": [
    {
     "name": "stdout",
     "output_type": "stream",
     "text": [
      "[[1, 2, 3], [4], [5, 6], [7, 8, 9], [-1], [6], [10, 11, 12, 13, 14, 15, 16], [17], [18, 19], [20, 21], [22, 18, 11, 23], [24], [25], [26, 27, 28], [29, 11, 30], [11, 19], [11, 12, 28], [31, 16, 23], [27, 12, 2, 28], [28, 11], [18, 32, 33, 12, 11, 14, 15, 16], [34], [18, 35, 12, 36], [37, 7], [-1], [38, 39, 9, 40, 41], [38, 39, 42], [43, 39, 44, 45, 46, 9], [38], [38], [47, 9, 48, 49, 50, 14], [-1], [6, 51, 52], [53, 54], [55], [56, 57], [-1], [58], [59, 60], [54, 61], [62, 63, 64, 65, 6], [-1], [66, 67], [68, 69], [2, 59, 70, 67, 71, 72], [58, 9], [59, 73], [-1], [74, 39, 75, 53, 76, 77, 23, 78], [79, 80, 9, 76, 81, 82, 83, 84]]\n"
     ]
    }
   ],
   "source": [
    "print(codes_list[0:50])"
   ]
  },
  {
   "cell_type": "markdown",
   "metadata": {},
   "source": [
    "### Step 6: Run Med2Vec.py with python2.7"
   ]
  }
 ],
 "metadata": {
  "kernelspec": {
   "display_name": "Python 3",
   "language": "python",
   "name": "python3"
  },
  "language_info": {
   "codemirror_mode": {
    "name": "ipython",
    "version": 3
   },
   "file_extension": ".py",
   "mimetype": "text/x-python",
   "name": "python",
   "nbconvert_exporter": "python",
   "pygments_lexer": "ipython3",
   "version": "3.8.1"
  }
 },
 "nbformat": 4,
 "nbformat_minor": 4
}
