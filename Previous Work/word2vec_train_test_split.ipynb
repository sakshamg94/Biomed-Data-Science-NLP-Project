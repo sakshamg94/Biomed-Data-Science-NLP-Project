{
 "cells": [
  {
   "cell_type": "markdown",
   "id": "temporal-deposit",
   "metadata": {},
   "source": [
    "# Creates train/test split of raw data"
   ]
  },
  {
   "cell_type": "code",
   "execution_count": 1,
   "id": "offshore-illinois",
   "metadata": {},
   "outputs": [
    {
     "name": "stdout",
     "output_type": "stream",
     "text": [
      "\u001b[33mDEPRECATION: Python 2.7 reached the end of its life on January 1st, 2020. Please upgrade your Python as Python 2.7 is no longer maintained. pip 21.0 will drop support for Python 2.7 in January 2021. More details about Python 2 support in pip can be found at https://pip.pypa.io/en/latest/development/release-process/#python-2-support pip 21.0 will remove support for this functionality.\u001b[0m\n",
      "Requirement already satisfied: pyspark in /home/ubuntu/venv/lib/python2.7/site-packages (3.0.2)\n",
      "Requirement already satisfied: py4j==0.10.9 in /home/ubuntu/venv/lib/python2.7/site-packages (from pyspark) (0.10.9)\n",
      "\u001b[33mDEPRECATION: Python 2.7 reached the end of its life on January 1st, 2020. Please upgrade your Python as Python 2.7 is no longer maintained. pip 21.0 will drop support for Python 2.7 in January 2021. More details about Python 2 support in pip can be found at https://pip.pypa.io/en/latest/development/release-process/#python-2-support pip 21.0 will remove support for this functionality.\u001b[0m\n",
      "\u001b[31mERROR: Package 'rsa' requires a different Python: 2.7.17 not in '>=3.5, <4'\u001b[0m\n",
      "openjdk-8-jdk-headless is already the newest version (8u292-b10-0ubuntu1~18.04).\n",
      "The following packages were automatically installed and are no longer required:\n",
      "  linux-image-5.4.0-1041-aws linux-modules-5.4.0-1041-aws\n",
      "Use 'sudo apt autoremove' to remove them.\n",
      "0 upgraded, 0 newly installed, 0 to remove and 42 not upgraded.\n",
      "\u001b[33mDEPRECATION: Python 2.7 reached the end of its life on January 1st, 2020. Please upgrade your Python as Python 2.7 is no longer maintained. pip 21.0 will drop support for Python 2.7 in January 2021. More details about Python 2 support in pip can be found at https://pip.pypa.io/en/latest/development/release-process/#python-2-support pip 21.0 will remove support for this functionality.\u001b[0m\n",
      "Requirement already satisfied: pyarrow in /home/ubuntu/venv/lib/python2.7/site-packages (0.16.0)\n",
      "Requirement already satisfied: six>=1.0.0 in /home/ubuntu/venv/lib/python2.7/site-packages (from pyarrow) (1.16.0)\n",
      "Requirement already satisfied: futures; python_version < \"3.2\" in /home/ubuntu/venv/lib/python2.7/site-packages (from pyarrow) (3.3.0)\n",
      "Requirement already satisfied: numpy>=1.14 in /home/ubuntu/venv/lib/python2.7/site-packages (from pyarrow) (1.16.6)\n",
      "Requirement already satisfied: enum34>=1.1.6; python_version < \"3.4\" in /home/ubuntu/venv/lib/python2.7/site-packages (from pyarrow) (1.1.10)\n"
     ]
    }
   ],
   "source": [
    "!pip install pyspark\n",
    "!pip install -U -q PyDrive\n",
    "!sudo apt install openjdk-8-jdk-headless -qq\n",
    "!pip install pyarrow\n",
    "import os\n",
    "os.environ[\"JAVA_HOME\"] = \"/usr/lib/jvm/java-8-openjdk-amd64\""
   ]
  },
  {
   "cell_type": "code",
   "execution_count": 2,
   "id": "federal-clarity",
   "metadata": {},
   "outputs": [],
   "source": [
    "import numpy as np\n",
    "import pandas as pd\n",
    "import csv\n",
    "import pickle\n",
    "import time\n",
    "import math\n",
    "import collections\n",
    "import os\n",
    "from tqdm import tqdm\n",
    "import pyspark\n",
    "from pyspark.sql import *\n",
    "from pyspark.sql.functions import *\n",
    "from pyspark import SparkContext, SparkConf"
   ]
  },
  {
   "cell_type": "code",
   "execution_count": 3,
   "id": "directed-relevance",
   "metadata": {},
   "outputs": [
    {
     "data": {
      "text/plain": [
       "'35G'"
      ]
     },
     "execution_count": 3,
     "metadata": {},
     "output_type": "execute_result"
    }
   ],
   "source": [
    "# create the session\n",
    "conf = SparkConf().set(\"spark.ui.port\", \"4050\")\n",
    "conf = (conf.setMaster('local[*]')\n",
    "        .set('spark.executor.memory', '35G')\n",
    "        .set('spark.driver.memory', '35G')\n",
    "        .set('spark.driver.maxResultSize', '35G'))\n",
    "# create the context\n",
    "sc = pyspark.SparkContext(conf=conf)\n",
    "spark = SparkSession.builder.getOrCreate()\n",
    "spark.conf.set(\"spark.sql.execution.arrow.enabled\", \"true\")\n",
    "# arrow enabling is what makes the conversion from pandas to spark dataframe really fast\n",
    "sc._conf.get('spark.driver.memory')"
   ]
  },
  {
   "cell_type": "code",
   "execution_count": 4,
   "id": "yellow-victory",
   "metadata": {},
   "outputs": [
    {
     "data": {
      "text/html": [
       "\n",
       "            <div>\n",
       "                <p><b>SparkSession - in-memory</b></p>\n",
       "                \n",
       "        <div>\n",
       "            <p><b>SparkContext</b></p>\n",
       "\n",
       "            <p><a href=\"http://ip-172-31-33-175.us-west-2.compute.internal:4050\">Spark UI</a></p>\n",
       "\n",
       "            <dl>\n",
       "              <dt>Version</dt>\n",
       "                <dd><code>v3.1.1</code></dd>\n",
       "              <dt>Master</dt>\n",
       "                <dd><code>local[*]</code></dd>\n",
       "              <dt>AppName</dt>\n",
       "                <dd><code>pyspark-shell</code></dd>\n",
       "            </dl>\n",
       "        </div>\n",
       "        \n",
       "            </div>\n",
       "        "
      ],
      "text/plain": [
       "<pyspark.sql.session.SparkSession at 0x7fbbd835c4d0>"
      ]
     },
     "execution_count": 4,
     "metadata": {},
     "output_type": "execute_result"
    }
   ],
   "source": [
    "spark"
   ]
  },
  {
   "cell_type": "markdown",
   "id": "graphic-title",
   "metadata": {},
   "source": [
    "## Read in raw data"
   ]
  },
  {
   "cell_type": "code",
   "execution_count": 5,
   "id": "guilty-abortion",
   "metadata": {},
   "outputs": [
    {
     "name": "stdout",
     "output_type": "stream",
     "text": [
      "Reading csv took: 61.42474389076233\n"
     ]
    }
   ],
   "source": [
    "dirPath = '/home/ubuntu/Biomed-Data-Science-NLP-Project/Data/'\n",
    "patientData_filepath = dirPath + 'B220_SAA_v1.csv'\n",
    "CCSR_filepath = dirPath + 'ICD_to_CCSR_20201_1.csv'\n",
    "\n",
    "begin = time.time()\n",
    "# df_pd = pd.read_csv(patientData_filepath, usecols=[0, 1, 2, 3, 5, 6, 7] + list(range(16,41)), nrows=15)\n",
    "\n",
    "## Uncomment this line if you want to see a simple skinny table example\n",
    "# df_pd = pd.read_csv(patientData_filepath, usecols=[0, 1, 2, 3, 5, 6, 7], nrows=15)\n",
    "\n",
    "# df = spark.createDataFrame(df_pd) \n",
    "# df_pd.head()\n",
    "\n",
    "\n",
    "df = spark.read.load(patientData_filepath, format=\"csv\", sep=\",\", inferSchema=\"true\", header=\"true\")\n",
    "end = time.time()\n",
    "print(\"Reading csv took: {}\".format(end - begin))"
   ]
  },
  {
   "cell_type": "code",
   "execution_count": 6,
   "id": "experienced-citizen",
   "metadata": {},
   "outputs": [
    {
     "name": "stdout",
     "output_type": "stream",
     "text": [
      "Cell took 0.18488240242004395\n"
     ]
    }
   ],
   "source": [
    "begin = time.time()\n",
    "df = df.select(df.columns[0:8] + df.columns[16:41])\n",
    "df = df.drop('Type')\n",
    "end = time.time()\n",
    "print(\"Cell took {}\".format(end - begin))"
   ]
  },
  {
   "cell_type": "code",
   "execution_count": 7,
   "id": "secret-lesson",
   "metadata": {},
   "outputs": [
    {
     "name": "stdout",
     "output_type": "stream",
     "text": [
      "Cell took 0.17697405815124512\n"
     ]
    }
   ],
   "source": [
    "from pyspark.sql.window import Window\n",
    "begin = time.time()\n",
    "my_window = Window.partitionBy().orderBy(\"ID\")\n",
    "\n",
    "df = df.withColumn(\"next_Date\", lead(df.Date).over(my_window))\n",
    "df = df.withColumn(\"next_Id\", lead(df.ID).over(my_window))\n",
    "df = df.withColumn(\"datediff\", datediff(col(\"next_Date\"), col(\"Date\")).alias(\"datediff\"))\n",
    "end = time.time()\n",
    "print(\"Cell took {}\".format(end - begin))"
   ]
  },
  {
   "cell_type": "code",
   "execution_count": 8,
   "id": "every-expert",
   "metadata": {},
   "outputs": [
    {
     "name": "stdout",
     "output_type": "stream",
     "text": [
      "Cell took 0.06490874290466309\n"
     ]
    }
   ],
   "source": [
    "begin = time.time()\n",
    "df = df.withColumn(\"label\", when(col(\"ID\") != col(\"next_Id\"), 2)\\\n",
    "              .when(col(\"datediff\") > 30, 0)\\\n",
    "              .when(col(\"datediff\") <= 30, 1)\\\n",
    "              .otherwise(2))\n",
    "end = time.time()\n",
    "print(\"Cell took {}\".format(end - begin))\n",
    "# df.show()"
   ]
  },
  {
   "cell_type": "markdown",
   "id": "professional-spare",
   "metadata": {},
   "source": [
    "check: # union with the test dataset later to not lose these examples???"
   ]
  },
  {
   "cell_type": "code",
   "execution_count": 9,
   "id": "protective-petroleum",
   "metadata": {},
   "outputs": [
    {
     "name": "stdout",
     "output_type": "stream",
     "text": [
      "Cell took 0.04141521453857422\n"
     ]
    }
   ],
   "source": [
    "begin = time.time()\n",
    "# removes rows that will not be used in training\n",
    "df = df.filter(col(\"label\") != 2)\n",
    "# df_label2 = df.filter(col(\"label\") == 2) \n",
    "\n",
    "# Drops columns\n",
    "df = df.drop('next_Id', 'next_Date', 'datediff') \n",
    "end = time.time()\n",
    "print(\"Cell took {}\".format(end - begin))\n",
    "# df.show()"
   ]
  },
  {
   "cell_type": "code",
   "execution_count": 10,
   "id": "auburn-correction",
   "metadata": {},
   "outputs": [
    {
     "name": "stdout",
     "output_type": "stream",
     "text": [
      "Total number of visits: 23457733\n"
     ]
    }
   ],
   "source": [
    "total_count = df.count()\n",
    "print(\"Total number of visits: {}\".format(total_count))"
   ]
  },
  {
   "cell_type": "code",
   "execution_count": 11,
   "id": "incoming-macedonia",
   "metadata": {},
   "outputs": [
    {
     "name": "stdout",
     "output_type": "stream",
     "text": [
      "Cell took 0.02924823760986328\n"
     ]
    }
   ],
   "source": [
    "begin = time.time()\n",
    "df = df.orderBy(rand(seed=1234))\n",
    "end = time.time()\n",
    "print(\"Cell took {}\".format(end - begin))\n",
    "# df.show()"
   ]
  },
  {
   "cell_type": "code",
   "execution_count": 12,
   "id": "allied-installation",
   "metadata": {},
   "outputs": [
    {
     "name": "stdout",
     "output_type": "stream",
     "text": [
      "Cell took 0.021924734115600586\n"
     ]
    }
   ],
   "source": [
    "from pyspark.sql.functions import monotonically_increasing_id \n",
    "begin = time.time()\n",
    "df = df.withColumn(\"index\", monotonically_increasing_id())\n",
    "end = time.time()\n",
    "print(\"Cell took {}\".format(end - begin))"
   ]
  },
  {
   "cell_type": "code",
   "execution_count": 13,
   "id": "rural-paragraph",
   "metadata": {},
   "outputs": [
    {
     "name": "stdout",
     "output_type": "stream",
     "text": [
      "Total count: 23457733\n",
      "Splitting at: 18766186\n"
     ]
    }
   ],
   "source": [
    "split = int(total_count * 0.8)\n",
    "print(\"Total count: {}\".format(total_count))\n",
    "print(\"Splitting at: {}\".format(split))"
   ]
  },
  {
   "cell_type": "code",
   "execution_count": 14,
   "id": "finished-starter",
   "metadata": {},
   "outputs": [
    {
     "name": "stdout",
     "output_type": "stream",
     "text": [
      "Cell took 0.05051612854003906\n"
     ]
    }
   ],
   "source": [
    "begin = time.time()\n",
    "train = df.filter(col(\"index\").between(0, split-1)).drop(\"index\") # repartitin or coalesce after filtering -- 1GB per partition rule\n",
    "# print(\"Size of train: {}\".format(train.count()))\n",
    "end = time.time()\n",
    "print(\"Cell took {}\".format(end - begin))"
   ]
  },
  {
   "cell_type": "code",
   "execution_count": 15,
   "id": "revolutionary-algorithm",
   "metadata": {},
   "outputs": [
    {
     "name": "stdout",
     "output_type": "stream",
     "text": [
      "+--------+-----+------+----------+---+---+--------+---------+-------+-------+------+-------+------+------+------+------+------+-------+-------+-------+-------+-------+-------+-------+-------+-------+-------+-------+-------+-------+-------+-------+-----+\n",
      "|      ID|Visit|Visits|      Date|Age|Sex|    Race|Dx10_prin| Dx10_1| Dx10_2|Dx10_3| Dx10_4|Dx10_5|Dx10_6|Dx10_7|Dx10_8|Dx10_9|Dx10_10|Dx10_11|Dx10_12|Dx10_13|Dx10_14|Dx10_15|Dx10_16|Dx10_17|Dx10_18|Dx10_19|Dx10_20|Dx10_21|Dx10_22|Dx10_23|Dx10_24|label|\n",
      "+--------+-----+------+----------+---+---+--------+---------+-------+-------+------+-------+------+------+------+------+------+-------+-------+-------+-------+-------+-------+-------+-------+-------+-------+-------+-------+-------+-------+-------+-----+\n",
      "| 9156719|    8|    11|2017-07-02| 26|  M|   Black|   R45851|    F29|   F329|  null|   null|  null|  null|  null|  null|  null|   null|   null|   null|   null|   null|   null|   null|   null|   null|   null|   null|   null|   null|   null|   null|    1|\n",
      "|11824654|    3|     4|2017-09-01| 31|  F|   White|   O26891|   R112|   R509| Z3A08|   null|  null|  null|  null|  null|  null|   null|   null|   null|   null|   null|   null|   null|   null|   null|   null|   null|   null|   null|   null|   null|    0|\n",
      "|12948407|    2|     5|2018-05-06| 26|  M|   White|     R109|  Z8709|  Z8659|  null|   null|  null|  null|  null|  null|  null|   null|   null|   null|   null|   null|   null|   null|   null|   null|   null|   null|   null|   null|   null|   null|    0|\n",
      "| 9012002|    1|     3|2015-11-04| 69|  M|   White|     I214|  I5031|  I4901|  G931|   I429|   D62|  D696| E1165| I4891|I25119|    I10|   I350| F17220|   Z880|  Z8249|   E785|   null|   null|   null|   null|   null|   null|   null|   null|   null|    1|\n",
      "| 4774937|    8|    12|2016-11-05| 74|  F|   White|     J441|   R251|    I10|  Z862|  M1990|  F329| Z8673|  null|  null|  null|   null|   null|   null|   null|   null|   null|   null|   null|   null|   null|   null|   null|   null|   null|   null|    0|\n",
      "| 4742454|    1|     6|2016-05-11| 25|  F|   Black|      N61|   N644|   null|  null|   null|  null|  null|  null|  null|  null|   null|   null|   null|   null|   null|   null|   null|   null|   null|   null|   null|   null|   null|   null|   null|    1|\n",
      "| 1342331|    4|     9|2016-06-20| 24|  F|   White|    M7731| M79671|   null|  null|   null|  null|  null|  null|  null|  null|   null|   null|   null|   null|   null|   null|   null|   null|   null|   null|   null|   null|   null|   null|   null|    1|\n",
      "|10965248|   11|    16|2018-10-11| 61|  F|   Asian|     F419|   null|   null|  null|   null|  null|  null|  null|  null|  null|   null|   null|   null|   null|   null|   null|   null|   null|   null|   null|   null|   null|   null|   null|   null|    0|\n",
      "|11604556|    6|    11|2017-10-19| 57|  F|   Black|     R079|   null|   null|  null|   null|  null|  null|  null|  null|  null|   null|   null|   null|   null|   null|   null|   null|   null|   null|   null|   null|   null|   null|   null|   null|    0|\n",
      "| 6185195|    3|     5|2016-09-02| 64|  M| Unknown|  S01111A|S0990XA| M25512|   G20|  F0390|   I10|   Z66|  null|  null|  null|   null|   null|   null|   null|   null|   null|   null|   null|   null|   null|   null|   null|   null|   null|   null|    0|\n",
      "|10747956|    1|     3|2016-12-20| 73|  M|   Asian|     R339|    I10|   null|  null|   null|  null|  null|  null|  null|  null|   null|   null|   null|   null|   null|   null|   null|   null|   null|   null|   null|   null|   null|   null|   null|    1|\n",
      "| 2242193|   13|    14|2017-07-11| 27|  F|   White|    Z5321|   null|   null|  null|   null|  null|  null|  null|  null|  null|   null|   null|   null|   null|   null|   null|   null|   null|   null|   null|   null|   null|   null|   null|   null|    0|\n",
      "| 4202273|    8|    13|2016-09-20| 36|  F|   White|      N12|    I10| Z87891|  null|   null|  null|  null|  null|  null|  null|   null|   null|   null|   null|   null|   null|   null|   null|   null|   null|   null|   null|   null|   null|   null|    1|\n",
      "| 9015131|    3|     9|2016-04-04| 84|  F|Hispanic|     K922|   N170|   E871|  E440|    D62|  I482|  E785| E8342| E8339|  R319|   I350|   Z950|  Z7982|  Z6828|   null|   null|   null|   null|   null|   null|   null|   null|   null|   null|   null|    1|\n",
      "|11220886|    2|    44|2016-07-03| 45|  M|Hispanic|    Z0289|S90822A|S90412A|   Z23|   null|  null|  null|  null|  null|  null|   null|   null|   null|   null|   null|   null|   null|   null|   null|   null|   null|   null|   null|   null|   null|    1|\n",
      "|10806316|   46|    58|2017-11-02| 45|  M|   White|    M6282|    G92|   N170|  N179|T50901A|G40409|  E538|  D509|  F329| F4310|   M545|    I10|  M4317| M47816|  M8588|   Z590|  Z8249|   Z833| Z87820| Z89029|   null|   null|   null|   null|   null|    0|\n",
      "|10493061|    2|    27|2015-11-13| 22|  M|   White|  S20212A|   null|   null|  null|   null|  null|  null|  null|  null|  null|   null|   null|   null|   null|   null|   null|   null|   null|   null|   null|   null|   null|   null|   null|   null|    0|\n",
      "|10050097|    1|    16|2016-05-12| 28|  F|   Black|     K088|   Z882|   null|  null|   null|  null|  null|  null|  null|  null|   null|   null|   null|   null|   null|   null|   null|   null|   null|   null|   null|   null|   null|   null|   null|    0|\n",
      "| 6877836|    3|     6|2016-06-22| 63|  M|   White|  S2242XA|   R079|  Z8659|  null|   null|  null|  null|  null|  null|  null|   null|   null|   null|   null|   null|   null|   null|   null|   null|   null|   null|   null|   null|   null|   null|    0|\n",
      "|14330181|    5|     7|2018-02-08| 27|  F|Hispanic|     J111|   null|   null|  null|   null|  null|  null|  null|  null|  null|   null|   null|   null|   null|   null|   null|   null|   null|   null|   null|   null|   null|   null|   null|   null|    0|\n",
      "+--------+-----+------+----------+---+---+--------+---------+-------+-------+------+-------+------+------+------+------+------+-------+-------+-------+-------+-------+-------+-------+-------+-------+-------+-------+-------+-------+-------+-------+-----+\n",
      "only showing top 20 rows\n",
      "\n",
      "Cell took 197.15790486335754\n"
     ]
    }
   ],
   "source": [
    "begin = time.time()\n",
    "train.show()\n",
    "end = time.time()\n",
    "print(\"Cell took {}\".format(end - begin))"
   ]
  },
  {
   "cell_type": "code",
   "execution_count": 16,
   "id": "eight-olive",
   "metadata": {},
   "outputs": [
    {
     "name": "stdout",
     "output_type": "stream",
     "text": [
      "Cell took 71.42446827888489 18766186\n"
     ]
    }
   ],
   "source": [
    "begin = time.time()\n",
    "train_count = train.count()\n",
    "end = time.time()\n",
    "print(\"Cell took {}\".format(end - begin), train_count)"
   ]
  },
  {
   "cell_type": "code",
   "execution_count": 17,
   "id": "strong-series",
   "metadata": {},
   "outputs": [
    {
     "name": "stdout",
     "output_type": "stream",
     "text": [
      "Cell took 0.036742448806762695\n"
     ]
    }
   ],
   "source": [
    "begin = time.time()\n",
    "test = df.filter(col(\"index\").between(split,total_count)).drop(\"index\")\n",
    "end = time.time()\n",
    "print(\"Cell took {}\".format(end - begin))"
   ]
  },
  {
   "cell_type": "code",
   "execution_count": 18,
   "id": "neither-bumper",
   "metadata": {},
   "outputs": [
    {
     "name": "stdout",
     "output_type": "stream",
     "text": [
      "+--------+-----+------+----------+---+---+--------+---------+-------+------+------+------+------+------+------+------+------+-------+-------+-------+-------+-------+-------+-------+-------+-------+-------+-------+-------+-------+-------+-------+-----+\n",
      "|      ID|Visit|Visits|      Date|Age|Sex|    Race|Dx10_prin| Dx10_1|Dx10_2|Dx10_3|Dx10_4|Dx10_5|Dx10_6|Dx10_7|Dx10_8|Dx10_9|Dx10_10|Dx10_11|Dx10_12|Dx10_13|Dx10_14|Dx10_15|Dx10_16|Dx10_17|Dx10_18|Dx10_19|Dx10_20|Dx10_21|Dx10_22|Dx10_23|Dx10_24|label|\n",
      "+--------+-----+------+----------+---+---+--------+---------+-------+------+------+------+------+------+------+------+------+-------+-------+-------+-------+-------+-------+-------+-------+-------+-------+-------+-------+-------+-------+-------+-----+\n",
      "| 4303535|    1|     6|2015-10-14| 18|  F|Hispanic|     N390|   null|  null|  null|  null|  null|  null|  null|  null|  null|   null|   null|   null|   null|   null|   null|   null|   null|   null|   null|   null|   null|   null|   null|   null|    0|\n",
      "| 3824128|   19|    36|2017-07-12| 58|  M|   White|  T83018A|   E119|  Z794|   I10| E7800|  null|  null|  null|  null|  null|   null|   null|   null|   null|   null|   null|   null|   null|   null|   null|   null|   null|   null|   null|   null|    1|\n",
      "| 1676357|    4|    23|2016-05-03| 66|  F|   Black|     Z431|   null|  null|  null|  null|  null|  null|  null|  null|  null|   null|   null|   null|   null|   null|   null|   null|   null|   null|   null|   null|   null|   null|   null|   null|    1|\n",
      "| 3429391|   15|    16|2018-05-25| 53|  M|Hispanic|     Z760|  I4891| I5022|   I10| F1010|  N400|G40909|Z98890|  Z888|  null|   null|   null|   null|   null|   null|   null|   null|   null|   null|   null|   null|   null|   null|   null|   null|    1|\n",
      "| 4881391|    1|     5|2016-01-10| 39|  M|   Black|  S61212A| M79641|  null|  null|  null|  null|  null|  null|  null|  null|   null|   null|   null|   null|   null|   null|   null|   null|   null|   null|   null|   null|   null|   null|   null|    1|\n",
      "| 6909658|    4|     5|2016-05-30| 46|  F|   White|  T63481A|S70361A|J45901| R1013|  F419|Z79899|  null|  null|  null|  null|   null|   null|   null|   null|   null|   null|   null|   null|   null|   null|   null|   null|   null|   null|   null|    0|\n",
      "| 6311549|    4|     6|2017-10-27| 34|  M|   White|  S0031XA| F17200|  null|  null|  null|  null|  null|  null|  null|  null|   null|   null|   null|   null|   null|   null|   null|   null|   null|   null|   null|   null|   null|   null|   null|    0|\n",
      "| 3169923|    2|     3|2018-07-24| 22|  M|Hispanic|   H60501|   E669| Z6843|  null|  null|  null|  null|  null|  null|  null|   null|   null|   null|   null|   null|   null|   null|   null|   null|   null|   null|   null|   null|   null|   null|    0|\n",
      "|  732822|    1|    11|2015-12-07| 95|  F|   White|      R55|   Z950|  F411| F0390|  R509|   I10|  M810|  I700|  I441|Z86718|  Z7982|   null|   null|   null|   null|   null|   null|   null|   null|   null|   null|   null|   null|   null|   null|    1|\n",
      "| 4981191|    4|     5|2017-12-18| 62|  M|   White|     I639|  R6521|   E43|   G92|  R571|L89159| R1319|  E870| F0390|  E860|  J9601|  E8342|    I38|  B9689|   D638|   E876|   I493|   N390|    Z66|  Z7982| Z79899|  Z8673| Z87440|  Z6821| Z22322|    1|\n",
      "|12797848|   10|    11|2018-08-16| 48|  M|   White|    R1031|   F419|J45909| K5730|  N200|  K760|  Z833|Z87442|  null|  null|   null|   null|   null|   null|   null|   null|   null|   null|   null|   null|   null|   null|   null|   null|   null|    0|\n",
      "|10270741|    3|    11|2015-10-26| 25|  F|   White|     O200|  Z3A09|  Z880|  null|  null|  null|  null|  null|  null|  null|   null|   null|   null|   null|   null|   null|   null|   null|   null|   null|   null|   null|   null|   null|   null|    1|\n",
      "|10313384|    4|    12|2016-08-13| 54|  F|Hispanic|    R0789|    I10|  M329|  E669| Z6842| Z9049|  null|  null|  null|  null|   null|   null|   null|   null|   null|   null|   null|   null|   null|   null|   null|   null|   null|   null|   null|    0|\n",
      "| 7509893|    6|    28|2016-03-27| 55|  M|   White|   F10129|   F329|   I10|  K219|F17200|  null|  null|  null|  null|  null|   null|   null|   null|   null|   null|   null|   null|   null|   null|   null|   null|   null|   null|   null|   null|    0|\n",
      "|11564044|    6|    15|2017-08-21| 44|  M|   Black|   L03011|   E119|   Z23|  null|  null|  null|  null|  null|  null|  null|   null|   null|   null|   null|   null|   null|   null|   null|   null|   null|   null|   null|   null|   null|   null|    1|\n",
      "|11505935|    4|    14|2016-01-26| 19|  F|   Black|    Z3201|   null|  null|  null|  null|  null|  null|  null|  null|  null|   null|   null|   null|   null|   null|   null|   null|   null|   null|   null|   null|   null|   null|   null|   null|    1|\n",
      "| 9477617|    1|     6|2015-11-16|  1|  M|   White|    R0602|    R05|  J209|  J050|  null|  null|  null|  null|  null|  null|   null|   null|   null|   null|   null|   null|   null|   null|   null|   null|   null|   null|   null|   null|   null|    0|\n",
      "|10258015|    2|     4|2017-06-20| 41|  F|Hispanic|   H00031|   J329|F17200|  null|  null|  null|  null|  null|  null|  null|   null|   null|   null|   null|   null|   null|   null|   null|   null|   null|   null|   null|   null|   null|   null|    1|\n",
      "|10297408|    1|    12|2016-01-08| 93|  M|   White|     G459|   I509|   I10|  E039|  N400|  Z952|  Z950| Z8673| Z7901|  null|   null|   null|   null|   null|   null|   null|   null|   null|   null|   null|   null|   null|   null|   null|   null|    1|\n",
      "|12896318|    6|     8|2017-07-19| 41|  F|   White|  S39012A| F17210|  null|  null|  null|  null|  null|  null|  null|  null|   null|   null|   null|   null|   null|   null|   null|   null|   null|   null|   null|   null|   null|   null|   null|    0|\n",
      "+--------+-----+------+----------+---+---+--------+---------+-------+------+------+------+------+------+------+------+------+-------+-------+-------+-------+-------+-------+-------+-------+-------+-------+-------+-------+-------+-------+-------+-----+\n",
      "only showing top 20 rows\n",
      "\n",
      "Cell took 194.39614820480347\n"
     ]
    }
   ],
   "source": [
    "begin = time.time()\n",
    "test.show()\n",
    "end = time.time()\n",
    "print(\"Cell took {}\".format(end - begin))"
   ]
  },
  {
   "cell_type": "code",
   "execution_count": 19,
   "id": "confused-daniel",
   "metadata": {},
   "outputs": [
    {
     "name": "stdout",
     "output_type": "stream",
     "text": [
      "4691547\n",
      "Cell took 69.69048237800598\n"
     ]
    }
   ],
   "source": [
    "begin = time.time()\n",
    "test_count = test.count()\n",
    "print(test_count)\n",
    "end = time.time()\n",
    "print(\"Cell took {}\".format(end - begin))"
   ]
  },
  {
   "cell_type": "markdown",
   "id": "sunset-actress",
   "metadata": {},
   "source": [
    "## Save train and test to csv"
   ]
  },
  {
   "cell_type": "code",
   "execution_count": 20,
   "id": "engaged-disney",
   "metadata": {},
   "outputs": [],
   "source": [
    "# train.write.mode('overwrite').parquet(dirPath + \"train\")"
   ]
  },
  {
   "cell_type": "code",
   "execution_count": 21,
   "id": "oriental-moment",
   "metadata": {},
   "outputs": [],
   "source": [
    "# train_df = train.toPandas()"
   ]
  },
  {
   "cell_type": "code",
   "execution_count": 22,
   "id": "australian-enclosure",
   "metadata": {},
   "outputs": [
    {
     "name": "stdout",
     "output_type": "stream",
     "text": [
      "Cell took 255.01294088363647\n"
     ]
    }
   ],
   "source": [
    "begin = time.time()\n",
    "train.write.format('csv').option('header', True).option('sep',',').mode('overwrite').save(dirPath + 'train')\n",
    "end = time.time()\n",
    "print(\"Cell took {}\".format(end - begin))"
   ]
  },
  {
   "cell_type": "code",
   "execution_count": 23,
   "id": "oriented-sacrifice",
   "metadata": {},
   "outputs": [
    {
     "name": "stdout",
     "output_type": "stream",
     "text": [
      "Cell took 218.47496604919434\n"
     ]
    }
   ],
   "source": [
    "begin = time.time()\n",
    "test.write.format('csv').option('header', True).option('sep',',').mode('overwrite').save(dirPath + 'test')\n",
    "end = time.time()\n",
    "print(\"Cell took {}\".format(end - begin))"
   ]
  },
  {
   "cell_type": "code",
   "execution_count": 24,
   "id": "british-heart",
   "metadata": {},
   "outputs": [
    {
     "name": "stdout",
     "output_type": "stream",
     "text": [
      "Cell took 27.897841930389404\n",
      "18766186 18766186\n"
     ]
    }
   ],
   "source": [
    "begin = time.time()\n",
    "train_loaded = spark.read.format(\"csv\").load(dirPath + \"train\",\n",
    "                     sep=\",\", inferSchema=\"true\", header=\"true\")\n",
    "end = time.time()\n",
    "print(\"Cell took {}\".format(end - begin))\n",
    "train_count_loaded = train_loaded.count()\n",
    "print(train_count_loaded, train_count)"
   ]
  },
  {
   "cell_type": "code",
   "execution_count": 25,
   "id": "united-roman",
   "metadata": {},
   "outputs": [
    {
     "name": "stdout",
     "output_type": "stream",
     "text": [
      "Cell took 7.800708055496216\n",
      "4691547 4691547\n"
     ]
    }
   ],
   "source": [
    "begin = time.time()\n",
    "test_loaded = spark.read.load(dirPath + \"test\",\n",
    "                     format=\"csv\", sep=\",\", inferSchema=\"true\", header=\"true\")\n",
    "end = time.time()\n",
    "print(\"Cell took {}\".format(end - begin))\n",
    "test_count_loaded = test_loaded.count()\n",
    "print(test_count_loaded, test_count)"
   ]
  },
  {
   "cell_type": "code",
   "execution_count": null,
   "id": "regular-knife",
   "metadata": {},
   "outputs": [],
   "source": []
  }
 ],
 "metadata": {
  "kernelspec": {
   "display_name": "Python 3",
   "language": "python",
   "name": "python3"
  },
  "language_info": {
   "codemirror_mode": {
    "name": "ipython",
    "version": 3
   },
   "file_extension": ".py",
   "mimetype": "text/x-python",
   "name": "python",
   "nbconvert_exporter": "python",
   "pygments_lexer": "ipython3",
   "version": "3.7.10"
  }
 },
 "nbformat": 4,
 "nbformat_minor": 5
}
