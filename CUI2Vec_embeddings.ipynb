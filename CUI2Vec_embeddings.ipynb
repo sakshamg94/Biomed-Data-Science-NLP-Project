{
 "cells": [
  {
   "cell_type": "markdown",
   "metadata": {},
   "source": [
    "# CUI2Vec Embeddings"
   ]
  },
  {
   "cell_type": "markdown",
   "metadata": {},
   "source": [
    "CUI2Vec is an embedding strategy for multi-modal data that creates embeddings of 108,477 medical concepts. The model was trained on 60 million members, 20 million clinical notes, and 1.7 million full text biomedical journal articles. For the purposes of our project, we will be using just the ICD-9 code embeddings. While the CUI2Vec provides embeddings for various billing codes, only ICD-9 codes are relevant to our project, thus we filter for embeddings that are labeled with 'IDX', as seen in the code below."
   ]
  },
  {
   "cell_type": "markdown",
   "metadata": {},
   "source": [
    "### Source"
   ]
  },
  {
   "cell_type": "markdown",
   "metadata": {},
   "source": [
    "CUI2Vec Paper: https://psb.stanford.edu/psb-online/proceedings/psb20/Beam.pdf\n",
    "\n",
    "Downloadable embeddings file: https://github.com/clinicalml/embeddings/blob/master/claims_codes_hs_300.txt.gz"
   ]
  },
  {
   "cell_type": "markdown",
   "metadata": {},
   "source": [
    "### Data"
   ]
  },
  {
   "cell_type": "markdown",
   "metadata": {},
   "source": [
    "The data is stored in a `txt` file. Each line contains three key elements. \n",
    "\n",
    "1. The first element is the name of the code being embedded. For example, an ICD-9 code may look like `IDX401.1`. Other types of codes will look different, such as starting with 'N' followed by numerals. For the sake of this project, we only care about retrieving ICD-9 codes so we will filter for rows where the first token begins with `IDX`. The rest of the code specifcies that actual code, which in this case would be `401.1` The first three characters are important because they are usually enough to describe the general diagnosis. Anything after the period only provide more specificity. In practice, we see both the shortened version (`401`) and extended version (`4011`) used. Notice, the period is not used in practice. To account for the variabile use in our training dataset, we save embeddings using both versions of the ICD code, the shortened and extended version.\n",
    "\n",
    "2. After the ICD-9 code, the second element is a series of 300 floating-point numbers, corresponding the actual embedding. We read these numbers into a numpy array.\n",
    "\n",
    "3. The final element in the line is a line-terminating character `\\n`."
   ]
  },
  {
   "cell_type": "markdown",
   "metadata": {},
   "source": [
    "Our approach for downloaded the CUI2Vec embeddings follows three simple steps:\n",
    "1. Open the file containing embeddings and filter for rows that begin with `ICX`. \n",
    "2. Parse ICD-9 codes into a shortened and extended version, if applicable. Store the embedding in a numpy array\n",
    "3. Save the embedding in a dictionary. If the shortened code hasn't been used before then save the embedding to the shortened code. If the extended version exists, also save the embedding to the extended code."
   ]
  },
  {
   "cell_type": "code",
   "execution_count": 2,
   "metadata": {},
   "outputs": [],
   "source": [
    "import numpy as np\n",
    "import pickle\n",
    "import os"
   ]
  },
  {
   "cell_type": "markdown",
   "metadata": {},
   "source": [
    "### Unzip data:\n",
    "Before moving on, besure to run in terminal: \n",
    "\n",
    "`unzip Data/BIODS220_ICD_Dx_10_9_v7 - icd_dx_10_9_v7.zip`\n",
    "\n",
    "`unzip Data/claims_codes_hs_300.txt.gz` \n",
    "        "
   ]
  },
  {
   "cell_type": "code",
   "execution_count": 5,
   "metadata": {},
   "outputs": [
    {
     "name": "stdout",
     "output_type": "stream",
     "text": [
      "['Confusion_matrix_model_1.png', 'model_w2v.ipynb', 'embeddings.ipynb', 'README.md', '.DS_Store', '__pycache__', 'CUI2Vec_embedding.pickle', 'embeddings_word2vec-google-news-300.pickle', 'add_labels.py', '.ipynb_checkpoints', 'data_X_data_Y.pkl', 'CUI2Vec_embeddings.ipynb', '.gitignore', 'B220_SAA_v1.csv', 'plot_confusion_matrix.py', 'LICENSE', 'project_model.py', 'Biomed-Data-Science-NLP-Project', 'CUI2Vec_embeddings', 'patient_dataframe.pkl', '.git', 'BIODS220_ICD_Dx_10_9_v7 - icd_dx_10_9_v7.csv', 'ICD_Label_Cleaned_Oct_25.csv', 'model_CUI2vec.ipynb']\n"
     ]
    }
   ],
   "source": [
    "print(os.listdir('.'))"
   ]
  },
  {
   "cell_type": "code",
   "execution_count": 21,
   "metadata": {},
   "outputs": [],
   "source": [
    "# !gzip -d ./Data/claims_codes_hs_300.txt.gz"
   ]
  },
  {
   "cell_type": "code",
   "execution_count": 6,
   "metadata": {},
   "outputs": [],
   "source": [
    "ICD_code_dict_file_path = 'CUI2Vec_embeddings/Data/BIODS220_ICD_Dx_10_9_v7 - icd_dx_10_9_v7.csv'\n",
    "embeddings_file_path = 'CUI2Vec_embeddings/Data/claims_codes_hs_300.txt' # Download file from link above and change file_path as necessary"
   ]
  },
  {
   "cell_type": "code",
   "execution_count": 7,
   "metadata": {},
   "outputs": [],
   "source": [
    "ICD_codes = {} # Maps an ICD_9 to ICD_10 code\n",
    "with open(ICD_code_dict_file_path) as f:\n",
    "    for row in f.readlines():\n",
    "        tokens = row.split(',')\n",
    "        ICD_codes[tokens[1]] = tokens[0]"
   ]
  },
  {
   "cell_type": "code",
   "execution_count": 8,
   "metadata": {},
   "outputs": [],
   "source": [
    "def convertICD9toICD10(icd_9_code):\n",
    "    icd_9_code = icd_9_code.replace('.','')\n",
    "    try:\n",
    "        icd_10_code = ICD_codes[icd_9_code]\n",
    "    except:\n",
    "            try:\n",
    "                icd_10_code = ICD_codes[icd_9_code + '0']\n",
    "            except:\n",
    "                try:\n",
    "                    icd_10_code = ICD_codes[icd_9_code[:-1] + '0']\n",
    "                except:\n",
    "                    try:\n",
    "                        icd_10_code = ICD_codes[icd_9_code + '9']\n",
    "                    except:\n",
    "                        try:\n",
    "                            icd_10_code = ICD_codes[icd_9_code[:-1] + '9']\n",
    "                        except:\n",
    "                            icd_10_code = None\n",
    "    return icd_10_code"
   ]
  },
  {
   "cell_type": "code",
   "execution_count": 9,
   "metadata": {},
   "outputs": [],
   "source": [
    "# Pase embeddings\n",
    "embeddings = {}\n",
    "\n",
    "with open(embeddings_file_path) as f:\n",
    "    for row in f.readlines():\n",
    "        tokens = row.split(' ')\n",
    "        \n",
    "        # Step 1: Filter for ICD-9 embeddings\n",
    "        if 'IDX' == tokens[0][:3]: \n",
    "            \n",
    "            # Step 2: Parse input for ICD-9 code and embedding\n",
    "            embedding = np.array(tokens[1:-1])  \n",
    "            icd_9_code = tokens[0][4:] # removes IDX_ prefix i.e. IDX_401.1 becomes 401.1\n",
    "            icd_10_code = convertICD9toICD10(icd_9_code)  \n",
    "            \n",
    "            if icd_10_code is None:\n",
    "                continue\n",
    "            \n",
    "            # Step 3: Save embedding to dictionary\n",
    "            embeddings[icd_10_code] = embedding.astype('float')\n",
    "\n",
    "            # Save shortened version if it's not already saved\n",
    "            shortened_code = icd_10_code[:3]\n",
    "            try:\n",
    "                embeddings[shortened_code]\n",
    "            except:\n",
    "                embeddings[shortened_code] = embedding.astype('float')"
   ]
  },
  {
   "cell_type": "code",
   "execution_count": 10,
   "metadata": {},
   "outputs": [],
   "source": [
    "# Save embeddings using pickle\n",
    "filename = 'CUI2Vec_embedding.pickle'\n",
    "with open(filename, 'wb') as file:\n",
    "    pickle.dump(embeddings, file, protocol=pickle.HIGHEST_PROTOCOL)"
   ]
  },
  {
   "cell_type": "code",
   "execution_count": 11,
   "metadata": {},
   "outputs": [
    {
     "data": {
      "text/plain": [
       "10683"
      ]
     },
     "execution_count": 11,
     "metadata": {},
     "output_type": "execute_result"
    }
   ],
   "source": [
    "len(embeddings)"
   ]
  },
  {
   "cell_type": "code",
   "execution_count": 3,
   "metadata": {},
   "outputs": [],
   "source": [
    "filename = 'CUI2Vec_embedding.pickle'\n",
    "with open(filename, 'rb') as file:\n",
    "    embeddings = pickle.load(file)"
   ]
  },
  {
   "cell_type": "code",
   "execution_count": 16,
   "metadata": {},
   "outputs": [
    {
     "data": {
      "text/plain": [
       "(300,)"
      ]
     },
     "execution_count": 16,
     "metadata": {},
     "output_type": "execute_result"
    }
   ],
   "source": [
    "embeddings['E785'].shape\n"
   ]
  },
  {
   "cell_type": "code",
   "execution_count": null,
   "metadata": {},
   "outputs": [],
   "source": []
  }
 ],
 "metadata": {
  "kernelspec": {
   "display_name": "Python 3",
   "language": "python",
   "name": "python3"
  },
  "language_info": {
   "codemirror_mode": {
    "name": "ipython",
    "version": 3
   },
   "file_extension": ".py",
   "mimetype": "text/x-python",
   "name": "python",
   "nbconvert_exporter": "python",
   "pygments_lexer": "ipython3",
   "version": "3.6.6"
  }
 },
 "nbformat": 4,
 "nbformat_minor": 4
}
