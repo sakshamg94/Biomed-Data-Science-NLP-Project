{
 "cells": [
  {
   "cell_type": "markdown",
   "metadata": {},
   "source": [
    "# Word2Vec Embeddings - Using PySpark and PyArrow (distributed ML)"
   ]
  },
  {
   "cell_type": "code",
   "execution_count": 29,
   "metadata": {},
   "outputs": [],
   "source": [
    "import numpy as np\n",
    "import pandas as pd\n",
    "import csv\n",
    "import pickle\n",
    "import time\n",
    "import math\n",
    "import collections\n",
    "import os\n",
    "from tqdm import tqdm"
   ]
  },
  {
   "cell_type": "code",
   "execution_count": 2,
   "metadata": {},
   "outputs": [
    {
     "name": "stdout",
     "output_type": "stream",
     "text": [
      "Requirement already satisfied: pyspark in /home/ubuntu/anaconda3/lib/python3.7/site-packages (3.1.1)\n",
      "Requirement already satisfied: py4j==0.10.9 in /home/ubuntu/anaconda3/lib/python3.7/site-packages (from pyspark) (0.10.9)\n",
      "openjdk-8-jdk-headless is already the newest version (8u282-b08-0ubuntu1~18.04).\n",
      "0 upgraded, 0 newly installed, 0 to remove and 18 not upgraded.\n",
      "Requirement already satisfied: pyarrow in /home/ubuntu/anaconda3/lib/python3.7/site-packages (3.0.0)\n",
      "Requirement already satisfied: numpy>=1.16.6 in /home/ubuntu/anaconda3/lib/python3.7/site-packages (from pyarrow) (1.19.2)\n"
     ]
    }
   ],
   "source": [
    "# !pip install pyspark\n",
    "# !pip install -U -q PyDrive\n",
    "# !sudo apt install openjdk-8-jdk-headless -qq\n",
    "# !pip install pyarrow\n",
    "# import os\n",
    "# os.environ[\"JAVA_HOME\"] = \"/usr/lib/jvm/java-8-openjdk-amd64\""
   ]
  },
  {
   "cell_type": "code",
   "execution_count": 2,
   "metadata": {},
   "outputs": [],
   "source": [
    "import pyspark\n",
    "from pyspark.sql import *\n",
    "from pyspark.sql.functions import *\n",
    "from pyspark import SparkContext, SparkConf"
   ]
  },
  {
   "cell_type": "markdown",
   "metadata": {},
   "source": [
    "initialise spark context"
   ]
  },
  {
   "cell_type": "code",
   "execution_count": 3,
   "metadata": {},
   "outputs": [
    {
     "data": {
      "text/plain": [
       "'35G'"
      ]
     },
     "execution_count": 3,
     "metadata": {},
     "output_type": "execute_result"
    }
   ],
   "source": [
    "# create the session\n",
    "conf = SparkConf().set(\"spark.ui.port\", \"4050\")\n",
    "conf = (conf.setMaster('local[*]')\n",
    "        .set('spark.executor.memory', '35G')\n",
    "        .set('spark.driver.memory', '35G')\n",
    "        .set('spark.driver.maxResultSize', '35G'))\n",
    "# create the context\n",
    "sc = pyspark.SparkContext(conf=conf)\n",
    "spark = SparkSession.builder.getOrCreate()\n",
    "spark.conf.set(\"spark.sql.execution.arrow.enabled\", \"true\")\n",
    "# arrow enabling is what makes the conversion from pandas to spark dataframe really fast\n",
    "sc._conf.get('spark.driver.memory')"
   ]
  },
  {
   "cell_type": "code",
   "execution_count": 4,
   "metadata": {},
   "outputs": [
    {
     "data": {
      "text/html": [
       "\n",
       "            <div>\n",
       "                <p><b>SparkSession - in-memory</b></p>\n",
       "                \n",
       "        <div>\n",
       "            <p><b>SparkContext</b></p>\n",
       "\n",
       "            <p><a href=\"http://ip-172-31-33-175.us-west-2.compute.internal:4050\">Spark UI</a></p>\n",
       "\n",
       "            <dl>\n",
       "              <dt>Version</dt>\n",
       "                <dd><code>v3.1.1</code></dd>\n",
       "              <dt>Master</dt>\n",
       "                <dd><code>local[*]</code></dd>\n",
       "              <dt>AppName</dt>\n",
       "                <dd><code>pyspark-shell</code></dd>\n",
       "            </dl>\n",
       "        </div>\n",
       "        \n",
       "            </div>\n",
       "        "
      ],
      "text/plain": [
       "<pyspark.sql.session.SparkSession at 0x7fca20faea50>"
      ]
     },
     "execution_count": 4,
     "metadata": {},
     "output_type": "execute_result"
    }
   ],
   "source": [
    "spark"
   ]
  },
  {
   "cell_type": "markdown",
   "metadata": {},
   "source": [
    "# Step 1: No need to read in data if `CORPUS` is already saved (Skip to Step 2)"
   ]
  },
  {
   "cell_type": "code",
   "execution_count": 5,
   "metadata": {},
   "outputs": [],
   "source": [
    "dirPath = '/home/ubuntu/Biomed-Data-Science-NLP-Project/Data/'\n",
    "patientData_filepath = dirPath + 'B220_SAA_v1.csv'\n",
    "CCSR_filepath = dirPath + 'ICD_to_CCSR_20201_1.csv'"
   ]
  },
  {
   "cell_type": "code",
   "execution_count": 6,
   "metadata": {},
   "outputs": [],
   "source": [
    "def read_csv_to_dict(file_path: str, key: int, value: int):\n",
    "    ret_dict = {}\n",
    "    with open(file_path, newline='') as csvfile:\n",
    "        data = csv.reader(csvfile, delimiter=',')\n",
    "        for row in data:\n",
    "            ret_dict[row[key][1:-1]] = row[value][1:-1] # \"'icd_code'\"\n",
    "    print(\"Reading {} complete!\".format(file_path))\n",
    "    return ret_dict"
   ]
  },
  {
   "cell_type": "code",
   "execution_count": 7,
   "metadata": {},
   "outputs": [
    {
     "name": "stdout",
     "output_type": "stream",
     "text": [
      "Reading /home/ubuntu/Biomed-Data-Science-NLP-Project/Data/ICD_to_CCSR_20201_1.csv complete!\n",
      "519 CCSR categories\n"
     ]
    }
   ],
   "source": [
    "icd_to_ccsr_code = read_csv_to_dict(CCSR_filepath, key=0, value=6) # 'icd_code' -> 'CCSR_code'\n",
    "ccsr_codes = list(np.unique(list(icd_to_ccsr_code.values())))\n",
    "ccsr_codes.remove('CCSR CATEGORY 1')\n",
    "\n",
    "ccsr_code_to_index = collections.defaultdict(int)\n",
    "for i, ccsr_code in enumerate(ccsr_codes):\n",
    "    ccsr_code_to_index[ccsr_code] = i\n",
    "    \n",
    "print(\"{} CCSR categories\".format(len(ccsr_code_to_index.keys())))"
   ]
  },
  {
   "cell_type": "code",
   "execution_count": 8,
   "metadata": {},
   "outputs": [
    {
     "name": "stdout",
     "output_type": "stream",
     "text": [
      "Read data in 2.3586618741353353 minutes\n",
      "Corpus complete in 6.171533286571503 minutes\n"
     ]
    }
   ],
   "source": [
    "s1 = time.time()\n",
    "icd_codes_table = pd.read_csv(patientData_filepath, usecols=range(16,41))\n",
    "s2 = time.time()\n",
    "print(\"Read data in {} minutes\".format((s2-s1)/60))\n",
    "corpus = [[elem for elem in row if type(elem) == str] for row in icd_codes_table.values.tolist()]\n",
    "# corpus = [[icd1, icd2, icd3], [icd1, icd2],...]\n",
    "s3 = time.time()\n",
    "print(\"Corpus complete in {} minutes\".format((s3-s1)/60))"
   ]
  },
  {
   "cell_type": "code",
   "execution_count": 9,
   "metadata": {},
   "outputs": [
    {
     "data": {
      "text/plain": [
       "27977932"
      ]
     },
     "execution_count": 9,
     "metadata": {},
     "output_type": "execute_result"
    }
   ],
   "source": [
    "len(corpus)"
   ]
  },
  {
   "cell_type": "code",
   "execution_count": 10,
   "metadata": {},
   "outputs": [],
   "source": [
    "def sentenceToCCSR(sentence):\n",
    "    ccsrSentence = \"\"\n",
    "    for i, ICD_code in enumerate(sentence):\n",
    "        if i==0:\n",
    "            try:\n",
    "                ccsr_code = str(icd_to_ccsr_code[ICD_code])\n",
    "                ccsrSentence += ccsr_code\n",
    "            except:\n",
    "                pass\n",
    "        else:\n",
    "            try:\n",
    "                ccsr_code = str(icd_to_ccsr_code[ICD_code])\n",
    "                ccsrSentence += \" \" + ccsr_code\n",
    "            except:\n",
    "                pass\n",
    "    return ccsrSentence"
   ]
  },
  {
   "cell_type": "code",
   "execution_count": 11,
   "metadata": {},
   "outputs": [
    {
     "name": "stderr",
     "output_type": "stream",
     "text": [
      "27977932it [01:56, 240484.55it/s]\n"
     ]
    }
   ],
   "source": [
    "# Cycle through each sentence in corpus and generate stringed CCSR sentences\n",
    "stringed_sentences = []\n",
    "for s, inSentence in tqdm(enumerate(corpus)):\n",
    "    sentence = sentenceToCCSR(inSentence) # ICD -> CCSR\n",
    "    if sentence is not \"\":\n",
    "        stringed_sentences.append(sentence)"
   ]
  },
  {
   "cell_type": "code",
   "execution_count": 12,
   "metadata": {},
   "outputs": [],
   "source": [
    "filename = dirPath + \"stringed_CCSR_sentences.pkl\""
   ]
  },
  {
   "cell_type": "markdown",
   "metadata": {},
   "source": [
    "uncomment this to save the file"
   ]
  },
  {
   "cell_type": "code",
   "execution_count": 13,
   "metadata": {},
   "outputs": [],
   "source": [
    "# with open(filename, 'wb') as handle:\n",
    "#     pickle.dump(stringed_sentences, handle)"
   ]
  },
  {
   "cell_type": "markdown",
   "metadata": {},
   "source": [
    "# Step 2: Load the `CORPUS` of CCSR codes in patient visits"
   ]
  },
  {
   "cell_type": "code",
   "execution_count": 14,
   "metadata": {},
   "outputs": [],
   "source": [
    "with open(filename, 'rb') as handle:\n",
    "    stringed_sentences = pickle.load(handle)"
   ]
  },
  {
   "cell_type": "code",
   "execution_count": 15,
   "metadata": {},
   "outputs": [],
   "source": [
    "corpus = icd_to_ccsr_code = icd_codes_table = ccsr_code_to_index  = ccsr_codes = None"
   ]
  },
  {
   "cell_type": "markdown",
   "metadata": {},
   "source": [
    "## Create PySpark DataFrame from Pandas"
   ]
  },
  {
   "cell_type": "code",
   "execution_count": 16,
   "metadata": {},
   "outputs": [
    {
     "name": "stdout",
     "output_type": "stream",
     "text": [
      "time taken : 1.6443612575531006\n",
      "time taken : 25.735881805419922\n",
      "root\n",
      " |-- sentences: string (nullable = true)\n",
      "\n",
      "+--------------------+\n",
      "|           sentences|\n",
      "+--------------------+\n",
      "|INJ017 MUS011 INJ027|\n",
      "|              GEN025|\n",
      "|       MBD017 GEN004|\n",
      "|CIR012 SYM013 MBD024|\n",
      "|              GEN004|\n",
      "|GEN009 NVS019 MUS...|\n",
      "|              GEN004|\n",
      "|       SYM004 MUS010|\n",
      "|       MUS010 MUS010|\n",
      "|MBD018 SYM004 NVS...|\n",
      "|              INJ024|\n",
      "|              DIG022|\n",
      "|MUS011 NVS019 NVS016|\n",
      "|MUS011 NVS019 NVS016|\n",
      "|       NVS019 MUS010|\n",
      "|NVS019 MUS038 NVS016|\n",
      "|GEN016 FAC021 FAC021|\n",
      "|NVS019 MUS038 MUS...|\n",
      "|       NVS016 NVS019|\n",
      "|SYM004 SYM006 SYM...|\n",
      "+--------------------+\n",
      "only showing top 20 rows\n",
      "\n"
     ]
    }
   ],
   "source": [
    "tic = time.time()\n",
    "df = pd.DataFrame(stringed_sentences, columns = ['sentences'])\n",
    "toc = time.time()\n",
    "print(\"time taken : {}s\".format(toc - tic))\n",
    "del stringed_sentences\n",
    "\n",
    "# convert to Spark DF\n",
    "sparkDF=spark.createDataFrame(df) \n",
    "print(\"time taken : {}s\".format(time.time() - toc))\n",
    "sparkDF.printSchema()\n",
    "sparkDF.show()"
   ]
  },
  {
   "cell_type": "markdown",
   "metadata": {},
   "source": [
    "Cannot save spark dataframes as it is gives a ` can't pickle _thread.RLock objects` Typeerror. Because of parallelized implementation"
   ]
  },
  {
   "cell_type": "markdown",
   "metadata": {},
   "source": [
    "## Tokenize the stringed CCSR sentences"
   ]
  },
  {
   "cell_type": "code",
   "execution_count": 39,
   "metadata": {},
   "outputs": [
    {
     "name": "stdout",
     "output_type": "stream",
     "text": [
      "time taken : 0.03626561164855957\n"
     ]
    }
   ],
   "source": [
    "from pyspark.ml.feature import Tokenizer\n",
    "from pyspark.ml.feature import Word2Vec, Word2VecModel\n",
    "from pyspark.ml import Pipeline\n",
    "\n",
    "embed_size=100\n",
    "tokenizer = Tokenizer(inputCol=\"sentences\", outputCol=\"tokens\")\n",
    "tic = time.time()\n",
    "tokenized = tokenizer.transform(sparkDF).select(\"tokens\")\n",
    "print(\"time taken : {}s\".format(time.time() - tic))"
   ]
  },
  {
   "cell_type": "markdown",
   "metadata": {},
   "source": [
    "Cannot save spark dataframes as it is gives a ` can't pickle _thread.RLock objects` Typeerror. Because of parallelized implementation"
   ]
  },
  {
   "cell_type": "code",
   "execution_count": 41,
   "metadata": {},
   "outputs": [
    {
     "name": "stdout",
     "output_type": "stream",
     "text": [
      "+--------------------+\n",
      "|              tokens|\n",
      "+--------------------+\n",
      "|[inj017, mus011, ...|\n",
      "|            [gen025]|\n",
      "|    [mbd017, gen004]|\n",
      "+--------------------+\n",
      "only showing top 3 rows\n",
      "\n"
     ]
    },
    {
     "data": {
      "text/plain": [
       "27977932"
      ]
     },
     "execution_count": 41,
     "metadata": {},
     "output_type": "execute_result"
    }
   ],
   "source": [
    "tokenized.show(3)\n",
    "tokenized.count()"
   ]
  },
  {
   "cell_type": "markdown",
   "metadata": {},
   "source": [
    "## Look at the distribution of *number of CCSR codes in a sentence*\n",
    "7 being the num chars occupied by a single CCSR code+space character"
   ]
  },
  {
   "cell_type": "code",
   "execution_count": 72,
   "metadata": {},
   "outputs": [],
   "source": [
    "word_count = sparkDF.rdd.map(lambda x: (x, len(x.sentences)/7)) # "
   ]
  },
  {
   "cell_type": "code",
   "execution_count": 73,
   "metadata": {},
   "outputs": [],
   "source": [
    "wc = word_count.toDF([\"sentence\", \"length\"])"
   ]
  },
  {
   "cell_type": "code",
   "execution_count": null,
   "metadata": {},
   "outputs": [],
   "source": [
    "# wc.show(20, truncate = False)"
   ]
  },
  {
   "cell_type": "code",
   "execution_count": 74,
   "metadata": {},
   "outputs": [
    {
     "data": {
      "image/png": "[encoded data removed]",
      "text/plain": [
       "<Figure size 432x288 with 1 Axes>"
      ]
     },
     "metadata": {
      "needs_background": "light"
     },
     "output_type": "display_data"
    }
   ],
   "source": [
    "# Doing the heavy lifting in Spark. We could leverage the `histogram` function from the RDD api\n",
    "wc_histogram = wc.select('length').rdd.flatMap(lambda x: x).histogram(11)\n",
    "\n",
    "# Loading the Computed Histogram into a Pandas Dataframe for plotting\n",
    "pd.DataFrame(\n",
    "    list(zip(*wc_histogram)), \n",
    "    columns=['bin', 'frequency']\n",
    ").set_index(\n",
    "    'bin'\n",
    ").plot(kind='bar');"
   ]
  },
  {
   "cell_type": "markdown",
   "metadata": {},
   "source": [
    "# Step 3: Train word2vec"
   ]
  },
  {
   "cell_type": "code",
   "execution_count": 24,
   "metadata": {},
   "outputs": [
    {
     "name": "stdout",
     "output_type": "stream",
     "text": [
      "time taken : 1816.4596192836761\n"
     ]
    }
   ],
   "source": [
    "w2v = Word2Vec(vectorSize=embed_size, minCount=1, inputCol=\"tokens\", outputCol=\"features\")\\\n",
    "            .setSeed(42).setWindowSize(2)\n",
    "tic = time.time()\n",
    "word2vec_model = w2v.fit(tokenized)\n",
    "print(\"time taken : {}mins\".format((time.time() - tic)/60))"
   ]
  },
  {
   "cell_type": "markdown",
   "metadata": {},
   "source": [
    "default parameter for `window size` is 5. `minCount` is the minimum number of times a token must appear to be included in the word2vec model's vocabulary"
   ]
  },
  {
   "cell_type": "code",
   "execution_count": 26,
   "metadata": {},
   "outputs": [
    {
     "data": {
      "text/plain": [
       "Word2VecModel: uid=Word2Vec_d0fae05febe4, numWords=502, vectorSize=100"
      ]
     },
     "execution_count": 26,
     "metadata": {},
     "output_type": "execute_result"
    }
   ],
   "source": [
    "word2vec_model"
   ]
  },
  {
   "cell_type": "code",
   "execution_count": null,
   "metadata": {},
   "outputs": [],
   "source": [
    "tic  =time.time()\n",
    "path  = dirPath + \"pyspark_w2v_embeddingSize_{}\".format(embed_size)\n",
    "if os.path.exists(path):\n",
    "    os.remove(path)\n",
    "word2vec_model.save(path)\n",
    "print(\"time taken : {}\".format(time.time() - tic))"
   ]
  },
  {
   "cell_type": "code",
   "execution_count": 33,
   "metadata": {},
   "outputs": [
    {
     "name": "stdout",
     "output_type": "stream",
     "text": [
      "time taken : 0.9137392044067383\n"
     ]
    }
   ],
   "source": [
    "tic  =time.time()\n",
    "loaded_model = Word2VecModel.load(path)\n",
    "print(\"time taken : {}s\".format(time.time() - tic))"
   ]
  },
  {
   "cell_type": "code",
   "execution_count": 38,
   "metadata": {},
   "outputs": [
    {
     "name": "stdout",
     "output_type": "stream",
     "text": [
      "time taken : 0.019066810607910156\n",
      "+------+--------------------+\n",
      "|  word|              vector|\n",
      "+------+--------------------+\n",
      "|inj029|[-0.2791734635829...|\n",
      "|skn005|[0.13488520681858...|\n",
      "|inj033|[-0.1691723316907...|\n",
      "+------+--------------------+\n",
      "only showing top 3 rows\n",
      "\n"
     ]
    },
    {
     "data": {
      "text/plain": [
       "DataFrame[word: string, vector: vector]"
      ]
     },
     "execution_count": 38,
     "metadata": {},
     "output_type": "execute_result"
    }
   ],
   "source": [
    "tic = time.time()\n",
    "word2vec_df = loaded_model.getVectors()\n",
    "print(\"time taken : {}\".format(time.time() - tic))\n",
    "word2vec_df.show(3)\n",
    "word2vec_df"
   ]
  },
  {
   "cell_type": "markdown",
   "metadata": {},
   "source": [
    "# Step 4 Testing: transform vectors of choice using the trained data"
   ]
  },
  {
   "cell_type": "code",
   "execution_count": 36,
   "metadata": {},
   "outputs": [
    {
     "name": "stdout",
     "output_type": "stream",
     "text": [
      "+--------------------+\n",
      "|              tokens|\n",
      "+--------------------+\n",
      "|[prg028, prv028, ...|\n",
      "|            [prv028]|\n",
      "+--------------------+\n",
      "\n"
     ]
    }
   ],
   "source": [
    "test_df = pd.DataFrame([\"prg028 prv028 prv028\", \"prv028\"], columns = ['sentences'])\n",
    "testing_sparkDF =spark.createDataFrame(test_df)\n",
    "testing_sparkDF = tokenizer.transform(testing_sparkDF).select(\"tokens\")\n",
    "testing_sparkDF.show(2)"
   ]
  },
  {
   "cell_type": "code",
   "execution_count": 37,
   "metadata": {},
   "outputs": [
    {
     "name": "stdout",
     "output_type": "stream",
     "text": [
      "time taken : 0.05219721794128418\n",
      "+--------------------+--------------------+\n",
      "|              tokens|            features|\n",
      "+--------------------+--------------------+\n",
      "|[prg028, prv028, ...|[0.09811954696973...|\n",
      "|            [prv028]|[0.0,0.0,0.0,0.0,...|\n",
      "+--------------------+--------------------+\n",
      "\n"
     ]
    }
   ],
   "source": [
    "tic  =time.time()\n",
    "res = loaded_model.transform(testing_sparkDF)\n",
    "print(\"time taken : {}s\".format(time.time() - tic))\n",
    "res.show(3)"
   ]
  },
  {
   "cell_type": "code",
   "execution_count": null,
   "metadata": {},
   "outputs": [],
   "source": [
    "# res.toPandas().head().loc[:,\"features\"][0]"
   ]
  }
 ],
 "metadata": {
  "kernelspec": {
   "display_name": "Python 3",
   "language": "python",
   "name": "python3"
  },
  "language_info": {
   "codemirror_mode": {
    "name": "ipython",
    "version": 3
   },
   "file_extension": ".py",
   "mimetype": "text/x-python",
   "name": "python",
   "nbconvert_exporter": "python",
   "pygments_lexer": "ipython3",
   "version": "3.7.10"
  }
 },
 "nbformat": 4,
 "nbformat_minor": 4
}
