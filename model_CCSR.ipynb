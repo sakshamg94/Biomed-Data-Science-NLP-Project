{
 "cells": [
  {
   "cell_type": "markdown",
   "metadata": {},
   "source": [
    "# CS 271 CCSR"
   ]
  },
  {
   "cell_type": "code",
   "execution_count": 1,
   "metadata": {},
   "outputs": [],
   "source": [
    "# Define imports\n",
    "import random\n",
    "import pandas as pd\n",
    "import numpy as np\n",
    "import tensorflow as tf\n",
    "from numpy import asarray\n",
    "from sklearn import preprocessing\n",
    "from sklearn.preprocessing import OneHotEncoder\n",
    "from tensorflow.keras.utils import to_categorical\n",
    "import matplotlib.pyplot as plt\n",
    "import sys\n",
    "import pickle\n",
    "import os\n",
    "import csv\n",
    "from collections import defaultdict\n",
    "import time\n",
    "#\n",
    "import re"
   ]
  },
  {
   "cell_type": "markdown",
   "metadata": {},
   "source": [
    "## Step 1: Read in relevant Data Files"
   ]
  },
  {
   "cell_type": "markdown",
   "metadata": {},
   "source": [
    "Make sure the filepaths below correspond to your local copies of the files"
   ]
  },
  {
   "cell_type": "code",
   "execution_count": 5,
   "metadata": {},
   "outputs": [],
   "source": [
    "# Define constants\n",
    "PATIENT_DATA_FILE = 'Data/B220_SAA_v1.csv'\n",
    "CLEANED_LABELS_FILE = 'Data/ICD_Label_Cleaned_Oct_25.csv'\n",
    "CODE_DESC_FILE = 'Data/BIODS220_ICD_Dx_10_9_v7 - icd_dx_10_9_v7.csv'\n",
    "ICD10_to_CCSR = 'Data/ICD10-CCSR.csv'\n",
    "LANG_MODEL = 'CCSR'"
   ]
  },
  {
   "cell_type": "code",
   "execution_count": 3,
   "metadata": {},
   "outputs": [],
   "source": [
    "def read_csv_to_dict(file_path: str, key: int, value: int):\n",
    "    ret_dict = {}\n",
    "    with open(file_path, newline='') as csvfile:\n",
    "        data = csv.reader(csvfile, delimiter=',')\n",
    "        for row in data:\n",
    "            ret_dict[row[key]] = row[value]\n",
    "    print(\"Reading {} complete!\".format(file_path))\n",
    "    return ret_dict"
   ]
  },
  {
   "cell_type": "code",
   "execution_count": 28,
   "metadata": {},
   "outputs": [],
   "source": [
    "def get_category_dict():\n",
    "    category_dict = {\n",
    "        'Circulatory': 0,\n",
    "        'Dermatologic': 4,\n",
    "        'Endocrine & Immune': 6,\n",
    "        'Gastrointestinal': 1,\n",
    "        'Genitourinary': 1, \n",
    "        'Hematologic': 4,\n",
    "        'Infectious': 6,\n",
    "        'Injury': 2,\n",
    "        'Injury & Poisoning': 2,\n",
    "        'Poisoning': 2,\n",
    "        'Musculoskeletal': 2,\n",
    "        'Neurologic': 3,\n",
    "        'Other': 4,\n",
    "        'Obstetric': 5,\n",
    "        'Neoplastic': 4,\n",
    "        'Psychiatric': 3,\n",
    "        'Respiratory': 0,\n",
    "        'Substance use': 2}\n",
    "    #use to_categorical()\n",
    "    return category_dict"
   ]
  },
  {
   "cell_type": "code",
   "execution_count": 13,
   "metadata": {},
   "outputs": [],
   "source": [
    "NUM_CLASSES = 7"
   ]
  },
  {
   "cell_type": "code",
   "execution_count": 27,
   "metadata": {},
   "outputs": [],
   "source": [
    "def get_label2className_dict():\n",
    "    '''\n",
    "    Function to create reverse map of labels to category name\n",
    "    '''\n",
    "    className_dict = {\n",
    "        0:'Cardio-Resp',\n",
    "        1:'Abdominal',\n",
    "        2:'Injury/Subst/Poison', \n",
    "        3:'NeuroPsych',\n",
    "        4:'Other',\n",
    "        5:'Obstetric',\n",
    "        6:'Infection-Immune'\n",
    "    }\n",
    "    #use to_categorical()\n",
    "    return className_dict"
   ]
  },
  {
   "cell_type": "code",
   "execution_count": 7,
   "metadata": {},
   "outputs": [
    {
     "name": "stdout",
     "output_type": "stream",
     "text": [
      "Reading Data/ICD_Label_Cleaned_Oct_25.csv complete!\n",
      "Reading Data/ICD10-CCSR.csv complete!\n"
     ]
    }
   ],
   "source": [
    "# Create labels dict i.e. code -> label, i.e. A840 -> 'Neurologic'\n",
    "label_dict = read_csv_to_dict(CLEANED_LABELS_FILE, key=0, value=1)\n",
    "\n",
    "# Create descriptions dict i.e. code -> description\n",
    "#codes_dict = read_csv_to_dict(CODE_DESC_FILE, key=0, value=2)\n",
    "\n",
    "# Create mapping from ICD10 code to CCSR category\n",
    "ccsr_dict = read_csv_to_dict(ICD10_to_CCSR, key=0, value=1)\n",
    "\n",
    "# Create dict for label to int\n",
    "category_dict = get_category_dict()"
   ]
  },
  {
   "cell_type": "markdown",
   "metadata": {},
   "source": [
    "## Step 2: Create one-hot feature vectors"
   ]
  },
  {
   "cell_type": "markdown",
   "metadata": {},
   "source": [
    "First, let's take a look at the table of ICD10 codes to CCSR categories."
   ]
  },
  {
   "cell_type": "code",
   "execution_count": 8,
   "metadata": {},
   "outputs": [
    {
     "data": {
      "text/html": [
       "<div>\n",
       "<style scoped>\n",
       "    .dataframe tbody tr th:only-of-type {\n",
       "        vertical-align: middle;\n",
       "    }\n",
       "\n",
       "    .dataframe tbody tr th {\n",
       "        vertical-align: top;\n",
       "    }\n",
       "\n",
       "    .dataframe thead th {\n",
       "        text-align: right;\n",
       "    }\n",
       "</style>\n",
       "<table border=\"1\" class=\"dataframe\">\n",
       "  <thead>\n",
       "    <tr style=\"text-align: right;\">\n",
       "      <th></th>\n",
       "      <th>ICD-10-CM Code</th>\n",
       "      <th>CCSR Category</th>\n",
       "    </tr>\n",
       "  </thead>\n",
       "  <tbody>\n",
       "    <tr>\n",
       "      <th>0</th>\n",
       "      <td>A000</td>\n",
       "      <td>DIG001</td>\n",
       "    </tr>\n",
       "    <tr>\n",
       "      <th>1</th>\n",
       "      <td>A000</td>\n",
       "      <td>INF003</td>\n",
       "    </tr>\n",
       "    <tr>\n",
       "      <th>2</th>\n",
       "      <td>A001</td>\n",
       "      <td>DIG001</td>\n",
       "    </tr>\n",
       "    <tr>\n",
       "      <th>3</th>\n",
       "      <td>A001</td>\n",
       "      <td>INF003</td>\n",
       "    </tr>\n",
       "    <tr>\n",
       "      <th>4</th>\n",
       "      <td>A009</td>\n",
       "      <td>DIG001</td>\n",
       "    </tr>\n",
       "    <tr>\n",
       "      <th>...</th>\n",
       "      <td>...</td>\n",
       "      <td>...</td>\n",
       "    </tr>\n",
       "    <tr>\n",
       "      <th>83452</th>\n",
       "      <td>Z9912</td>\n",
       "      <td>FAC012</td>\n",
       "    </tr>\n",
       "    <tr>\n",
       "      <th>83453</th>\n",
       "      <td>Z992</td>\n",
       "      <td>FAC025</td>\n",
       "    </tr>\n",
       "    <tr>\n",
       "      <th>83454</th>\n",
       "      <td>Z993</td>\n",
       "      <td>FAC025</td>\n",
       "    </tr>\n",
       "    <tr>\n",
       "      <th>83455</th>\n",
       "      <td>Z9981</td>\n",
       "      <td>FAC025</td>\n",
       "    </tr>\n",
       "    <tr>\n",
       "      <th>83456</th>\n",
       "      <td>Z9989</td>\n",
       "      <td>FAC025</td>\n",
       "    </tr>\n",
       "  </tbody>\n",
       "</table>\n",
       "<p>83457 rows × 2 columns</p>\n",
       "</div>"
      ],
      "text/plain": [
       "      ICD-10-CM Code CCSR Category\n",
       "0               A000        DIG001\n",
       "1               A000        INF003\n",
       "2               A001        DIG001\n",
       "3               A001        INF003\n",
       "4               A009        DIG001\n",
       "...              ...           ...\n",
       "83452          Z9912        FAC012\n",
       "83453           Z992        FAC025\n",
       "83454           Z993        FAC025\n",
       "83455          Z9981        FAC025\n",
       "83456          Z9989        FAC025\n",
       "\n",
       "[83457 rows x 2 columns]"
      ]
     },
     "execution_count": 8,
     "metadata": {},
     "output_type": "execute_result"
    }
   ],
   "source": [
    "df = pd.read_csv(ICD10_to_CCSR, usecols=['ICD-10-CM Code','CCSR Category'])\n",
    "df"
   ]
  },
  {
   "cell_type": "code",
   "execution_count": 9,
   "metadata": {},
   "outputs": [
    {
     "data": {
      "text/plain": [
       "ICD-10-CM Code    73205\n",
       "CCSR Category       540\n",
       "dtype: int64"
      ]
     },
     "execution_count": 9,
     "metadata": {},
     "output_type": "execute_result"
    }
   ],
   "source": [
    "df.nunique()"
   ]
  },
  {
   "cell_type": "markdown",
   "metadata": {},
   "source": [
    "We can see that we have over 83,000 ICD-10 codes that are assigned to one of 540 categories, significantly reducing the dimensionality of the data! We're next going to one hot encode each ICD-10 code into a vector of 540 entries, each corresponding to a particular CCSR category."
   ]
  },
  {
   "cell_type": "code",
   "execution_count": 10,
   "metadata": {},
   "outputs": [
    {
     "data": {
      "text/plain": [
       "(83457, 540)"
      ]
     },
     "execution_count": 10,
     "metadata": {},
     "output_type": "execute_result"
    }
   ],
   "source": [
    "ccsr_one_hot = pd.get_dummies(df['CCSR Category']).to_numpy()\n",
    "ccsr_one_hot.shape"
   ]
  },
  {
   "cell_type": "markdown",
   "metadata": {},
   "source": [
    "ICD codes may map to more than one CCSR Category. In this case, we want to ensure that the one-hot encoding includes multiple CCSR categories. To accomplish this, we will create a dictionary that maps an ICD code to the corresponding 540-vector encoding. We should have 73,205 keys in the dictionary."
   ]
  },
  {
   "cell_type": "code",
   "execution_count": 11,
   "metadata": {},
   "outputs": [],
   "source": [
    "icd_to_ccsr = {} # Maps icd-10 code to ccsr category (which is 540-vector)\n",
    "\n",
    "for i in range(len(ccsr_one_hot)):\n",
    "    icd_code = df.iloc[i, 0] # 'A000'\n",
    "    encoding = ccsr_one_hot[i,:] # one-hot encoding of size (540,)\n",
    "    \n",
    "    try:\n",
    "        prev_encoding = icd_to_ccsr[icd_code]\n",
    "        # if a previous encoding already exists, \n",
    "        # then we concatenate it with the one-hot encoding of the current category\n",
    "        encoding = np.sum([prev_encoding, encoding], axis=0)\n",
    "    except:\n",
    "        pass\n",
    "    \n",
    "    icd_to_ccsr[icd_code] = encoding\n"
   ]
  },
  {
   "cell_type": "markdown",
   "metadata": {},
   "source": [
    "Make sure we have one key per each unique ICD code. Thus, we are mapping every key to a (540,) one-hot encoding vector."
   ]
  },
  {
   "cell_type": "code",
   "execution_count": 12,
   "metadata": {},
   "outputs": [],
   "source": [
    "assert(len(icd_to_ccsr.keys()) == df['ICD-10-CM Code'].nunique())\n",
    "ccsr_one_hot = None"
   ]
  },
  {
   "cell_type": "markdown",
   "metadata": {},
   "source": [
    "For the sake of reducing feature space, we are only including three features in our embedding. Future iterations of our embeddings will include more features, such as the patient's county."
   ]
  },
  {
   "cell_type": "code",
   "execution_count": 23,
   "metadata": {},
   "outputs": [],
   "source": [
    "def create_one_hot(patient_data):\n",
    "    # Creates one-hot vectors\n",
    "    columns_to_one_hot = ['Sex','Race']\n",
    "    one_hot = pd.get_dummies(patient_data[columns_to_one_hot])\n",
    "    \n",
    "    ordinal_columns = ['Age']\n",
    "    one_hot = pd.concat([patient_data[ordinal_columns], one_hot], axis=1)\n",
    "    \n",
    "    # Normalize age\n",
    "    x = one_hot.Age.values.reshape(-1,1)\n",
    "    min_max_scaler = preprocessing.MinMaxScaler()\n",
    "    x_scaled = min_max_scaler.fit_transform(x)\n",
    "    one_hot.Age = x_scaled.astype(np.int16)\n",
    "    \n",
    "    return one_hot.values"
   ]
  },
  {
   "cell_type": "markdown",
   "metadata": {},
   "source": [
    "## Step 3: Create one-hot ICD code encoding"
   ]
  },
  {
   "cell_type": "markdown",
   "metadata": {},
   "source": [
    "Given an ICD code, we retrieve the one hot encoding (540x1)."
   ]
  },
  {
   "cell_type": "code",
   "execution_count": 18,
   "metadata": {},
   "outputs": [],
   "source": [
    "def code_to_embedding(code):\n",
    "    try:\n",
    "        embedding = icd_to_ccsr[code]\n",
    "    except:\n",
    "        print(code)\n",
    "        return np.zeros(540)\n",
    "    return embedding"
   ]
  },
  {
   "cell_type": "markdown",
   "metadata": {},
   "source": [
    "For each row of ICD Codes (i.e ['E839', 'SA920']), we retrieve the corresponding embeddings. For patient visits with n ICD Codes where n>1, we give 0.75 weight to the primary ICD code and 0.25/n-1 weight to the remaining (secondary) codes."
   ]
  },
  {
   "cell_type": "code",
   "execution_count": 19,
   "metadata": {},
   "outputs": [],
   "source": [
    "def invalidCode(code):\n",
    "    numbers = ['1', '2', '3', '4', '5', '6', '7', '8', '9', '0']\n",
    "    return code[0] in numbers"
   ]
  },
  {
   "cell_type": "code",
   "execution_count": 20,
   "metadata": {},
   "outputs": [],
   "source": [
    "def rowToEncoding(row):\n",
    "    \"\"\"\n",
    "    input_row: A list of ICD10 codes\n",
    "    returns a 540x1 embedding\n",
    "    \"\"\"\n",
    "    patient_ICD_codes = [entry for entry in row[16:41] if entry != '']\n",
    "    n = len(patient_ICD_codes)\n",
    "    code = patient_ICD_codes[0]\n",
    "    if invalidCode(code):\n",
    "        print(\"Invalid primary code: \", code)\n",
    "        return\n",
    "    # Primary ICD code:\n",
    "    primary_embedding = code_to_embedding(code)\n",
    "    if n < 2: return primary_embedding\n",
    "    \n",
    "    # Subsequent ICD codes:\n",
    "    secondary_embedding = None\n",
    "    for i in range(1, n):\n",
    "        code = patient_ICD_codes[i]\n",
    "        if invalidCode(code):\n",
    "            print(\"Invalid secondary code: \", code)\n",
    "            continue\n",
    "        curr_embed = code_to_embedding(code)\n",
    "        if secondary_embedding is None:\n",
    "            secondary_embedding = curr_embed\n",
    "        else:\n",
    "            secondary_embedding = np.sum([secondary_embedding, curr_embed], axis=0)\n",
    "    \n",
    "    \n",
    "    return np.sum([primary_embedding, secondary_embedding], axis=0)"
   ]
  },
  {
   "cell_type": "markdown",
   "metadata": {},
   "source": [
    "**Important:** Since a patient may have more than one ICD-10 code attributed to their visit to the emergency room, two or more codes may share the same CCSR category. Thus, when we take the sum of the CCSR one-hot encodings, we may end up with numbers greater than 1. Since we ultimately want the 540-vector encoding of the patient's visit to be a binary representation of the CCSR categories, numbers greater than 1 should be reduced to 1. This case will only occur when a patient comes in with more than one ICD_10 code that shares the same CCSR category, in which case we will be taking the sum of two identical one-hot encodings, producing something similar to [0, ..., 2, ...0]."
   ]
  },
  {
   "cell_type": "markdown",
   "metadata": {},
   "source": [
    "We read in the patient visit csv file again and create embeddings for each visit as we read the file. For each visit, we have already computed the one-hot vector encoding for categorical and ordinal variables. Here, we combine those encodings with ICD_10 code embeddings. To reduce model complexity, we limit the number of patients (not total visits) for which to create embeddings. Here, we are working under the assumption that all visits for a patient appear one after the other in the csv file, thus. Takes a few mins to run"
   ]
  },
  {
   "cell_type": "code",
   "execution_count": 25,
   "metadata": {},
   "outputs": [
    {
     "name": "stdout",
     "output_type": "stream",
     "text": [
      "Invalid secondary code:  129\n",
      "Reading:  50000  patients\n",
      "Invalid secondary code:  1510\n",
      "Reading:  100000  patients\n",
      "Reading:  150000  patients\n",
      "Reading:  200000  patients\n",
      "Reading:  250000  patients\n",
      "Reading:  300000  patients\n",
      "Reading:  350000  patients\n",
      "Reading:  400000  patients\n",
      "Reading:  450000  patients\n",
      "Reading:  500000  patients\n"
     ]
    },
    {
     "data": {
      "text/plain": [
       "(3127347, 542)"
      ]
     },
     "execution_count": 25,
     "metadata": {},
     "output_type": "execute_result"
    }
   ],
   "source": [
    "TOTAL_NUM_PATIENTS = 0.5e6\n",
    "\n",
    "def get_visit_embedding(input_file_path: str): # input_file_path = PATIENT_DATA_FILE\n",
    "    start_time = time.time()\n",
    "    visit_encodings = []\n",
    "    patient_visit = []\n",
    "    with open(input_file_path, newline='') as csvfile:\n",
    "        data = csv.reader(csvfile, delimiter=',')\n",
    "        num_patients = 0\n",
    "        first_row = True\n",
    "        curr_patient_id = None\n",
    "        \n",
    "        for row in data:\n",
    "            \n",
    "            if first_row:\n",
    "                first_row = False\n",
    "                continue\n",
    "\n",
    "            new_patient_id = row[0]\n",
    "            \n",
    "            # Used to limit num patients, reducing model space\n",
    "            if curr_patient_id != new_patient_id:\n",
    "                \n",
    "                # If we have enough patients, break\n",
    "                if num_patients >= TOTAL_NUM_PATIENTS:\n",
    "                    break\n",
    "                else:\n",
    "                    curr_patient_id = new_patient_id\n",
    "                    num_patients += 1\n",
    "                    if num_patients % 50000 == 0:\n",
    "                        print(\"Reading: \", num_patients, \" patients\")\n",
    "\n",
    "            # Convert list of ICD-10 codes to 540-vector one-hot encoding\n",
    "            code_embedding = rowToEncoding(row).astype(np.int16)\n",
    "            visit_encodings.append(code_embedding)\n",
    "            patient_visit.append([int(row[0]), int(row[1])]) # Store patient id and visit id\n",
    "    \n",
    "    # Reduce entries to be binary (0 or 1)\n",
    "    code_dset = np.array(visit_encodings)\n",
    "    min_arr = np.ones((len(code_dset), len(code_dset[0])))\n",
    "    assert(min_arr.shape == code_dset.shape)\n",
    "    code_dset = np.minimum(code_dset, min_arr)\n",
    "\n",
    "    # Combine patient id, visit id and one-hot encoding\n",
    "    visit_arr = np.array(patient_visit)\n",
    "    result = np.hstack((visit_arr, code_dset)) # patient id, visit id, one-hot encoding vector\n",
    "    return result\n",
    "\n",
    "code_dset = get_visit_embedding(PATIENT_DATA_FILE)\n",
    "num_visits = len(code_dset)\n",
    "code_dset.shape"
   ]
  },
  {
   "cell_type": "code",
   "execution_count": 26,
   "metadata": {},
   "outputs": [
    {
     "name": "stdout",
     "output_type": "stream",
     "text": [
      "Reading in patient_data took 4.285715103149414\n",
      "Creating one-hot encodings took 1.0068621635437012\n",
      "(3127347, 11)\n"
     ]
    }
   ],
   "source": [
    "# Read in patient_data - takes about a minute\n",
    "patient_read_start = time.time()\n",
    "patient_data = pd.read_csv(PATIENT_DATA_FILE, dtype=str, usecols=['Sex','Race','Age','Dx10_prin'], nrows = num_visits)\n",
    "print(\"Reading in patient_data took {}\".format(time.time() - patient_read_start))\n",
    "\n",
    "# One-hot encode visit features\n",
    "one_hot_start = time.time()\n",
    "one_hot_features = create_one_hot(patient_data)\n",
    "print(\"Creating one-hot encodings took {}\".format(time.time() - one_hot_start))\n",
    "print(one_hot_features.shape)"
   ]
  },
  {
   "cell_type": "markdown",
   "metadata": {},
   "source": [
    "## Step 4: Concatenate Feature vector with ICD-10 code encoding"
   ]
  },
  {
   "cell_type": "code",
   "execution_count": 27,
   "metadata": {},
   "outputs": [],
   "source": [
    "x_dset = np.hstack((code_dset, one_hot_features[:num_visits,:]))"
   ]
  },
  {
   "cell_type": "code",
   "execution_count": 28,
   "metadata": {},
   "outputs": [
    {
     "data": {
      "text/plain": [
       "(3127347, 553)"
      ]
     },
     "execution_count": 28,
     "metadata": {},
     "output_type": "execute_result"
    }
   ],
   "source": [
    "x_dset.shape"
   ]
  },
  {
   "cell_type": "markdown",
   "metadata": {},
   "source": [
    "## Step 5: Get labels"
   ]
  },
  {
   "cell_type": "markdown",
   "metadata": {},
   "source": [
    "To create labels, we copy the primary diagnosis codes (`DX10_prin` column) into its own column named `Label`. For each code, we use the `label_dict` to retrive the corresponding category of the ICD code. Then we use the `category_dict` to retieve a number to represent the label. We limit the number of visits to the same size as the number of embeddings."
   ]
  },
  {
   "cell_type": "code",
   "execution_count": 29,
   "metadata": {},
   "outputs": [],
   "source": [
    "def convert_Dx10_prin_to_label(DX_10_code):\n",
    "    try:\n",
    "        category = label_dict[DX_10_code] # i.e. A065 -> Infectious\n",
    "    except KeyError:\n",
    "        category = 'Other'\n",
    "    return category_dict[category] # i.e. Infectious -> 7 \n",
    "\n",
    "def get_y_labels(patient_data):\n",
    "    # Copy Dx10 code into new column named Label\n",
    "    patient_data['Label'] = patient_data.Dx10_prin\n",
    "\n",
    "    # Apply function to Label column to convert Dx10_prin code to category\n",
    "    patient_data.Label = patient_data.Label.apply(convert_Dx10_prin_to_label)\n",
    "    \n",
    "    # Saves only the top num_visits, since that's how many embeddings there are\n",
    "    y_list = patient_data.Label.iloc[:num_visits].to_list()\n",
    "    return np.array(y_list), len(y_list)"
   ]
  },
  {
   "cell_type": "code",
   "execution_count": 30,
   "metadata": {},
   "outputs": [
    {
     "name": "stdout",
     "output_type": "stream",
     "text": [
      "Creating labels took 1.5357062816619873\n"
     ]
    }
   ],
   "source": [
    "# Get y_dset\n",
    "label_start = time.time()\n",
    "y_dset, num_labels = get_y_labels(patient_data)\n",
    "print(\"Creating labels took {}\".format(time.time() - label_start))"
   ]
  },
  {
   "cell_type": "code",
   "execution_count": 31,
   "metadata": {},
   "outputs": [],
   "source": [
    "# Ensures the number of labels corresponds to the number of patient visits\n",
    "assert(num_labels == num_visits)"
   ]
  },
  {
   "cell_type": "markdown",
   "metadata": {},
   "source": [
    "## Step 6: Save embeddings and labels"
   ]
  },
  {
   "cell_type": "code",
   "execution_count": 32,
   "metadata": {},
   "outputs": [
    {
     "name": "stdout",
     "output_type": "stream",
     "text": [
      "Saving embeddings took: 119.45295143127441\n"
     ]
    }
   ],
   "source": [
    "# filename = 'embeddings_{}.pickle'.format(LANG_MODEL)\n",
    "\n",
    "# start_time = time.time()\n",
    "# pickle_out = open(filename, 'wb')\n",
    "# pickle.dump((x_dset, y_dset), pickle_out, protocol=4)\n",
    "# pickle_out.close()\n",
    "# print(\"Saving embeddings took: {}\".format(time.time() - start_time))"
   ]
  },
  {
   "cell_type": "code",
   "execution_count": 6,
   "metadata": {},
   "outputs": [
    {
     "name": "stdout",
     "output_type": "stream",
     "text": [
      "Saving embeddings took: 110.1644721031189\n"
     ]
    }
   ],
   "source": [
    "filename = 'embeddings_{}.pickle'.format(LANG_MODEL)\n",
    "start_time = time.time()\n",
    "pickle_in = open(filename, 'rb')\n",
    "embedding_dset, y_dset = pickle.load(pickle_in)\n",
    "pickle_in.close()\n",
    "print(\"Saving embeddings took: {}\".format(time.time() - start_time))"
   ]
  },
  {
   "cell_type": "markdown",
   "metadata": {},
   "source": [
    "## Step 7: Store patient_id, visit_id, embedding_vec, label in a pandas dataframe"
   ]
  },
  {
   "cell_type": "code",
   "execution_count": 33,
   "metadata": {},
   "outputs": [],
   "source": [
    "collated_data = np.hstack((x_dset, y_dset.reshape(y_dset.shape[0],1))) # -- last col is label column, first 2 are patient an visit ids\n",
    "cols =  ['patient_id', 'visit_id'] + ['embed_vec'+ str(i) for i in range(x_dset.shape[1]-2)] + ['label']\n",
    "df = pd.DataFrame(data = collated_data, columns = cols)"
   ]
  },
  {
   "cell_type": "code",
   "execution_count": 34,
   "metadata": {},
   "outputs": [],
   "source": [
    "# Clear variables\n",
    "collated_data = None\n",
    "x_dset = None\n",
    "y_dset = None"
   ]
  },
  {
   "cell_type": "markdown",
   "metadata": {},
   "source": [
    "Transform the data types "
   ]
  },
  {
   "cell_type": "code",
   "execution_count": 35,
   "metadata": {},
   "outputs": [],
   "source": [
    "df['patient_id'] = df['patient_id'].astype('int64')\n",
    "df['visit_id'] = df['visit_id'].astype('int64')\n",
    "for col in cols[2:-1]:\n",
    "    df[col] = df[col].astype(str).astype(np.float32)\n",
    "\n",
    "df['label'] = df['label'].astype(np.int16)"
   ]
  },
  {
   "cell_type": "code",
   "execution_count": 36,
   "metadata": {},
   "outputs": [
    {
     "data": {
      "text/plain": [
       "patient_id        int64\n",
       "visit_id          int64\n",
       "embed_vec0      float32\n",
       "embed_vec1      float32\n",
       "embed_vec2      float32\n",
       "                 ...   \n",
       "embed_vec547    float32\n",
       "embed_vec548    float32\n",
       "embed_vec549    float32\n",
       "embed_vec550    float32\n",
       "label             int16\n",
       "Length: 554, dtype: object"
      ]
     },
     "execution_count": 36,
     "metadata": {},
     "output_type": "execute_result"
    }
   ],
   "source": [
    "df.dtypes"
   ]
  },
  {
   "cell_type": "markdown",
   "metadata": {},
   "source": [
    "Comment out the pickle dump/load sections below based on need"
   ]
  },
  {
   "cell_type": "code",
   "execution_count": 37,
   "metadata": {},
   "outputs": [],
   "source": [
    "# filename = 'patient_dataframe.pkl'\n",
    "# pickle_out = open(filename, 'wb')\n",
    "# pickle.dump(df, pickle_out, protocol=4)\n",
    "# pickle_out.close()"
   ]
  },
  {
   "cell_type": "code",
   "execution_count": 2,
   "metadata": {},
   "outputs": [],
   "source": [
    "filename = 'patient_dataframe.pkl'\n",
    "pickle_in = open(filename, 'rb')\n",
    "df = pickle.load(pickle_in)\n",
    "pickle_in.close()"
   ]
  },
  {
   "cell_type": "code",
   "execution_count": 3,
   "metadata": {
    "scrolled": true
   },
   "outputs": [
    {
     "data": {
      "text/html": [
       "<div>\n",
       "<style scoped>\n",
       "    .dataframe tbody tr th:only-of-type {\n",
       "        vertical-align: middle;\n",
       "    }\n",
       "\n",
       "    .dataframe tbody tr th {\n",
       "        vertical-align: top;\n",
       "    }\n",
       "\n",
       "    .dataframe thead th {\n",
       "        text-align: right;\n",
       "    }\n",
       "</style>\n",
       "<table border=\"1\" class=\"dataframe\">\n",
       "  <thead>\n",
       "    <tr style=\"text-align: right;\">\n",
       "      <th></th>\n",
       "      <th>patient_id</th>\n",
       "      <th>visit_id</th>\n",
       "      <th>embed_vec0</th>\n",
       "      <th>embed_vec1</th>\n",
       "      <th>embed_vec2</th>\n",
       "      <th>embed_vec3</th>\n",
       "      <th>embed_vec4</th>\n",
       "      <th>embed_vec5</th>\n",
       "      <th>embed_vec6</th>\n",
       "      <th>embed_vec7</th>\n",
       "      <th>...</th>\n",
       "      <th>embed_vec542</th>\n",
       "      <th>embed_vec543</th>\n",
       "      <th>embed_vec544</th>\n",
       "      <th>embed_vec545</th>\n",
       "      <th>embed_vec546</th>\n",
       "      <th>embed_vec547</th>\n",
       "      <th>embed_vec548</th>\n",
       "      <th>embed_vec549</th>\n",
       "      <th>embed_vec550</th>\n",
       "      <th>label</th>\n",
       "    </tr>\n",
       "  </thead>\n",
       "  <tbody>\n",
       "    <tr>\n",
       "      <th>0</th>\n",
       "      <td>1</td>\n",
       "      <td>1</td>\n",
       "      <td>0.0</td>\n",
       "      <td>0.0</td>\n",
       "      <td>0.0</td>\n",
       "      <td>0.0</td>\n",
       "      <td>0.0</td>\n",
       "      <td>0.0</td>\n",
       "      <td>0.0</td>\n",
       "      <td>0.0</td>\n",
       "      <td>...</td>\n",
       "      <td>0.0</td>\n",
       "      <td>0.0</td>\n",
       "      <td>0.0</td>\n",
       "      <td>0.0</td>\n",
       "      <td>0.0</td>\n",
       "      <td>0.0</td>\n",
       "      <td>0.0</td>\n",
       "      <td>0.0</td>\n",
       "      <td>1.0</td>\n",
       "      <td>2</td>\n",
       "    </tr>\n",
       "    <tr>\n",
       "      <th>1</th>\n",
       "      <td>1</td>\n",
       "      <td>2</td>\n",
       "      <td>0.0</td>\n",
       "      <td>0.0</td>\n",
       "      <td>0.0</td>\n",
       "      <td>0.0</td>\n",
       "      <td>0.0</td>\n",
       "      <td>0.0</td>\n",
       "      <td>0.0</td>\n",
       "      <td>0.0</td>\n",
       "      <td>...</td>\n",
       "      <td>0.0</td>\n",
       "      <td>0.0</td>\n",
       "      <td>0.0</td>\n",
       "      <td>0.0</td>\n",
       "      <td>0.0</td>\n",
       "      <td>0.0</td>\n",
       "      <td>0.0</td>\n",
       "      <td>0.0</td>\n",
       "      <td>1.0</td>\n",
       "      <td>1</td>\n",
       "    </tr>\n",
       "    <tr>\n",
       "      <th>2</th>\n",
       "      <td>1</td>\n",
       "      <td>3</td>\n",
       "      <td>0.0</td>\n",
       "      <td>0.0</td>\n",
       "      <td>0.0</td>\n",
       "      <td>0.0</td>\n",
       "      <td>0.0</td>\n",
       "      <td>0.0</td>\n",
       "      <td>0.0</td>\n",
       "      <td>0.0</td>\n",
       "      <td>...</td>\n",
       "      <td>0.0</td>\n",
       "      <td>0.0</td>\n",
       "      <td>0.0</td>\n",
       "      <td>0.0</td>\n",
       "      <td>0.0</td>\n",
       "      <td>0.0</td>\n",
       "      <td>0.0</td>\n",
       "      <td>0.0</td>\n",
       "      <td>1.0</td>\n",
       "      <td>2</td>\n",
       "    </tr>\n",
       "    <tr>\n",
       "      <th>3</th>\n",
       "      <td>1</td>\n",
       "      <td>4</td>\n",
       "      <td>0.0</td>\n",
       "      <td>0.0</td>\n",
       "      <td>0.0</td>\n",
       "      <td>0.0</td>\n",
       "      <td>0.0</td>\n",
       "      <td>0.0</td>\n",
       "      <td>0.0</td>\n",
       "      <td>0.0</td>\n",
       "      <td>...</td>\n",
       "      <td>0.0</td>\n",
       "      <td>0.0</td>\n",
       "      <td>0.0</td>\n",
       "      <td>0.0</td>\n",
       "      <td>0.0</td>\n",
       "      <td>0.0</td>\n",
       "      <td>0.0</td>\n",
       "      <td>0.0</td>\n",
       "      <td>1.0</td>\n",
       "      <td>4</td>\n",
       "    </tr>\n",
       "    <tr>\n",
       "      <th>4</th>\n",
       "      <td>2</td>\n",
       "      <td>1</td>\n",
       "      <td>0.0</td>\n",
       "      <td>0.0</td>\n",
       "      <td>0.0</td>\n",
       "      <td>0.0</td>\n",
       "      <td>0.0</td>\n",
       "      <td>0.0</td>\n",
       "      <td>0.0</td>\n",
       "      <td>0.0</td>\n",
       "      <td>...</td>\n",
       "      <td>1.0</td>\n",
       "      <td>0.0</td>\n",
       "      <td>0.0</td>\n",
       "      <td>0.0</td>\n",
       "      <td>1.0</td>\n",
       "      <td>0.0</td>\n",
       "      <td>0.0</td>\n",
       "      <td>0.0</td>\n",
       "      <td>0.0</td>\n",
       "      <td>1</td>\n",
       "    </tr>\n",
       "  </tbody>\n",
       "</table>\n",
       "<p>5 rows × 554 columns</p>\n",
       "</div>"
      ],
      "text/plain": [
       "   patient_id  visit_id  embed_vec0  embed_vec1  embed_vec2  embed_vec3  \\\n",
       "0           1         1         0.0         0.0         0.0         0.0   \n",
       "1           1         2         0.0         0.0         0.0         0.0   \n",
       "2           1         3         0.0         0.0         0.0         0.0   \n",
       "3           1         4         0.0         0.0         0.0         0.0   \n",
       "4           2         1         0.0         0.0         0.0         0.0   \n",
       "\n",
       "   embed_vec4  embed_vec5  embed_vec6  embed_vec7  ...  embed_vec542  \\\n",
       "0         0.0         0.0         0.0         0.0  ...           0.0   \n",
       "1         0.0         0.0         0.0         0.0  ...           0.0   \n",
       "2         0.0         0.0         0.0         0.0  ...           0.0   \n",
       "3         0.0         0.0         0.0         0.0  ...           0.0   \n",
       "4         0.0         0.0         0.0         0.0  ...           1.0   \n",
       "\n",
       "   embed_vec543  embed_vec544  embed_vec545  embed_vec546  embed_vec547  \\\n",
       "0           0.0           0.0           0.0           0.0           0.0   \n",
       "1           0.0           0.0           0.0           0.0           0.0   \n",
       "2           0.0           0.0           0.0           0.0           0.0   \n",
       "3           0.0           0.0           0.0           0.0           0.0   \n",
       "4           0.0           0.0           0.0           1.0           0.0   \n",
       "\n",
       "   embed_vec548  embed_vec549  embed_vec550  label  \n",
       "0           0.0           0.0           1.0      2  \n",
       "1           0.0           0.0           1.0      1  \n",
       "2           0.0           0.0           1.0      2  \n",
       "3           0.0           0.0           1.0      4  \n",
       "4           0.0           0.0           0.0      1  \n",
       "\n",
       "[5 rows x 554 columns]"
      ]
     },
     "execution_count": 3,
     "metadata": {},
     "output_type": "execute_result"
    }
   ],
   "source": [
    "df.head()"
   ]
  },
  {
   "cell_type": "markdown",
   "metadata": {},
   "source": [
    "## Step 8: Data preprocessing: Create triplets of visits with labels using Sliding window approach"
   ]
  },
  {
   "cell_type": "code",
   "execution_count": 9,
   "metadata": {},
   "outputs": [
    {
     "name": "stdout",
     "output_type": "stream",
     "text": [
      "Number of patients:  500000\n"
     ]
    }
   ],
   "source": [
    "print(\"Number of patients: \", len(df['patient_id'].unique()))"
   ]
  },
  {
   "cell_type": "code",
   "execution_count": 41,
   "metadata": {},
   "outputs": [],
   "source": [
    "# DATA PROCESSING\n",
    "# RESHAPE INPUT TO THE DESIRED FORM FOR LSTM TRAINING:\n",
    "# NEED 3D tensors of shape: [n_samples, n_timesteps = 2, n_features = input vector dim]"
   ]
  },
  {
   "cell_type": "code",
   "execution_count": 10,
   "metadata": {},
   "outputs": [
    {
     "ename": "KeyboardInterrupt",
     "evalue": "",
     "output_type": "error",
     "traceback": [
      "\u001b[0;31m---------------------------------------------------------------------------\u001b[0m",
      "\u001b[0;31mKeyboardInterrupt\u001b[0m                         Traceback (most recent call last)",
      "\u001b[0;32m<ipython-input-10-547b0ae3350f>\u001b[0m in \u001b[0;36m<module>\u001b[0;34m\u001b[0m\n\u001b[1;32m      5\u001b[0m \u001b[0;32mfor\u001b[0m \u001b[0mpatient\u001b[0m \u001b[0;32min\u001b[0m \u001b[0mdf\u001b[0m\u001b[0;34m[\u001b[0m\u001b[0;34m'patient_id'\u001b[0m\u001b[0;34m]\u001b[0m\u001b[0;34m.\u001b[0m\u001b[0munique\u001b[0m\u001b[0;34m(\u001b[0m\u001b[0;34m)\u001b[0m\u001b[0;34m:\u001b[0m\u001b[0;34m\u001b[0m\u001b[0;34m\u001b[0m\u001b[0m\n\u001b[1;32m      6\u001b[0m \u001b[0;31m#     print(patient)\u001b[0m\u001b[0;34m\u001b[0m\u001b[0;34m\u001b[0m\u001b[0;34m\u001b[0m\u001b[0m\n\u001b[0;32m----> 7\u001b[0;31m     \u001b[0mcurr_patient\u001b[0m \u001b[0;34m=\u001b[0m \u001b[0mgf\u001b[0m\u001b[0;34m.\u001b[0m\u001b[0mget_group\u001b[0m\u001b[0;34m(\u001b[0m\u001b[0mpatient\u001b[0m\u001b[0;34m)\u001b[0m\u001b[0;34m\u001b[0m\u001b[0;34m\u001b[0m\u001b[0m\n\u001b[0m\u001b[1;32m      8\u001b[0m     \u001b[0mnum_visits\u001b[0m  \u001b[0;34m=\u001b[0m \u001b[0mcurr_patient\u001b[0m\u001b[0;34m.\u001b[0m\u001b[0mshape\u001b[0m\u001b[0;34m[\u001b[0m\u001b[0;36m0\u001b[0m\u001b[0;34m]\u001b[0m\u001b[0;34m\u001b[0m\u001b[0;34m\u001b[0m\u001b[0m\n\u001b[1;32m      9\u001b[0m     \u001b[0;32mif\u001b[0m \u001b[0mnum_visits\u001b[0m \u001b[0;34m<\u001b[0m \u001b[0;36m3\u001b[0m\u001b[0;34m:\u001b[0m\u001b[0;34m\u001b[0m\u001b[0;34m\u001b[0m\u001b[0m\n",
      "\u001b[0;32m~/miniconda3/lib/python3.8/site-packages/pandas/core/groupby/groupby.py\u001b[0m in \u001b[0;36mget_group\u001b[0;34m(self, name, obj)\u001b[0m\n\u001b[1;32m    806\u001b[0m             \u001b[0mobj\u001b[0m \u001b[0;34m=\u001b[0m \u001b[0mself\u001b[0m\u001b[0;34m.\u001b[0m\u001b[0m_selected_obj\u001b[0m\u001b[0;34m\u001b[0m\u001b[0;34m\u001b[0m\u001b[0m\n\u001b[1;32m    807\u001b[0m \u001b[0;34m\u001b[0m\u001b[0m\n\u001b[0;32m--> 808\u001b[0;31m         \u001b[0minds\u001b[0m \u001b[0;34m=\u001b[0m \u001b[0mself\u001b[0m\u001b[0;34m.\u001b[0m\u001b[0m_get_index\u001b[0m\u001b[0;34m(\u001b[0m\u001b[0mname\u001b[0m\u001b[0;34m)\u001b[0m\u001b[0;34m\u001b[0m\u001b[0;34m\u001b[0m\u001b[0m\n\u001b[0m\u001b[1;32m    809\u001b[0m         \u001b[0;32mif\u001b[0m \u001b[0;32mnot\u001b[0m \u001b[0mlen\u001b[0m\u001b[0;34m(\u001b[0m\u001b[0minds\u001b[0m\u001b[0;34m)\u001b[0m\u001b[0;34m:\u001b[0m\u001b[0;34m\u001b[0m\u001b[0;34m\u001b[0m\u001b[0m\n\u001b[1;32m    810\u001b[0m             \u001b[0;32mraise\u001b[0m \u001b[0mKeyError\u001b[0m\u001b[0;34m(\u001b[0m\u001b[0mname\u001b[0m\u001b[0;34m)\u001b[0m\u001b[0;34m\u001b[0m\u001b[0;34m\u001b[0m\u001b[0m\n",
      "\u001b[0;32m~/miniconda3/lib/python3.8/site-packages/pandas/core/groupby/groupby.py\u001b[0m in \u001b[0;36m_get_index\u001b[0;34m(self, name)\u001b[0m\n\u001b[1;32m    628\u001b[0m         \u001b[0mSafe\u001b[0m \u001b[0mget\u001b[0m \u001b[0mindex\u001b[0m\u001b[0;34m,\u001b[0m \u001b[0mtranslate\u001b[0m \u001b[0mkeys\u001b[0m \u001b[0;32mfor\u001b[0m \u001b[0mdatelike\u001b[0m \u001b[0mto\u001b[0m \u001b[0munderlying\u001b[0m \u001b[0mrepr\u001b[0m\u001b[0;34m.\u001b[0m\u001b[0;34m\u001b[0m\u001b[0;34m\u001b[0m\u001b[0m\n\u001b[1;32m    629\u001b[0m         \"\"\"\n\u001b[0;32m--> 630\u001b[0;31m         \u001b[0;32mreturn\u001b[0m \u001b[0mself\u001b[0m\u001b[0;34m.\u001b[0m\u001b[0m_get_indices\u001b[0m\u001b[0;34m(\u001b[0m\u001b[0;34m[\u001b[0m\u001b[0mname\u001b[0m\u001b[0;34m]\u001b[0m\u001b[0;34m)\u001b[0m\u001b[0;34m[\u001b[0m\u001b[0;36m0\u001b[0m\u001b[0;34m]\u001b[0m\u001b[0;34m\u001b[0m\u001b[0;34m\u001b[0m\u001b[0m\n\u001b[0m\u001b[1;32m    631\u001b[0m \u001b[0;34m\u001b[0m\u001b[0m\n\u001b[1;32m    632\u001b[0m     \u001b[0;34m@\u001b[0m\u001b[0mcache_readonly\u001b[0m\u001b[0;34m\u001b[0m\u001b[0;34m\u001b[0m\u001b[0m\n",
      "\u001b[0;32m~/miniconda3/lib/python3.8/site-packages/pandas/core/groupby/groupby.py\u001b[0m in \u001b[0;36m_get_indices\u001b[0;34m(self, names)\u001b[0m\n\u001b[1;32m    593\u001b[0m             \u001b[0;32mreturn\u001b[0m \u001b[0;34m[\u001b[0m\u001b[0;34m]\u001b[0m\u001b[0;34m\u001b[0m\u001b[0;34m\u001b[0m\u001b[0m\n\u001b[1;32m    594\u001b[0m \u001b[0;34m\u001b[0m\u001b[0m\n\u001b[0;32m--> 595\u001b[0;31m         \u001b[0;32mif\u001b[0m \u001b[0mlen\u001b[0m\u001b[0;34m(\u001b[0m\u001b[0mself\u001b[0m\u001b[0;34m.\u001b[0m\u001b[0mindices\u001b[0m\u001b[0;34m)\u001b[0m \u001b[0;34m>\u001b[0m \u001b[0;36m0\u001b[0m\u001b[0;34m:\u001b[0m\u001b[0;34m\u001b[0m\u001b[0;34m\u001b[0m\u001b[0m\n\u001b[0m\u001b[1;32m    596\u001b[0m             \u001b[0mindex_sample\u001b[0m \u001b[0;34m=\u001b[0m \u001b[0mnext\u001b[0m\u001b[0;34m(\u001b[0m\u001b[0miter\u001b[0m\u001b[0;34m(\u001b[0m\u001b[0mself\u001b[0m\u001b[0;34m.\u001b[0m\u001b[0mindices\u001b[0m\u001b[0;34m)\u001b[0m\u001b[0;34m)\u001b[0m\u001b[0;34m\u001b[0m\u001b[0;34m\u001b[0m\u001b[0m\n\u001b[1;32m    597\u001b[0m         \u001b[0;32melse\u001b[0m\u001b[0;34m:\u001b[0m\u001b[0;34m\u001b[0m\u001b[0;34m\u001b[0m\u001b[0m\n",
      "\u001b[0;32m~/miniconda3/lib/python3.8/site-packages/pandas/core/groupby/groupby.py\u001b[0m in \u001b[0;36mindices\u001b[0;34m(self)\u001b[0m\n\u001b[1;32m    572\u001b[0m         \"\"\"\n\u001b[1;32m    573\u001b[0m         \u001b[0mself\u001b[0m\u001b[0;34m.\u001b[0m\u001b[0m_assure_grouper\u001b[0m\u001b[0;34m(\u001b[0m\u001b[0;34m)\u001b[0m\u001b[0;34m\u001b[0m\u001b[0;34m\u001b[0m\u001b[0m\n\u001b[0;32m--> 574\u001b[0;31m         \u001b[0;32mreturn\u001b[0m \u001b[0mself\u001b[0m\u001b[0;34m.\u001b[0m\u001b[0mgrouper\u001b[0m\u001b[0;34m.\u001b[0m\u001b[0mindices\u001b[0m\u001b[0;34m\u001b[0m\u001b[0;34m\u001b[0m\u001b[0m\n\u001b[0m\u001b[1;32m    575\u001b[0m \u001b[0;34m\u001b[0m\u001b[0m\n\u001b[1;32m    576\u001b[0m     \u001b[0;32mdef\u001b[0m \u001b[0m_get_indices\u001b[0m\u001b[0;34m(\u001b[0m\u001b[0mself\u001b[0m\u001b[0;34m,\u001b[0m \u001b[0mnames\u001b[0m\u001b[0;34m)\u001b[0m\u001b[0;34m:\u001b[0m\u001b[0;34m\u001b[0m\u001b[0;34m\u001b[0m\u001b[0m\n",
      "\u001b[0;32mpandas/_libs/properties.pyx\u001b[0m in \u001b[0;36mpandas._libs.properties.CachedProperty.__get__\u001b[0;34m()\u001b[0m\n",
      "\u001b[0;32m~/miniconda3/lib/python3.8/site-packages/pandas/core/groupby/ops.py\u001b[0m in \u001b[0;36mindices\u001b[0;34m(self)\u001b[0m\n\u001b[1;32m    222\u001b[0m         \u001b[0;34m\"\"\" dict {group name -> group indices} \"\"\"\u001b[0m\u001b[0;34m\u001b[0m\u001b[0;34m\u001b[0m\u001b[0m\n\u001b[1;32m    223\u001b[0m         \u001b[0;32mif\u001b[0m \u001b[0mlen\u001b[0m\u001b[0;34m(\u001b[0m\u001b[0mself\u001b[0m\u001b[0;34m.\u001b[0m\u001b[0mgroupings\u001b[0m\u001b[0;34m)\u001b[0m \u001b[0;34m==\u001b[0m \u001b[0;36m1\u001b[0m\u001b[0;34m:\u001b[0m\u001b[0;34m\u001b[0m\u001b[0;34m\u001b[0m\u001b[0m\n\u001b[0;32m--> 224\u001b[0;31m             \u001b[0;32mreturn\u001b[0m \u001b[0mself\u001b[0m\u001b[0;34m.\u001b[0m\u001b[0mgroupings\u001b[0m\u001b[0;34m[\u001b[0m\u001b[0;36m0\u001b[0m\u001b[0;34m]\u001b[0m\u001b[0;34m.\u001b[0m\u001b[0mindices\u001b[0m\u001b[0;34m\u001b[0m\u001b[0;34m\u001b[0m\u001b[0m\n\u001b[0m\u001b[1;32m    225\u001b[0m         \u001b[0;32melse\u001b[0m\u001b[0;34m:\u001b[0m\u001b[0;34m\u001b[0m\u001b[0;34m\u001b[0m\u001b[0m\n\u001b[1;32m    226\u001b[0m             \u001b[0mcodes_list\u001b[0m \u001b[0;34m=\u001b[0m \u001b[0;34m[\u001b[0m\u001b[0mping\u001b[0m\u001b[0;34m.\u001b[0m\u001b[0mcodes\u001b[0m \u001b[0;32mfor\u001b[0m \u001b[0mping\u001b[0m \u001b[0;32min\u001b[0m \u001b[0mself\u001b[0m\u001b[0;34m.\u001b[0m\u001b[0mgroupings\u001b[0m\u001b[0;34m]\u001b[0m\u001b[0;34m\u001b[0m\u001b[0;34m\u001b[0m\u001b[0m\n",
      "\u001b[0;32mpandas/_libs/properties.pyx\u001b[0m in \u001b[0;36mpandas._libs.properties.CachedProperty.__get__\u001b[0;34m()\u001b[0m\n",
      "\u001b[0;32m~/miniconda3/lib/python3.8/site-packages/pandas/core/groupby/grouper.py\u001b[0m in \u001b[0;36mindices\u001b[0;34m(self)\u001b[0m\n\u001b[1;32m    560\u001b[0m         \u001b[0;31m# respecting whether sort was specified\u001b[0m\u001b[0;34m\u001b[0m\u001b[0;34m\u001b[0m\u001b[0;34m\u001b[0m\u001b[0m\n\u001b[1;32m    561\u001b[0m         \u001b[0mcodes\u001b[0m\u001b[0;34m,\u001b[0m \u001b[0muniques\u001b[0m \u001b[0;34m=\u001b[0m \u001b[0malgorithms\u001b[0m\u001b[0;34m.\u001b[0m\u001b[0mfactorize\u001b[0m\u001b[0;34m(\u001b[0m\u001b[0mself\u001b[0m\u001b[0;34m.\u001b[0m\u001b[0mgrouper\u001b[0m\u001b[0;34m,\u001b[0m \u001b[0msort\u001b[0m\u001b[0;34m=\u001b[0m\u001b[0mself\u001b[0m\u001b[0;34m.\u001b[0m\u001b[0msort\u001b[0m\u001b[0;34m)\u001b[0m\u001b[0;34m\u001b[0m\u001b[0;34m\u001b[0m\u001b[0m\n\u001b[0;32m--> 562\u001b[0;31m         return {\n\u001b[0m\u001b[1;32m    563\u001b[0m             \u001b[0mcategory\u001b[0m\u001b[0;34m:\u001b[0m \u001b[0mnp\u001b[0m\u001b[0;34m.\u001b[0m\u001b[0mflatnonzero\u001b[0m\u001b[0;34m(\u001b[0m\u001b[0mcodes\u001b[0m \u001b[0;34m==\u001b[0m \u001b[0mi\u001b[0m\u001b[0;34m)\u001b[0m\u001b[0;34m\u001b[0m\u001b[0;34m\u001b[0m\u001b[0m\n\u001b[1;32m    564\u001b[0m             \u001b[0;32mfor\u001b[0m \u001b[0mi\u001b[0m\u001b[0;34m,\u001b[0m \u001b[0mcategory\u001b[0m \u001b[0;32min\u001b[0m \u001b[0menumerate\u001b[0m\u001b[0;34m(\u001b[0m\u001b[0mIndex\u001b[0m\u001b[0;34m(\u001b[0m\u001b[0muniques\u001b[0m\u001b[0;34m)\u001b[0m\u001b[0;34m)\u001b[0m\u001b[0;34m\u001b[0m\u001b[0;34m\u001b[0m\u001b[0m\n",
      "\u001b[0;32m~/miniconda3/lib/python3.8/site-packages/pandas/core/groupby/grouper.py\u001b[0m in \u001b[0;36m<dictcomp>\u001b[0;34m(.0)\u001b[0m\n\u001b[1;32m    561\u001b[0m         \u001b[0mcodes\u001b[0m\u001b[0;34m,\u001b[0m \u001b[0muniques\u001b[0m \u001b[0;34m=\u001b[0m \u001b[0malgorithms\u001b[0m\u001b[0;34m.\u001b[0m\u001b[0mfactorize\u001b[0m\u001b[0;34m(\u001b[0m\u001b[0mself\u001b[0m\u001b[0;34m.\u001b[0m\u001b[0mgrouper\u001b[0m\u001b[0;34m,\u001b[0m \u001b[0msort\u001b[0m\u001b[0;34m=\u001b[0m\u001b[0mself\u001b[0m\u001b[0;34m.\u001b[0m\u001b[0msort\u001b[0m\u001b[0;34m)\u001b[0m\u001b[0;34m\u001b[0m\u001b[0;34m\u001b[0m\u001b[0m\n\u001b[1;32m    562\u001b[0m         return {\n\u001b[0;32m--> 563\u001b[0;31m             \u001b[0mcategory\u001b[0m\u001b[0;34m:\u001b[0m \u001b[0mnp\u001b[0m\u001b[0;34m.\u001b[0m\u001b[0mflatnonzero\u001b[0m\u001b[0;34m(\u001b[0m\u001b[0mcodes\u001b[0m \u001b[0;34m==\u001b[0m \u001b[0mi\u001b[0m\u001b[0;34m)\u001b[0m\u001b[0;34m\u001b[0m\u001b[0;34m\u001b[0m\u001b[0m\n\u001b[0m\u001b[1;32m    564\u001b[0m             \u001b[0;32mfor\u001b[0m \u001b[0mi\u001b[0m\u001b[0;34m,\u001b[0m \u001b[0mcategory\u001b[0m \u001b[0;32min\u001b[0m \u001b[0menumerate\u001b[0m\u001b[0;34m(\u001b[0m\u001b[0mIndex\u001b[0m\u001b[0;34m(\u001b[0m\u001b[0muniques\u001b[0m\u001b[0;34m)\u001b[0m\u001b[0;34m)\u001b[0m\u001b[0;34m\u001b[0m\u001b[0;34m\u001b[0m\u001b[0m\n\u001b[1;32m    565\u001b[0m         }\n",
      "\u001b[0;31mKeyboardInterrupt\u001b[0m: "
     ]
    }
   ],
   "source": [
    "df = df.sort_values(['patient_id', 'visit_id'])\n",
    "gf = df.groupby('patient_id')\n",
    "data_X = []\n",
    "data_Y = []\n",
    "for patient in df['patient_id'].unique():\n",
    "#     print(patient)\n",
    "    curr_patient = gf.get_group(patient)\n",
    "    num_visits  = curr_patient.shape[0]\n",
    "    if num_visits < 3:\n",
    "        continue\n",
    "    elif num_visits == 3:\n",
    "        visit_0 = list(curr_patient.iloc[0,2:-1].values)\n",
    "        visit_1 = list(curr_patient.iloc[1,2:-1].values)\n",
    "        data_X.append([visit_0, visit_1])\n",
    "        data_Y.append(curr_patient.iloc[2,-1])\n",
    "    else:\n",
    "        for i in range(0, num_visits-2):\n",
    "            visit_0 = list(curr_patient.iloc[i,2:-1].values)\n",
    "            visit_1 = list(curr_patient.iloc[i+1,2:-1].values)\n",
    "            data_X.append([visit_0, visit_1])\n",
    "            data_Y.append(curr_patient.iloc[i+2,-1])"
   ]
  },
  {
   "cell_type": "code",
   "execution_count": null,
   "metadata": {},
   "outputs": [],
   "source": [
    "data_X = np.array(data_X)"
   ]
  },
  {
   "cell_type": "code",
   "execution_count": null,
   "metadata": {},
   "outputs": [],
   "source": [
    "data_Y = np.asarray(data_Y)"
   ]
  },
  {
   "cell_type": "code",
   "execution_count": null,
   "metadata": {},
   "outputs": [],
   "source": [
    "print(data_X.shape, data_Y.shape)\n",
    "print(data_Y[100])"
   ]
  },
  {
   "cell_type": "code",
   "execution_count": null,
   "metadata": {},
   "outputs": [],
   "source": [
    "# filename = 'data_X_data_Y.pkl'\n",
    "# pickle_out = open(filename, 'wb')\n",
    "# pickle.dump((data_X, data_Y), pickle_out, protocol=4)\n",
    "# pickle_out.close()"
   ]
  },
  {
   "cell_type": "code",
   "execution_count": 11,
   "metadata": {},
   "outputs": [],
   "source": [
    "filename = 'data_X_data_Y.pkl'\n",
    "pickle_in = open(filename, 'rb')\n",
    "data_X, data_Y = pickle.load(pickle_in)\n",
    "pickle_in.close()"
   ]
  },
  {
   "cell_type": "markdown",
   "metadata": {},
   "source": [
    "## Step 9: Shuffle the data with correspoding labels and create train-val-test splits"
   ]
  },
  {
   "cell_type": "markdown",
   "metadata": {},
   "source": [
    "- All examples are shuffled within a class. For training, intra- and inter-class shuffling happens and for val and test, no inter-class shuffling. \n",
    "-  Class balance is enforced for train,. val, test sets; Downside of the below approach for enforcing class balance is that not all examples are used and the bottleneck is the class which has the loweest fraction of the total examples"
   ]
  },
  {
   "cell_type": "code",
   "execution_count": 14,
   "metadata": {},
   "outputs": [
    {
     "name": "stdout",
     "output_type": "stream",
     "text": [
      "0  :  159733\n",
      "1  :  168203\n",
      "2  :  189738\n",
      "3  :  125901\n",
      "4  :  110361\n",
      "5  :  34556\n",
      "6  :  68014\n"
     ]
    }
   ],
   "source": [
    "category_examples = []\n",
    "for i in range(NUM_CLASSES):\n",
    "#     print(i)\n",
    "    category_examples.append(sum(data_Y==i))\n",
    "for i, num in enumerate(category_examples):\n",
    "    print(i , \" : \", num)"
   ]
  },
  {
   "cell_type": "code",
   "execution_count": 15,
   "metadata": {},
   "outputs": [
    {
     "name": "stdout",
     "output_type": "stream",
     "text": [
      "32828\n"
     ]
    }
   ],
   "source": [
    "min_category_size = np.floor(min(category_examples))\n",
    "min_train_classSize = int(0.95*min_category_size)\n",
    "min_val_classSize = int(0.025*min_category_size)\n",
    "total_examples  =  sum(category_examples)\n",
    "print(min_train_classSize)"
   ]
  },
  {
   "cell_type": "code",
   "execution_count": 16,
   "metadata": {},
   "outputs": [],
   "source": [
    "# dictionary mapping class label to all its examples\n",
    "examples = defaultdict(list)\n",
    "for i in range(data_Y.shape[0]): \n",
    "    examples[data_Y[i]].append(data_X[i,:,:])\n",
    "    \n",
    "# shuffle examples of each class in place in the dictionary\n",
    "for i in range(NUM_CLASSES):\n",
    "    random.shuffle(examples[i]) "
   ]
  },
  {
   "cell_type": "code",
   "execution_count": 17,
   "metadata": {},
   "outputs": [],
   "source": [
    "# select min number of examples for the train set, val set and test set\n",
    "\n",
    "train_X = examples[0][:min_train_classSize]\n",
    "train_y = [0]*min_train_classSize\n",
    "for i in range(1,NUM_CLASSES):\n",
    "    train_X = np.vstack((train_X, examples[i][:min_train_classSize]))\n",
    "    train_y+=[i]*min_train_classSize\n",
    "train_X = np.array(train_X)\n",
    "train_y = np.asarray(train_y)\n",
    "\n",
    "val_X = examples[0][min_train_classSize:min_train_classSize + min_val_classSize]\n",
    "val_y = [0]*min_val_classSize\n",
    "for i in range(1,NUM_CLASSES):\n",
    "    val_X = np.vstack((val_X, examples[i][min_train_classSize:min_train_classSize + min_val_classSize]))\n",
    "    val_y+=[i]*min_val_classSize\n",
    "val_X = np.array(val_X)\n",
    "val_y = np.asarray(val_y)\n",
    "\n",
    "test_X = examples[0][min_train_classSize + min_val_classSize : min_train_classSize + 2*min_val_classSize]\n",
    "test_y = [0]*len(test_X)\n",
    "for i in range(1,NUM_CLASSES):\n",
    "    test_examples = examples[i][min_train_classSize + min_val_classSize : min_train_classSize + 2*min_val_classSize]\n",
    "    test_X = np.vstack((test_X, test_examples))\n",
    "    test_y+=[i]*len(test_examples)\n",
    "test_X = np.array(test_X)\n",
    "test_y = np.asarray(test_y)"
   ]
  },
  {
   "cell_type": "code",
   "execution_count": 18,
   "metadata": {},
   "outputs": [
    {
     "name": "stdout",
     "output_type": "stream",
     "text": [
      "(229796, 2, 551) (229796,)\n",
      "(6041, 2, 551) (6041,)\n",
      "(6041, 2, 551) (6041,)\n"
     ]
    }
   ],
   "source": [
    "print(train_X.shape, train_y.shape)\n",
    "print(val_X.shape, val_y.shape)\n",
    "print(test_X.shape, test_y.shape)"
   ]
  },
  {
   "cell_type": "markdown",
   "metadata": {},
   "source": [
    "Convert integer y labels to one-hot vectors"
   ]
  },
  {
   "cell_type": "code",
   "execution_count": 19,
   "metadata": {},
   "outputs": [
    {
     "name": "stdout",
     "output_type": "stream",
     "text": [
      "(229796, 2, 551) (229796, 7)\n",
      "(6041, 2, 551) (6041, 7)\n",
      "(6041, 2, 551) (6041, 7)\n"
     ]
    }
   ],
   "source": [
    "train_y = tf.keras.utils.to_categorical(train_y, num_classes=NUM_CLASSES)\n",
    "val_y = tf.keras.utils.to_categorical(val_y, num_classes=NUM_CLASSES)\n",
    "test_y = tf.keras.utils.to_categorical(test_y, num_classes=NUM_CLASSES)\n",
    "\n",
    "print(train_X.shape, train_y.shape)\n",
    "print(val_X.shape, val_y.shape)\n",
    "print(test_X.shape, test_y.shape)\n"
   ]
  },
  {
   "cell_type": "markdown",
   "metadata": {},
   "source": [
    "## Step 10: Create the model"
   ]
  },
  {
   "cell_type": "code",
   "execution_count": 45,
   "metadata": {},
   "outputs": [],
   "source": [
    "BATCH_SIZE = 128\n",
    "EPOCHS = 15\n",
    "NUM_LSTM_UNITS = 300\n",
    "num_hidden_units = 100"
   ]
  },
  {
   "cell_type": "code",
   "execution_count": 63,
   "metadata": {},
   "outputs": [],
   "source": [
    "# BUILD THE MODEL BY ADDING LAYERS\n",
    "model = tf.keras.models.Sequential()\n",
    "\n",
    "# add a bidirectional LSTM layer to not only take the past context of a vector into account but also the future context\n",
    "# can play with the activation type here: tanh(default) or relu being popular options\n",
    "# num_hidden_units\n",
    "#model.add(tf.keras.layers.Bidirectional(tf.keras.layers.LSTM(units = NUM_LSTM_UNITS, input_shape= (train_X.shape[0], train_X.shape[1])), merge_mode = 'sum'))\n",
    "model.add(tf.keras.layers.LSTM(units = NUM_LSTM_UNITS,input_shape= (train_X.shape[1], train_X.shape[2])))\n",
    "# model.add(tf.keras.layers.Conv1D(filters=32, kernel_size=20, input_shape=(BATCH_SIZE,NUM_LSTM_UNITS),\n",
    "#                                  padding = \"valid\", kernel_initializer = \"glorot_uniform\"))\n",
    "# # we can add another Bidirectional LSTM layer if need be -- but we will need to evaluate that later -- no need rn\n",
    "#model.add(tf.keras.layers.Bidirectional(tf.keras.layers.LSTM(num_hidden_units, input_shape= (train_X.shape[1], train_X.shape[2]))))\n",
    "\n",
    "# add dense units\n",
    "model.add(tf.keras.layers.Dense(units = 20, activation='relu', kernel_regularizer=tf.keras.regularizers.l1_l2(l1=0.01, l2=0.01)))\n",
    "model.add(tf.keras.layers.Dense(units = 20, activation='relu', kernel_regularizer=tf.keras.regularizers.l1_l2(l1=0.01, l2=0.01)))\n",
    "\n",
    "model.add(tf.keras.layers.Dense(units = NUM_CLASSES,\n",
    "                                activity_regularizer = tf.keras.regularizers.l1_l2(l1=0.01, l2=0.01), \n",
    "                                activation='softmax'))\n",
    "# patient early stopping\n",
    "es = tf.keras.callbacks.EarlyStopping(monitor='val_loss', mode='min', verbose=1, patience=8)\n",
    "# COMILE THE MODEL\n",
    "model.compile(loss='categorical_crossentropy', optimizer=tf.keras.optimizers.Adam(learning_rate=0.001),\n",
    "              metrics=['accuracy'])"
   ]
  },
  {
   "cell_type": "markdown",
   "metadata": {},
   "source": [
    "## Step 11: Train the model"
   ]
  },
  {
   "cell_type": "code",
   "execution_count": 64,
   "metadata": {},
   "outputs": [
    {
     "name": "stdout",
     "output_type": "stream",
     "text": [
      "Epoch 1/15\n",
      "1796/1796 [==============================] - 8s 4ms/step - loss: 1.9504 - accuracy: 0.3339 - val_loss: 1.7004 - val_accuracy: 0.3501\n",
      "Epoch 2/15\n",
      "1796/1796 [==============================] - 8s 4ms/step - loss: 1.6783 - accuracy: 0.3702 - val_loss: 1.6637 - val_accuracy: 0.3859\n",
      "Epoch 3/15\n",
      "1796/1796 [==============================] - 7s 4ms/step - loss: 1.6465 - accuracy: 0.3941 - val_loss: 1.6436 - val_accuracy: 0.3975\n",
      "Epoch 4/15\n",
      "1796/1796 [==============================] - 8s 4ms/step - loss: 1.6272 - accuracy: 0.4049 - val_loss: 1.6287 - val_accuracy: 0.4036\n",
      "Epoch 5/15\n",
      "1796/1796 [==============================] - 7s 4ms/step - loss: 1.6149 - accuracy: 0.4109 - val_loss: 1.6183 - val_accuracy: 0.4097\n",
      "Epoch 6/15\n",
      "1796/1796 [==============================] - 8s 4ms/step - loss: 1.6045 - accuracy: 0.4157 - val_loss: 1.6168 - val_accuracy: 0.4066\n",
      "Epoch 7/15\n",
      "1796/1796 [==============================] - 7s 4ms/step - loss: 1.5955 - accuracy: 0.4210 - val_loss: 1.6083 - val_accuracy: 0.4114\n",
      "Epoch 8/15\n",
      "1796/1796 [==============================] - 7s 4ms/step - loss: 1.5874 - accuracy: 0.4246 - val_loss: 1.6076 - val_accuracy: 0.4092\n",
      "Epoch 9/15\n",
      "1796/1796 [==============================] - 8s 5ms/step - loss: 1.5783 - accuracy: 0.4284 - val_loss: 1.6045 - val_accuracy: 0.4127\n",
      "Epoch 10/15\n",
      "1796/1796 [==============================] - 7s 4ms/step - loss: 1.5696 - accuracy: 0.4328 - val_loss: 1.6065 - val_accuracy: 0.4105\n",
      "Epoch 11/15\n",
      "1796/1796 [==============================] - 8s 4ms/step - loss: 1.5607 - accuracy: 0.4373 - val_loss: 1.6130 - val_accuracy: 0.4109\n",
      "Epoch 12/15\n",
      "1796/1796 [==============================] - 8s 4ms/step - loss: 1.5500 - accuracy: 0.4431 - val_loss: 1.6079 - val_accuracy: 0.4123\n",
      "Epoch 13/15\n",
      "1796/1796 [==============================] - 7s 4ms/step - loss: 1.5389 - accuracy: 0.4489 - val_loss: 1.6185 - val_accuracy: 0.4077\n",
      "Epoch 14/15\n",
      "1796/1796 [==============================] - 8s 4ms/step - loss: 1.5278 - accuracy: 0.4528 - val_loss: 1.6266 - val_accuracy: 0.4061\n",
      "Epoch 15/15\n",
      "1796/1796 [==============================] - 7s 4ms/step - loss: 1.5160 - accuracy: 0.4588 - val_loss: 1.6283 - val_accuracy: 0.4127\n"
     ]
    }
   ],
   "source": [
    "# TRAIN THE NETWORK\n",
    "hist = model.fit(train_X, train_y, shuffle=True , epochs= EPOCHS,\n",
    "                 batch_size = BATCH_SIZE, validation_data = (val_X, val_y)) \n",
    "# val data is not inter-class shuffled -- need not be  - bec evaluation is on entire val set"
   ]
  },
  {
   "cell_type": "markdown",
   "metadata": {},
   "source": [
    "## Step 12: Evaluate the model"
   ]
  },
  {
   "cell_type": "code",
   "execution_count": 65,
   "metadata": {},
   "outputs": [
    {
     "data": {
      "image/png": "[encoded data removed]",
      "text/plain": [
       "<Figure size 432x288 with 1 Axes>"
      ]
     },
     "metadata": {
      "needs_background": "light"
     },
     "output_type": "display_data"
    },
    {
     "data": {
      "image/png": "[encoded data removed]",
      "text/plain": [
       "<Figure size 432x288 with 1 Axes>"
      ]
     },
     "metadata": {
      "needs_background": "light"
     },
     "output_type": "display_data"
    }
   ],
   "source": [
    "# PLOT HISTORY\n",
    "plt.plot(hist.history['loss'], label = 'train_loss')\n",
    "plt.plot(hist.history['val_loss'], label = 'validation_loss')\n",
    "plt.legend()\n",
    "plt.show()\n",
    "\n",
    "plt.plot(hist.history['accuracy'], label = 'train_acc')\n",
    "plt.plot(hist.history['val_accuracy'], label = 'validation_acc')\n",
    "plt.legend()\n",
    "plt.show()"
   ]
  },
  {
   "cell_type": "code",
   "execution_count": 66,
   "metadata": {},
   "outputs": [
    {
     "name": "stdout",
     "output_type": "stream",
     "text": [
      "Average training acc:  44.55937743186951\n",
      "Average validation acc:  41.00314577420552\n"
     ]
    }
   ],
   "source": [
    "# PRINT THE STATS\n",
    "avg_train_acc = np.average(hist.history['accuracy'][9:])*100\n",
    "avg_valid_acc = np.average(hist.history['val_accuracy'][9:])*100\n",
    "print(\"Average training acc: \", avg_train_acc)\n",
    "print(\"Average validation acc: \", avg_valid_acc)"
   ]
  },
  {
   "cell_type": "code",
   "execution_count": 67,
   "metadata": {},
   "outputs": [
    {
     "name": "stdout",
     "output_type": "stream",
     "text": [
      "189/189 [==============================] - 0s 2ms/step - loss: 1.6347 - accuracy: 0.4064\n",
      "test loss, test acc: [1.6347196102142334, 0.40638968348503113]\n"
     ]
    }
   ],
   "source": [
    "# EVALUATE THE MODEL\n",
    "results = model.evaluate(test_X, test_y)\n",
    "print(\"test loss, test acc:\", results)"
   ]
  },
  {
   "cell_type": "markdown",
   "metadata": {},
   "source": [
    "## Step 13: Predict based on the model and Visualize Output"
   ]
  },
  {
   "cell_type": "code",
   "execution_count": 68,
   "metadata": {},
   "outputs": [],
   "source": [
    "from sklearn.metrics import confusion_matrix\n",
    "\n",
    "# VARIABLES USED FOR MODEL SAVING, EVALUATING AND PLOTTING\n",
    "label2className = get_label2className_dict() # dictionary to map numerical categories to their names : eg {1:\"injury\", 2:\"endocrine\"}"
   ]
  },
  {
   "cell_type": "code",
   "execution_count": 69,
   "metadata": {},
   "outputs": [],
   "source": [
    "# make predictions\n",
    "test_ypred = model.predict(test_X)\n",
    "test_ypred = np.argmax(test_ypred, axis=-1)"
   ]
  },
  {
   "cell_type": "code",
   "execution_count": 70,
   "metadata": {},
   "outputs": [
    {
     "name": "stdout",
     "output_type": "stream",
     "text": [
      "(6041,)\n"
     ]
    }
   ],
   "source": [
    "print(test_ypred.shape)"
   ]
  },
  {
   "cell_type": "code",
   "execution_count": 71,
   "metadata": {},
   "outputs": [],
   "source": [
    "import itertools  \n",
    "def plot_confusion_matrix(cm, class_names):\n",
    "    \"\"\"\n",
    "    Returns a matplotlib figure containing the plotted confusion matrix.\n",
    "\n",
    "    Args:\n",
    "        cm (array, shape = [n, n]): a confusion matrix of integer classes\n",
    "        class_names (array, shape = [n]): String names of the integer classes\n",
    "    \"\"\"\n",
    "    figure = plt.figure(figsize=(8, 8))\n",
    "    pp = plt.imshow(cm, interpolation='nearest', cmap=plt.cm.Blues)\n",
    "\n",
    "    tick_marks = np.arange(len(class_names))\n",
    "    plt.xticks(tick_marks, class_names, rotation=0, fontsize=12)\n",
    "    plt.yticks(tick_marks, class_names, fontsize=12)\n",
    "\n",
    "    # Normalize the confusion matrix.\n",
    "    cm = np.around(cm.astype('float') / cm.sum(axis=1)[:, np.newaxis], decimals=2)\n",
    "\n",
    "    # Use white text if squares are dark; otherwise black.\n",
    "    threshold = cm.max() / 2.\n",
    "    for i, j in itertools.product(range(cm.shape[0]), range(cm.shape[1])):\n",
    "            color = \"white\" if cm[i, j] > threshold else \"black\"\n",
    "            plt.text(j, i, cm[i, j], horizontalalignment=\"center\", color=color, fontsize = 15, weight=\"bold\")\n",
    "\n",
    "    plt.tight_layout()\n",
    "    plt.ylabel('True label', fontsize=20, fontweight='bold')\n",
    "    plt.xlabel('Predicted label', fontsize=20, fontweight='bold') \n",
    "    plt.xticks(rotation=45)\n",
    "    plt.subplots_adjust(bottom=0.1, left=.25)\n",
    "    return figure"
   ]
  },
  {
   "cell_type": "code",
   "execution_count": 72,
   "metadata": {},
   "outputs": [
    {
     "name": "stdout",
     "output_type": "stream",
     "text": [
      "['Cardio-Resp', 'Abdominal', 'Injury/Subst/Poison', 'NeuroPsych', 'Other', 'Obstetric', 'Infection-Immune']\n"
     ]
    },
    {
     "data": {
      "text/plain": [
       "<Figure size 432x288 with 0 Axes>"
      ]
     },
     "metadata": {},
     "output_type": "display_data"
    },
    {
     "data": {
      "image/png": "[encoded data removed]",
      "text/plain": [
       "<Figure size 576x576 with 1 Axes>"
      ]
     },
     "metadata": {
      "needs_background": "light"
     },
     "output_type": "display_data"
    }
   ],
   "source": [
    "# VISUALIZE PREDICTIVE CAPACITY USING CONFUSION MATRICES\n",
    "cm = confusion_matrix(np.argmax(test_y, axis=-1), test_ypred)\n",
    "np.set_printoptions(precision=2)\n",
    "plt.figure()\n",
    "\n",
    "class_names = []\n",
    "for k,v in label2className.items():\n",
    "    class_names.append(v)\n",
    "print(class_names)\n",
    "plot_confusion_matrix(cm, class_names)\n",
    "plt.savefig('Confusion_matrix_model_{}.png'.format(1))\n",
    "plt.show()"
   ]
  },
  {
   "cell_type": "code",
   "execution_count": null,
   "metadata": {},
   "outputs": [],
   "source": []
  }
 ],
 "metadata": {
  "kernelspec": {
   "display_name": "Python 3",
   "language": "python",
   "name": "python3"
  },
  "language_info": {
   "codemirror_mode": {
    "name": "ipython",
    "version": 3
   },
   "file_extension": ".py",
   "mimetype": "text/x-python",
   "name": "python",
   "nbconvert_exporter": "python",
   "pygments_lexer": "ipython3",
   "version": "3.8.3"
  }
 },
 "nbformat": 4,
 "nbformat_minor": 4
}
