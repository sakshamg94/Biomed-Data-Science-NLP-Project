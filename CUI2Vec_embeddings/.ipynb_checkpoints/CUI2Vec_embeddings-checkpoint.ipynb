{
 "cells": [
  {
   "cell_type": "markdown",
   "metadata": {},
   "source": [
    "# CUI2Vec Embeddings"
   ]
  },
  {
   "cell_type": "markdown",
   "metadata": {},
   "source": [
    "CUI2Vec is an embedding strategy for multi-modal data that creates embeddings of 108,477 medical concepts. The model was trained on 60 million members, 20 million clinical notes, and 1.7 million full text biomedical journal articles. For the purposes of our project, we will be using just the ICD-9 code embeddings. While the CUI2Vec provides embeddings for various billing codes, only ICD-9 codes are relevant to our project, thus we filter for embeddings that are labeled with 'IDX', as seen in the code below."
   ]
  },
  {
   "cell_type": "markdown",
   "metadata": {},
   "source": [
    "### Source"
   ]
  },
  {
   "cell_type": "markdown",
   "metadata": {},
   "source": [
    "CUI2Vec Paper: https://psb.stanford.edu/psb-online/proceedings/psb20/Beam.pdf\n",
    "\n",
    "Downloadable embeddings file: https://github.com/clinicalml/embeddings/blob/master/claims_codes_hs_300.txt.gz"
   ]
  },
  {
   "cell_type": "markdown",
   "metadata": {},
   "source": [
    "### Data"
   ]
  },
  {
   "cell_type": "markdown",
   "metadata": {},
   "source": [
    "The data is stored in a `txt` file. Each line contains three key elements. \n",
    "\n",
    "1. The first element is the name of the code being embedded. For example, an ICD-9 code may look like `IDX401.1`. Other types of codes will look different, such as starting with 'N' followed by numerals. For the sake of this project, we only care about retrieving ICD-9 codes so we will filter for rows where the first token begins with `IDX`. The rest of the code specifcies that actual code, which in this case would be `401.1` The first three characters are important because they are usually enough to describe the general diagnosis. Anything after the period only provide more specificity. In practice, we see both the shortened version (`401`) and extended version (`4011`) used. Notice, the period is not used in practice. To account for the variabile use in our training dataset, we save embeddings using both versions of the ICD code, the shortened and extended version.\n",
    "\n",
    "2. After the ICD-9 code, the second element is a series of 300 floating-point numbers, corresponding the actual embedding. We read these numbers into a numpy array.\n",
    "\n",
    "3. The final element in the line is a line-terminating character `\\n`."
   ]
  },
  {
   "cell_type": "markdown",
   "metadata": {},
   "source": [
    "### Approach"
   ]
  },
  {
   "cell_type": "markdown",
   "metadata": {},
   "source": [
    "Our approach for downloaded the CUI2Vec embeddings follows three simple steps:\n",
    "1. Open the file containing embeddings and filter for rows that begin with `ICX`. \n",
    "2. Parse ICD-9 codes into a shortened and extended version, if applicable. Store the embedding in a numpy array\n",
    "3. Save the embedding in a dictionary. If the shortened code hasn't been used before then save the embedding to the shortened code. If the extended version exists, also save the embedding to the extended code."
   ]
  },
  {
   "cell_type": "code",
   "execution_count": 1,
   "metadata": {},
   "outputs": [],
   "source": [
    "import numpy as np\n",
    "import pickle\n",
    "import os"
   ]
  },
  {
   "cell_type": "code",
   "execution_count": 2,
   "metadata": {},
   "outputs": [],
   "source": [
    "file_path = 'Data/claims_codes_hs_300.txt' # Download file from link above and change file_path as necessary\n",
    "embeddings = {}\n",
    "\n",
    "with open(file_path) as f:\n",
    "    for row in f.readlines():\n",
    "        tokens = row.split(' ')\n",
    "        \n",
    "        # Step 1: Filter for ICD-9 embeddings\n",
    "        if 'IDX' == tokens[0][:3]: \n",
    "            \n",
    "            # Step 2: Parse input for ICD-10 code and save embedding to numpy array\n",
    "            icd_code = tokens[0][4:] # i.e. IDX_401.1 becomes 401.1\n",
    "            embedding = np.array(tokens[1:-1])            \n",
    "            \n",
    "            # Step 3: Save embedding to dictionary\n",
    "            if len(icd_code) == 3:\n",
    "                embeddings[icd_code] = embedding\n",
    "            else:\n",
    "                extended_code = icd_code.replace('.','') # i.e. 401.1 becomes 4011\n",
    "                embeddings[extended_code] = embedding\n",
    "                \n",
    "                # Save shortened version if it's not already saved\n",
    "                shortened_code = icd_code[:3]\n",
    "                try:\n",
    "                    embeddings[shortened_code]\n",
    "                except:\n",
    "                    embeddings[shortened_code] = embedding"
   ]
  },
  {
   "cell_type": "code",
   "execution_count": 3,
   "metadata": {},
   "outputs": [],
   "source": [
    "# Save embeddings using pickle\n",
    "filename = 'CUI2Vec_embedding.pickle'\n",
    "if not os.path.exists(filename):\n",
    "    with open(filename, 'wb') as file:\n",
    "        pickle.dump(embeddings, file, protocol=pickle.HIGHEST_PROTOCOL)"
   ]
  },
  {
   "cell_type": "code",
   "execution_count": null,
   "metadata": {},
   "outputs": [],
   "source": []
  }
 ],
 "metadata": {
  "kernelspec": {
   "display_name": "Python 3",
   "language": "python",
   "name": "python3"
  },
  "language_info": {
   "codemirror_mode": {
    "name": "ipython",
    "version": 3
   },
   "file_extension": ".py",
   "mimetype": "text/x-python",
   "name": "python",
   "nbconvert_exporter": "python",
   "pygments_lexer": "ipython3",
   "version": "3.7.6"
  }
 },
 "nbformat": 4,
 "nbformat_minor": 4
}
