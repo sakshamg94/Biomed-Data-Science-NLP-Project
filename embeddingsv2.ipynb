{
 "cells": [
  {
   "cell_type": "markdown",
   "metadata": {},
   "source": [
    "# CS 271 Project Data Processing"
   ]
  },
  {
   "cell_type": "code",
   "execution_count": 68,
   "metadata": {},
   "outputs": [],
   "source": [
    "# Define imports\n",
    "import pandas as pd\n",
    "import numpy as np\n",
    "import tensorflow as tf\n",
    "from numpy import asarray\n",
    "from sklearn import preprocessing\n",
    "from sklearn.preprocessing import OneHotEncoder\n",
    "from tensorflow.keras.utils import to_categorical\n",
    "import gensim.downloader as api\n",
    "import matplotlib.pyplot as plt\n",
    "import sys\n",
    "import pickle\n",
    "import os\n",
    "import csv\n",
    "import time\n",
    "import re"
   ]
  },
  {
   "cell_type": "markdown",
   "metadata": {},
   "source": [
    "### Step 1: Read in relevant Data Files"
   ]
  },
  {
   "cell_type": "markdown",
   "metadata": {},
   "source": [
    "Make sure the files below are in the same directory as your jupyter file"
   ]
  },
  {
   "cell_type": "code",
   "execution_count": 2,
   "metadata": {},
   "outputs": [],
   "source": [
    "# Define constants\n",
    "PATIENT_DATA_FILE = 'B220_SAA_v1.csv'\n",
    "CLEANED_LABELS_FILE = 'ICD_Label_Cleaned_Oct_25.csv'\n",
    "CODE_DESC_FILE = 'BIODS220_ICD_Dx_10_9_v7 - icd_dx_10_9_v7.csv'\n",
    "# May want to consider: glove-wiki-gigaword-100 in the future\n",
    "# See more here: https://github.com/RaRe-Technologies/gensim-data\n",
    "LANG_MODEL = 'word2vec-google-news-300'"
   ]
  },
  {
   "cell_type": "code",
   "execution_count": 3,
   "metadata": {},
   "outputs": [],
   "source": [
    "def read_csv_to_dict(file_path: str, key: int, value: int):\n",
    "    ret_dict = {}\n",
    "    with open(file_path, newline='') as csvfile:\n",
    "        data = csv.reader(csvfile, delimiter=',')\n",
    "        for row in data:\n",
    "            ret_dict[row[key]] = row[value]\n",
    "    print(\"Reading {} complete!\".format(file_path))\n",
    "    return ret_dict"
   ]
  },
  {
   "cell_type": "code",
   "execution_count": 4,
   "metadata": {},
   "outputs": [],
   "source": [
    "def get_category_dict():\n",
    "    category_dict = {\n",
    "        'Circulatory': 0,\n",
    "        'Dermatologic': 1,\n",
    "        'Endocrine & Immune': 2,\n",
    "        'Gastrointestinal': 3,\n",
    "        'Genitourinary': 4, \n",
    "        'Hematologic': 5,\n",
    "        'Infectious': 6,\n",
    "        'Injury': 7,\n",
    "        'Injury & Poisoning': 7,\n",
    "        'Poisoning': 7,\n",
    "        'Musculoskeletal': 8,\n",
    "        'Neurologic': 9,\n",
    "        'Other': 10,\n",
    "        'Obstetric': 11,\n",
    "        'Neoplastic': 12,\n",
    "        'Psychiatric': 13,\n",
    "        'Respiratory': 14,\n",
    "        'Substance use': 15}\n",
    "    #use to_categorical()\n",
    "    return category_dict"
   ]
  },
  {
   "cell_type": "code",
   "execution_count": 5,
   "metadata": {},
   "outputs": [
    {
     "name": "stdout",
     "output_type": "stream",
     "text": [
      "Reading word2vec-google-news-300 complete!\n",
      "Reading ICD_Label_Cleaned_Oct_25.csv complete!\n",
      "Reading BIODS220_ICD_Dx_10_9_v7 - icd_dx_10_9_v7.csv complete!\n"
     ]
    }
   ],
   "source": [
    "# Import word to vec model - takes a few minutes\n",
    "wv = api.load(LANG_MODEL)\n",
    "print(\"Reading {} complete!\".format(LANG_MODEL))\n",
    "\n",
    "# Create labels dict i.e. code -> label, i.e. A840 -> 'Neurologic'\n",
    "label_dict = read_csv_to_dict(CLEANED_LABELS_FILE, key=0, value=1)\n",
    "\n",
    "# Create descriptions dict i.e. code -> description\n",
    "codes_dict = read_csv_to_dict(CODE_DESC_FILE, key=0, value=2)\n",
    "\n",
    "# Create dict for label to int\n",
    "category_dict = get_category_dict()"
   ]
  },
  {
   "cell_type": "markdown",
   "metadata": {},
   "source": [
    "### Step 2: Create one-hot feature vectors"
   ]
  },
  {
   "cell_type": "markdown",
   "metadata": {},
   "source": [
    "For the sake of reducing feature space, we are only including three features in our embedding. Future iterations of our embeddings will include more features, such as the patient's county."
   ]
  },
  {
   "cell_type": "code",
   "execution_count": 6,
   "metadata": {},
   "outputs": [],
   "source": [
    "def create_one_hot(patient_data):\n",
    "    # Creates one-hot vectors\n",
    "    columns_to_one_hot = ['Sex','Race']\n",
    "    one_hot = pd.get_dummies(patient_data[columns_to_one_hot])\n",
    "    \n",
    "    ordinal_columns = ['Age']\n",
    "    one_hot = pd.concat([patient_data[ordinal_columns], one_hot], axis=1)\n",
    "    \n",
    "    # Normalize age\n",
    "    x = one_hot.Age.values.reshape(-1,1)\n",
    "    min_max_scaler = preprocessing.MinMaxScaler()\n",
    "    x_scaled = min_max_scaler.fit_transform(x)\n",
    "    one_hot.Age = x_scaled\n",
    "    \n",
    "    return one_hot.values"
   ]
  },
  {
   "cell_type": "code",
   "execution_count": 7,
   "metadata": {},
   "outputs": [
    {
     "name": "stdout",
     "output_type": "stream",
     "text": [
      "Reading in patient_data took 69.18451738357544\n",
      "Creating one-hot encodings took 11.246265411376953\n",
      "(27977932, 11)\n"
     ]
    }
   ],
   "source": [
    "# Read in patient_data - takes a few mins\n",
    "patient_read_start = time.time()\n",
    "patient_data = pd.read_csv(PATIENT_DATA_FILE, dtype=str, usecols=['Sex','Race','Age','Dx10_prin'])\n",
    "print(\"Reading in patient_data took {}\".format(time.time() - patient_read_start))\n",
    "\n",
    "# One-hot encode visit features\n",
    "one_hot_start = time.time()\n",
    "one_hot = create_one_hot(patient_data)\n",
    "print(\"Creating one-hot encodings took {}\".format(time.time() - one_hot_start))\n",
    "print(one_hot.shape)"
   ]
  },
  {
   "cell_type": "code",
   "execution_count": 8,
   "metadata": {},
   "outputs": [],
   "source": [
    "# (num_patients, 311)"
   ]
  },
  {
   "cell_type": "markdown",
   "metadata": {},
   "source": [
    "# Step 3: Embed ICD Codes + concat with one-hot vectors"
   ]
  },
  {
   "cell_type": "markdown",
   "metadata": {},
   "source": [
    "Given a sentence, retrieve the pre-trained word2vec embedding for each word in the sentence and return the mean of the embeddings. If the sentence has no words that exist in the word2vec model, we return None."
   ]
  },
  {
   "cell_type": "code",
   "execution_count": 9,
   "metadata": {},
   "outputs": [],
   "source": [
    "def embed_sentence(sentence, split_tokens): \n",
    "    # Revisit: since medical terms may not be present, although they are important to include\n",
    "    word_embeddings = []\n",
    "    for word in re.split(split_tokens, sentence):\n",
    "        try:\n",
    "            word_embeddings.append(wv[word.lower()])\n",
    "        except KeyError:\n",
    "            continue\n",
    "    if len(word_embeddings)>0:\n",
    "        return np.mean(word_embeddings, axis=0)\n",
    "    else:\n",
    "        return None"
   ]
  },
  {
   "cell_type": "markdown",
   "metadata": {},
   "source": [
    "Given a sentence and label, return the embedding of a sentence. If there is no embedding for the sentence then return the embedding for the label."
   ]
  },
  {
   "cell_type": "code",
   "execution_count": 10,
   "metadata": {},
   "outputs": [],
   "source": [
    "def get_w2v_embedding(sentence, label):\n",
    "    \"\"\"\n",
    "    Sentence: A description of an ICD10 code, usually 1-5 words\n",
    "    Category: The class of the diagnosis, one of 17 options\n",
    "    \"\"\"\n",
    "    embedding = embed_sentence(sentence, split_tokens='\\s|(?<!\\d)[:;,.\\(\\)\\[\\]-](?!\\d)')\n",
    "    \n",
    "    # If we can't create embedding with ICD10 codes, we use category\n",
    "    if embedding is not None:\n",
    "        return embedding\n",
    "    else:\n",
    "        return embed_sentence(label, split_tokens='\\s')"
   ]
  },
  {
   "cell_type": "markdown",
   "metadata": {},
   "source": [
    "Given an ICD code, return the corresponding description. Here, we attempt to take handle mistyped data. Some codes are missing 1-2 characters. Sometimes, adding a 0 or removing the last character in a code will fix typos, however this strategy is prone to error and not guarunteed to work."
   ]
  },
  {
   "cell_type": "code",
   "execution_count": 11,
   "metadata": {},
   "outputs": [],
   "source": [
    "def get_desc(code):\n",
    "    try:\n",
    "        desc = codes_dict[code]\n",
    "    except KeyError:\n",
    "        try:\n",
    "            new_code = code + '0'\n",
    "            desc = codes_dict[new_code]\n",
    "        except:\n",
    "            try:\n",
    "                new_code = code[:-1]\n",
    "                desc = codes_dict[new_code]\n",
    "            except:\n",
    "                desc = 'Other'\n",
    "    try:\n",
    "        label = labels_dict[code]\n",
    "    except:\n",
    "        label = 'Other'\n",
    "    return desc, label"
   ]
  },
  {
   "cell_type": "markdown",
   "metadata": {},
   "source": [
    "Given an ICD code, we retrieve the embedding (300x1). We use dynamic programming to save embeddings. Often, only the first three characters of an ICD code are enough to determine the general diagnosis. Longer codes will only have slightly different descriptions (if at all). Thus, to reduce computational complexity, we store the first three characters of ICD codes. Future ICD codes that share the same first three characters will automatically use the same embedding, regardless of any remaining characters."
   ]
  },
  {
   "cell_type": "code",
   "execution_count": 12,
   "metadata": {},
   "outputs": [],
   "source": [
    "descriptions_dict = {}\n",
    "\n",
    "def code_to_embedding(code):\n",
    "    try:\n",
    "        embedding = descriptions_dict[str(code[:3])]\n",
    "    except:\n",
    "        desc, category = get_desc(code)\n",
    "        embedding = get_w2v_embedding(desc, category)\n",
    "        if desc is not 'Other':\n",
    "            descriptions_dict[str(code[:3])] = embedding\n",
    "    return embedding"
   ]
  },
  {
   "cell_type": "markdown",
   "metadata": {},
   "source": [
    "For each row of ICD Codes (i.e ['E839', 'SA920']), we retrieve the corresponding embeddings. For patient visits with n ICD Codes where n>1, we give 0.75 weight to the primary ICD code and 0.25/n-1 weight to the remaining (secondary) codes."
   ]
  },
  {
   "cell_type": "code",
   "execution_count": 13,
   "metadata": {},
   "outputs": [],
   "source": [
    "PRIMARY_WEIGHT = 0.75\n",
    "SECONDARY_WEIGHT = 0.25\n",
    "\n",
    "def row_to_embedding(input_row):\n",
    "    \"\"\"\n",
    "    input_row: A list of ICD10 codes\n",
    "    returns a 300x1 embedding\n",
    "    \"\"\"\n",
    "    n = len(input_row)\n",
    "    code = input_row[0]\n",
    "    # Primary ICD code:\n",
    "    primary_embedding = code_to_embedding(code)\n",
    "    if n < 2: return primary_embedding\n",
    "    \n",
    "    # Subsequent ICD codes:\n",
    "    secondary_embedding = None\n",
    "    for i in range(1, n):\n",
    "        code = input_row[i]\n",
    "        curr_embed = code_to_embedding(code)\n",
    "        if secondary_embedding is None:\n",
    "            secondary_embedding = curr_embed\n",
    "        else:\n",
    "            secondary_embedding = np.sum([secondary_embedding, curr_embed], axis=0)\n",
    "    \n",
    "    \n",
    "    return np.sum([primary_embedding * PRIMARY_WEIGHT, secondary_embedding * (SECONDARY_WEIGHT/n-1)], axis=0)\n"
   ]
  },
  {
   "cell_type": "markdown",
   "metadata": {},
   "source": [
    "We read in the patient visit csv file again and create embeddings for each visit as we read the file. For each visit, we have already computed the one-hot vector encoding for categorical and ordinal variables. Here, we combine those encodings with ICD_10 code embeddings. To reduce model complexity, we limit the number of patients (not total visits) for which to create embeddings. Here, we are working under the assumption that all visits for a patient appear one after the other in the csv file, thus, we can stop reading from the file once `patient id > num_patients`. Takes a few mins to run"
   ]
  },
  {
   "cell_type": "code",
   "execution_count": 14,
   "metadata": {},
   "outputs": [
    {
     "name": "stdout",
     "output_type": "stream",
     "text": [
      "Shape of embeddings: (215240,311)\n",
      "Shape of patient_visit: (215240,2)\n"
     ]
    }
   ],
   "source": [
    "NUM_PATIENTS = 0.1e6\n",
    "\n",
    "def get_visit_embedding(input_file_path: str):\n",
    "    start_time = time.time()\n",
    "    embeddings = []\n",
    "    patient_visit = []\n",
    "    max_len = 0\n",
    "#     patient_visit = {\n",
    "#         1 : [[1, embed],[4, embed],[2,embed]],\n",
    "#         2 : [[embed],[embed],....],\n",
    "#         .\n",
    "#         .\n",
    "#         .\n",
    "#     }\n",
    "    with open(input_file_path, newline='') as csvfile:\n",
    "        data = csv.reader(csvfile, delimiter=',')\n",
    "        count = 0\n",
    "        for row in data: # <- top to bottom\n",
    "            if count == 0: # Skip the first row\n",
    "                count += 1\n",
    "                continue\n",
    "            \n",
    "            if int(row[0]) > NUM_PATIENTS: # Used to limit num patients, reducing model space\n",
    "                break\n",
    "                \n",
    "            ICD_code_embeddings = row_to_embedding([entry for entry in row[16:41] if entry is not ''])\n",
    "            \n",
    "            # Combine one-hot with w2v embeddings\n",
    "            visit_embedding = np.concatenate((one_hot[count-1, :], ICD_code_embeddings), axis=0)\n",
    "            embeddings.append(visit_embedding)\n",
    "            patient_visit.append([row[0], row[1]]) # store patient and visit info\n",
    "            \n",
    "            # Tracking progress\n",
    "            if count % 250000 == 0:\n",
    "                print(\"Completed {} visit embeddings in {}\".format(count, (time.time() - start_time)))\n",
    "            count +=1\n",
    "            \n",
    "    print(\"Shape of embeddings: ({},{})\".format(len(embeddings), len(embeddings[0])))\n",
    "    print(\"Shape of patient_visit: ({},{})\".format(len(patient_visit), len(patient_visit[0])))\n",
    "    embedding_vecs = np.array(embeddings)\n",
    "    result = np.hstack((np.array(patient_visit),embedding_vecs)) # patient id, visit id, embedding vector\n",
    "    return result, count-1\n",
    "\n",
    "embedding_dset, num_visits = get_visit_embedding(PATIENT_DATA_FILE)"
   ]
  },
  {
   "cell_type": "code",
   "execution_count": 15,
   "metadata": {},
   "outputs": [],
   "source": [
    "# import numpy as np\n",
    "# a = np.random.rand(7,4)\n",
    "# b = np.ones((7,2))\n",
    "# print(a.shape, b.shape)\n",
    "# b[:,1]= 2\n",
    "# res = np.hstack((b,a))\n",
    "# print(res.shape)\n",
    "# # res[:,:-1].shape\n",
    "# print(res[:,-1])\n",
    "# print(res)\n",
    "# print(a)\n",
    "# print(res)\n",
    "# c = [[1,2],[3,4],[3,4]]\n",
    "# print(np.array(c).shape)\n",
    "# d = np.array(list([1,2,3,4,5]))\n",
    "# print(d.reshape(d.shape[0],1).shape)\n",
    "# cols =  ['patient_id', 'visit_id'] + ['embed_vec'+ str(i) for i in range(res.shape[1]-2)] + ['label']\n",
    "# print(cols)"
   ]
  },
  {
   "cell_type": "markdown",
   "metadata": {},
   "source": [
    "### Step 4: Get labels"
   ]
  },
  {
   "cell_type": "markdown",
   "metadata": {},
   "source": [
    "To create labels, we copy the primary diagnosis codes (`DX10_prin` column) into its own column named `Label`. For each code, we use the `label_dict` to retrive the corresponding category of the ICD code. Then we use the `category_dict` to retieve a number to represent the label. We limit the number of visits to the same size as the number of embeddings."
   ]
  },
  {
   "cell_type": "code",
   "execution_count": 16,
   "metadata": {},
   "outputs": [],
   "source": [
    "def convert_Dx10_prin_to_label(DX_10_code):\n",
    "    try:\n",
    "        category = label_dict[DX_10_code] # i.e. A065 -> Infectious\n",
    "    except KeyError:\n",
    "        category = 'Other'\n",
    "    return category_dict[category] # i.e. Infectious -> 7 \n",
    "\n",
    "def get_y_labels(patient_data):\n",
    "    # Copy Dx10 code into new column named Label\n",
    "    patient_data['Label'] = patient_data.Dx10_prin\n",
    "\n",
    "    # Apply function to Label column to convert Dx10_prin code to category\n",
    "    patient_data.Label = patient_data.Label.apply(convert_Dx10_prin_to_label)\n",
    "    \n",
    "    # Saves only the top num_visits, since that's how many embeddings there are\n",
    "    y_list = patient_data.Label.iloc[:num_visits].to_list()\n",
    "    return np.array(y_list), len(y_list)"
   ]
  },
  {
   "cell_type": "code",
   "execution_count": 17,
   "metadata": {},
   "outputs": [
    {
     "name": "stdout",
     "output_type": "stream",
     "text": [
      "Creating labels took 15.455227851867676\n"
     ]
    }
   ],
   "source": [
    "# Get y_dset\n",
    "label_start = time.time()\n",
    "y_dset, num_labels = get_y_labels(patient_data)\n",
    "print(\"Creating labels took {}\".format(time.time() - label_start))"
   ]
  },
  {
   "cell_type": "code",
   "execution_count": 18,
   "metadata": {},
   "outputs": [],
   "source": [
    "# Ensures the number of labels corresponds to the number of patient visits\n",
    "assert(num_labels == num_visits)"
   ]
  },
  {
   "cell_type": "markdown",
   "metadata": {},
   "source": [
    "### Step 5: Save embeddings and labels"
   ]
  },
  {
   "cell_type": "code",
   "execution_count": 19,
   "metadata": {},
   "outputs": [
    {
     "name": "stdout",
     "output_type": "stream",
     "text": [
      "Saving embeddings took: 80.76700520515442\n"
     ]
    }
   ],
   "source": [
    "filename = 'embeddings_{}.pickle'.format(LANG_MODEL)\n",
    "\n",
    "start_time = time.time()\n",
    "pickle_out = open(filename, 'wb')\n",
    "pickle.dump((embedding_dset, y_dset), pickle_out, protocol=4)\n",
    "pickle_out.close\n",
    "print(\"Saving embeddings took: {}\".format(time.time() - start_time))"
   ]
  },
  {
   "cell_type": "markdown",
   "metadata": {},
   "source": [
    "### Step 6: Store patient_id, visit_id, embedding_vec, label in a pandas dataframe"
   ]
  },
  {
   "cell_type": "code",
   "execution_count": 20,
   "metadata": {},
   "outputs": [],
   "source": [
    "collated_data = np.hstack((embedding_dset, y_dset.reshape(y_dset.shape[0],1))) # -- last col is label column, first 2 are patient an visit ids\n",
    "cols =  ['patient_id', 'visit_id'] + ['embed_vec'+ str(i) for i in range(embedding_dset.shape[1]-2)] + ['label']\n",
    "df = pd.DataFrame(data = collated_data, columns = cols)"
   ]
  },
  {
   "cell_type": "markdown",
   "metadata": {},
   "source": [
    "Transform the data types "
   ]
  },
  {
   "cell_type": "code",
   "execution_count": 21,
   "metadata": {},
   "outputs": [],
   "source": [
    "df['patient_id'] = df['patient_id'].astype(str).astype('int64')\n",
    "df['visit_id'] = df['visit_id'].astype(str).astype('int64')\n",
    "for col in cols[2:-1]:\n",
    "    df[col] = df[col].astype(str).astype(np.float32)\n",
    "\n",
    "df['label'] = df['label'].astype(str).astype(np.int16)"
   ]
  },
  {
   "cell_type": "code",
   "execution_count": 22,
   "metadata": {},
   "outputs": [
    {
     "data": {
      "text/plain": [
       "patient_id        int64\n",
       "visit_id          int64\n",
       "embed_vec0      float32\n",
       "embed_vec1      float32\n",
       "embed_vec2      float32\n",
       "                 ...   \n",
       "embed_vec307    float32\n",
       "embed_vec308    float32\n",
       "embed_vec309    float32\n",
       "embed_vec310    float32\n",
       "label             int16\n",
       "Length: 314, dtype: object"
      ]
     },
     "execution_count": 22,
     "metadata": {},
     "output_type": "execute_result"
    }
   ],
   "source": [
    "df.dtypes"
   ]
  },
  {
   "cell_type": "markdown",
   "metadata": {},
   "source": [
    "Comment out the pickle dump/load sections below based on need"
   ]
  },
  {
   "cell_type": "code",
   "execution_count": 23,
   "metadata": {},
   "outputs": [],
   "source": [
    "# filename = 'patient_dataframe.pkl'\n",
    "# pickle_out = open(filename, 'wb')\n",
    "# pickle.dump(df, pickle_out, protocol=4)\n",
    "# pickle_out.close()\n",
    "\n",
    "# pickle_in = open(filename, 'rb')\n",
    "# df = pickle.load(pickle_in)\n",
    "# pickle_in.close()"
   ]
  },
  {
   "cell_type": "code",
   "execution_count": 24,
   "metadata": {
    "scrolled": true
   },
   "outputs": [
    {
     "data": {
      "text/html": [
       "<div>\n",
       "<style scoped>\n",
       "    .dataframe tbody tr th:only-of-type {\n",
       "        vertical-align: middle;\n",
       "    }\n",
       "\n",
       "    .dataframe tbody tr th {\n",
       "        vertical-align: top;\n",
       "    }\n",
       "\n",
       "    .dataframe thead th {\n",
       "        text-align: right;\n",
       "    }\n",
       "</style>\n",
       "<table border=\"1\" class=\"dataframe\">\n",
       "  <thead>\n",
       "    <tr style=\"text-align: right;\">\n",
       "      <th></th>\n",
       "      <th>patient_id</th>\n",
       "      <th>visit_id</th>\n",
       "      <th>embed_vec0</th>\n",
       "      <th>embed_vec1</th>\n",
       "      <th>embed_vec2</th>\n",
       "      <th>embed_vec3</th>\n",
       "      <th>embed_vec4</th>\n",
       "      <th>embed_vec5</th>\n",
       "      <th>embed_vec6</th>\n",
       "      <th>embed_vec7</th>\n",
       "      <th>...</th>\n",
       "      <th>embed_vec302</th>\n",
       "      <th>embed_vec303</th>\n",
       "      <th>embed_vec304</th>\n",
       "      <th>embed_vec305</th>\n",
       "      <th>embed_vec306</th>\n",
       "      <th>embed_vec307</th>\n",
       "      <th>embed_vec308</th>\n",
       "      <th>embed_vec309</th>\n",
       "      <th>embed_vec310</th>\n",
       "      <th>label</th>\n",
       "    </tr>\n",
       "  </thead>\n",
       "  <tbody>\n",
       "    <tr>\n",
       "      <th>0</th>\n",
       "      <td>1</td>\n",
       "      <td>1</td>\n",
       "      <td>0.296610</td>\n",
       "      <td>1.0</td>\n",
       "      <td>0.0</td>\n",
       "      <td>0.0</td>\n",
       "      <td>0.0</td>\n",
       "      <td>0.0</td>\n",
       "      <td>0.0</td>\n",
       "      <td>0.0</td>\n",
       "      <td>...</td>\n",
       "      <td>0.079258</td>\n",
       "      <td>-0.060437</td>\n",
       "      <td>0.101398</td>\n",
       "      <td>-0.026986</td>\n",
       "      <td>-0.030562</td>\n",
       "      <td>-0.117866</td>\n",
       "      <td>-0.021423</td>\n",
       "      <td>0.123450</td>\n",
       "      <td>-0.078947</td>\n",
       "      <td>7</td>\n",
       "    </tr>\n",
       "    <tr>\n",
       "      <th>1</th>\n",
       "      <td>1</td>\n",
       "      <td>2</td>\n",
       "      <td>0.305085</td>\n",
       "      <td>1.0</td>\n",
       "      <td>0.0</td>\n",
       "      <td>0.0</td>\n",
       "      <td>0.0</td>\n",
       "      <td>0.0</td>\n",
       "      <td>0.0</td>\n",
       "      <td>0.0</td>\n",
       "      <td>...</td>\n",
       "      <td>0.031657</td>\n",
       "      <td>0.136739</td>\n",
       "      <td>-0.124715</td>\n",
       "      <td>-0.038696</td>\n",
       "      <td>0.236018</td>\n",
       "      <td>-0.081909</td>\n",
       "      <td>0.068095</td>\n",
       "      <td>0.050334</td>\n",
       "      <td>0.190104</td>\n",
       "      <td>4</td>\n",
       "    </tr>\n",
       "    <tr>\n",
       "      <th>2</th>\n",
       "      <td>1</td>\n",
       "      <td>3</td>\n",
       "      <td>0.305085</td>\n",
       "      <td>1.0</td>\n",
       "      <td>0.0</td>\n",
       "      <td>0.0</td>\n",
       "      <td>0.0</td>\n",
       "      <td>0.0</td>\n",
       "      <td>0.0</td>\n",
       "      <td>0.0</td>\n",
       "      <td>...</td>\n",
       "      <td>-0.043800</td>\n",
       "      <td>0.093867</td>\n",
       "      <td>0.049588</td>\n",
       "      <td>-0.142370</td>\n",
       "      <td>-0.056448</td>\n",
       "      <td>0.212482</td>\n",
       "      <td>-0.042262</td>\n",
       "      <td>-0.023515</td>\n",
       "      <td>-0.057756</td>\n",
       "      <td>15</td>\n",
       "    </tr>\n",
       "    <tr>\n",
       "      <th>3</th>\n",
       "      <td>1</td>\n",
       "      <td>4</td>\n",
       "      <td>0.313559</td>\n",
       "      <td>1.0</td>\n",
       "      <td>0.0</td>\n",
       "      <td>0.0</td>\n",
       "      <td>0.0</td>\n",
       "      <td>0.0</td>\n",
       "      <td>0.0</td>\n",
       "      <td>0.0</td>\n",
       "      <td>...</td>\n",
       "      <td>-0.077145</td>\n",
       "      <td>-0.056206</td>\n",
       "      <td>0.235774</td>\n",
       "      <td>0.216042</td>\n",
       "      <td>0.110846</td>\n",
       "      <td>-0.001951</td>\n",
       "      <td>-0.262783</td>\n",
       "      <td>-0.154692</td>\n",
       "      <td>0.007996</td>\n",
       "      <td>10</td>\n",
       "    </tr>\n",
       "    <tr>\n",
       "      <th>4</th>\n",
       "      <td>2</td>\n",
       "      <td>1</td>\n",
       "      <td>0.355932</td>\n",
       "      <td>0.0</td>\n",
       "      <td>1.0</td>\n",
       "      <td>0.0</td>\n",
       "      <td>0.0</td>\n",
       "      <td>0.0</td>\n",
       "      <td>1.0</td>\n",
       "      <td>0.0</td>\n",
       "      <td>...</td>\n",
       "      <td>0.018087</td>\n",
       "      <td>-0.052994</td>\n",
       "      <td>0.001587</td>\n",
       "      <td>0.053269</td>\n",
       "      <td>0.117310</td>\n",
       "      <td>-0.172607</td>\n",
       "      <td>-0.056071</td>\n",
       "      <td>0.037923</td>\n",
       "      <td>0.062826</td>\n",
       "      <td>4</td>\n",
       "    </tr>\n",
       "  </tbody>\n",
       "</table>\n",
       "<p>5 rows × 314 columns</p>\n",
       "</div>"
      ],
      "text/plain": [
       "   patient_id  visit_id  embed_vec0  embed_vec1  embed_vec2  embed_vec3  \\\n",
       "0           1         1    0.296610         1.0         0.0         0.0   \n",
       "1           1         2    0.305085         1.0         0.0         0.0   \n",
       "2           1         3    0.305085         1.0         0.0         0.0   \n",
       "3           1         4    0.313559         1.0         0.0         0.0   \n",
       "4           2         1    0.355932         0.0         1.0         0.0   \n",
       "\n",
       "   embed_vec4  embed_vec5  embed_vec6  embed_vec7  ...  embed_vec302  \\\n",
       "0         0.0         0.0         0.0         0.0  ...      0.079258   \n",
       "1         0.0         0.0         0.0         0.0  ...      0.031657   \n",
       "2         0.0         0.0         0.0         0.0  ...     -0.043800   \n",
       "3         0.0         0.0         0.0         0.0  ...     -0.077145   \n",
       "4         0.0         0.0         1.0         0.0  ...      0.018087   \n",
       "\n",
       "   embed_vec303  embed_vec304  embed_vec305  embed_vec306  embed_vec307  \\\n",
       "0     -0.060437      0.101398     -0.026986     -0.030562     -0.117866   \n",
       "1      0.136739     -0.124715     -0.038696      0.236018     -0.081909   \n",
       "2      0.093867      0.049588     -0.142370     -0.056448      0.212482   \n",
       "3     -0.056206      0.235774      0.216042      0.110846     -0.001951   \n",
       "4     -0.052994      0.001587      0.053269      0.117310     -0.172607   \n",
       "\n",
       "   embed_vec308  embed_vec309  embed_vec310  label  \n",
       "0     -0.021423      0.123450     -0.078947      7  \n",
       "1      0.068095      0.050334      0.190104      4  \n",
       "2     -0.042262     -0.023515     -0.057756     15  \n",
       "3     -0.262783     -0.154692      0.007996     10  \n",
       "4     -0.056071      0.037923      0.062826      4  \n",
       "\n",
       "[5 rows x 314 columns]"
      ]
     },
     "execution_count": 24,
     "metadata": {},
     "output_type": "execute_result"
    }
   ],
   "source": [
    "df.head()"
   ]
  },
  {
   "cell_type": "markdown",
   "metadata": {},
   "source": [
    "### Step 7: Data preprocessing: Create triplets of visits with labels using Sliding window approach"
   ]
  },
  {
   "cell_type": "code",
   "execution_count": 33,
   "metadata": {},
   "outputs": [
    {
     "name": "stdout",
     "output_type": "stream",
     "text": [
      "Number of patients:  34324\n"
     ]
    }
   ],
   "source": [
    "print(\"Number of patients: \", len(df['patient_id'].unique()))"
   ]
  },
  {
   "cell_type": "code",
   "execution_count": 34,
   "metadata": {},
   "outputs": [],
   "source": [
    "# DATA PROCESSING\n",
    "# RESHAPE INPUT TO THE DESIRED FORM FOR LSTM TRAINING:\n",
    "# NEED 3D tensors of shape: [n_samples, n_timesteps = 2, n_features = input vector dim]"
   ]
  },
  {
   "cell_type": "code",
   "execution_count": 35,
   "metadata": {},
   "outputs": [],
   "source": [
    "df = df.sort_values(['patient_id', 'visit_id'])\n",
    "gf = df.groupby('patient_id')\n",
    "data_X = []\n",
    "data_Y = []\n",
    "for patient in df['patient_id'].unique():\n",
    "#     print(patient)\n",
    "    curr_patient = gf.get_group(patient)\n",
    "    num_visits  = curr_patient.shape[0]\n",
    "    if num_visits < 3:\n",
    "        continue\n",
    "    elif num_visits == 3:\n",
    "        visit_0 = list(curr_patient.iloc[0,2:-1].values)\n",
    "        visit_1 = list(curr_patient.iloc[1,2:-1].values)\n",
    "        data_X.append([visit_0, visit_1])\n",
    "        data_Y.append(curr_patient.iloc[2,-1])\n",
    "    else:\n",
    "        for i in range(0, num_visits-2):\n",
    "            visit_0 = list(curr_patient.iloc[i,2:-1].values)\n",
    "            visit_1 = list(curr_patient.iloc[i+1,2:-1].values)\n",
    "            data_X.append([visit_0, visit_1])\n",
    "            data_Y.append(curr_patient.iloc[i+2,-1])"
   ]
  },
  {
   "cell_type": "code",
   "execution_count": 36,
   "metadata": {},
   "outputs": [],
   "source": [
    "data_X = np.array(data_X)"
   ]
  },
  {
   "cell_type": "code",
   "execution_count": 37,
   "metadata": {},
   "outputs": [],
   "source": [
    "data_Y = np.asarray(data_Y)"
   ]
  },
  {
   "cell_type": "code",
   "execution_count": 38,
   "metadata": {},
   "outputs": [
    {
     "name": "stdout",
     "output_type": "stream",
     "text": [
      "(146592, 2, 311)\n"
     ]
    }
   ],
   "source": [
    "print(data_X.shape)"
   ]
  },
  {
   "cell_type": "markdown",
   "metadata": {},
   "source": [
    "Convert y labels to one-hot vectors"
   ]
  },
  {
   "cell_type": "code",
   "execution_count": 39,
   "metadata": {},
   "outputs": [],
   "source": [
    "NUM_CLASSES = 16\n",
    "data_Y = tf.keras.utils.to_categorical(data_Y, num_classes=NUM_CLASSES)"
   ]
  },
  {
   "cell_type": "code",
   "execution_count": 40,
   "metadata": {},
   "outputs": [
    {
     "name": "stdout",
     "output_type": "stream",
     "text": [
      "(146592, 16)\n"
     ]
    }
   ],
   "source": [
    "print(data_Y.shape)"
   ]
  },
  {
   "cell_type": "markdown",
   "metadata": {},
   "source": [
    "### Step 8: Shuffle the data (TO BE IMPLEMENTED) with correspoding labels and create train-val-test splits"
   ]
  },
  {
   "cell_type": "markdown",
   "metadata": {},
   "source": [
    "Shuffling triplets not implemented, currently data is sequentially taken -- this is a source of bias"
   ]
  },
  {
   "cell_type": "code",
   "execution_count": 41,
   "metadata": {},
   "outputs": [],
   "source": [
    "# data = np.hstack((data_X, np.asarray(data_Y).reshape(len(data_Y),1)))\n",
    "# np.random.shuffle(data) # in place shuffling by row"
   ]
  },
  {
   "cell_type": "code",
   "execution_count": 42,
   "metadata": {},
   "outputs": [],
   "source": [
    "size = data_X.shape[0]\n",
    "train_size = int(0.8*size)\n",
    "val_delta = int(0.1*size)\n",
    "\n",
    "train_X, train_y = data_X[:train_size,:,:], data_Y[:train_size]\n",
    "val_X, val_y = data_X[train_size:train_size+val_delta,:,:], data_Y[train_size:train_size+val_delta]\n",
    "test_X, test_y = data_X[train_size+val_delta:,:,:], data_Y[train_size+val_delta:]"
   ]
  },
  {
   "cell_type": "markdown",
   "metadata": {},
   "source": [
    "### Step 9: Create the model"
   ]
  },
  {
   "cell_type": "code",
   "execution_count": 43,
   "metadata": {},
   "outputs": [
    {
     "name": "stdout",
     "output_type": "stream",
     "text": [
      "(117273, 2, 311) (117273, 16)\n"
     ]
    }
   ],
   "source": [
    "print(train_X.shape, train_y.shape)"
   ]
  },
  {
   "cell_type": "code",
   "execution_count": 58,
   "metadata": {},
   "outputs": [],
   "source": [
    "BATCH_SIZE = 128\n",
    "EPOCHS = 75\n",
    "NUM_LSTM_UNITS = 100\n"
   ]
  },
  {
   "cell_type": "code",
   "execution_count": 65,
   "metadata": {},
   "outputs": [],
   "source": [
    "# BUILD THE MODEL BY ADDING LAYERS\n",
    "model = tf.keras.models.Sequential()\n",
    "\n",
    "# add a bidirectional LSTM layer to not only take the past context of a vector into account but also the future context\n",
    "# can play with the activation type here: tanh(default) or relu being popular options\n",
    "# num_hidden_units\n",
    "model.add(tf.keras.layers.Bidirectional(tf.keras.layers.LSTM(units = NUM_LSTM_UNITS, input_shape= (train_X.shape[1], train_X.shape[2]))))\n",
    "\n",
    "# we can add another Bidirectional LSTM layer if need be -- but we will need to evaluate that later -- no need rn\n",
    "# model.add(Bidirectional(LSTM(num_hidden_units, input_shape= (train_X.shape[1], train_X.shape[2]))))\n",
    "\n",
    "# add dense units\n",
    "model.add(tf.keras.layers.Dense(units = 100, activation='softmax'))\n",
    "model.add(tf.keras.layers.Dense(units = 50, activation='softmax'))\n",
    "\n",
    "model.add(tf.keras.layers.Dense(units = NUM_CLASSES, activation='softmax'))\n",
    "\n",
    "# COMILE THE MODEL\n",
    "model.compile(loss='categorical_crossentropy', optimizer=tf.keras.optimizers.Adam(learning_rate=0.001),metrics=['accuracy'])"
   ]
  },
  {
   "cell_type": "markdown",
   "metadata": {},
   "source": [
    "### Step 10: Train the model"
   ]
  },
  {
   "cell_type": "code",
   "execution_count": 66,
   "metadata": {},
   "outputs": [
    {
     "name": "stdout",
     "output_type": "stream",
     "text": [
      "Epoch 1/75\n",
      "917/917 [==============================] - 6s 7ms/step - loss: 2.6208 - accuracy: 0.1268 - val_loss: 2.5579 - val_accuracy: 0.1391\n",
      "Epoch 2/75\n",
      "917/917 [==============================] - 5s 6ms/step - loss: 2.5275 - accuracy: 0.1570 - val_loss: 2.5026 - val_accuracy: 0.1665\n",
      "Epoch 3/75\n",
      "917/917 [==============================] - 5s 6ms/step - loss: 2.4920 - accuracy: 0.1587 - val_loss: 2.4777 - val_accuracy: 0.1691\n",
      "Epoch 4/75\n",
      "917/917 [==============================] - 5s 6ms/step - loss: 2.4639 - accuracy: 0.1774 - val_loss: 2.4547 - val_accuracy: 0.1858\n",
      "Epoch 5/75\n",
      "917/917 [==============================] - 5s 6ms/step - loss: 2.4413 - accuracy: 0.1820 - val_loss: 2.4423 - val_accuracy: 0.1832\n",
      "Epoch 6/75\n",
      "917/917 [==============================] - 5s 6ms/step - loss: 2.4265 - accuracy: 0.1826 - val_loss: 2.4314 - val_accuracy: 0.1832\n",
      "Epoch 7/75\n",
      "917/917 [==============================] - 6s 6ms/step - loss: 2.4121 - accuracy: 0.1862 - val_loss: 2.4238 - val_accuracy: 0.1888\n",
      "Epoch 8/75\n",
      "917/917 [==============================] - 5s 6ms/step - loss: 2.3945 - accuracy: 0.2099 - val_loss: 2.4137 - val_accuracy: 0.2115\n",
      "Epoch 9/75\n",
      "917/917 [==============================] - 5s 6ms/step - loss: 2.3630 - accuracy: 0.2197 - val_loss: 2.3862 - val_accuracy: 0.2165\n",
      "Epoch 10/75\n",
      "917/917 [==============================] - 5s 6ms/step - loss: 2.3311 - accuracy: 0.2323 - val_loss: 2.3776 - val_accuracy: 0.2194\n",
      "Epoch 11/75\n",
      "917/917 [==============================] - 5s 6ms/step - loss: 2.3103 - accuracy: 0.2391 - val_loss: 2.3684 - val_accuracy: 0.2234\n",
      "Epoch 12/75\n",
      "917/917 [==============================] - 5s 6ms/step - loss: 2.2927 - accuracy: 0.2447 - val_loss: 2.3721 - val_accuracy: 0.2221\n",
      "Epoch 13/75\n",
      "917/917 [==============================] - 5s 6ms/step - loss: 2.2751 - accuracy: 0.2506 - val_loss: 2.3692 - val_accuracy: 0.2240\n",
      "Epoch 14/75\n",
      "917/917 [==============================] - 5s 6ms/step - loss: 2.2572 - accuracy: 0.2555 - val_loss: 2.3722 - val_accuracy: 0.2255\n",
      "Epoch 15/75\n",
      "917/917 [==============================] - 5s 6ms/step - loss: 2.2382 - accuracy: 0.2648 - val_loss: 2.3699 - val_accuracy: 0.2289\n",
      "Epoch 16/75\n",
      "917/917 [==============================] - 5s 6ms/step - loss: 2.2187 - accuracy: 0.2713 - val_loss: 2.3809 - val_accuracy: 0.2253\n",
      "Epoch 17/75\n",
      "917/917 [==============================] - 5s 6ms/step - loss: 2.1994 - accuracy: 0.2776 - val_loss: 2.3872 - val_accuracy: 0.2250\n",
      "Epoch 18/75\n",
      "917/917 [==============================] - 5s 6ms/step - loss: 2.1809 - accuracy: 0.2845 - val_loss: 2.3890 - val_accuracy: 0.2283\n",
      "Epoch 19/75\n",
      "917/917 [==============================] - 5s 6ms/step - loss: 2.1622 - accuracy: 0.2894 - val_loss: 2.4018 - val_accuracy: 0.2247\n",
      "Epoch 20/75\n",
      "917/917 [==============================] - 5s 6ms/step - loss: 2.1429 - accuracy: 0.2961 - val_loss: 2.4123 - val_accuracy: 0.2230\n",
      "Epoch 21/75\n",
      "917/917 [==============================] - 5s 6ms/step - loss: 2.1236 - accuracy: 0.3022 - val_loss: 2.4307 - val_accuracy: 0.2203\n",
      "Epoch 22/75\n",
      "917/917 [==============================] - 5s 6ms/step - loss: 2.1053 - accuracy: 0.3072 - val_loss: 2.4346 - val_accuracy: 0.2245\n",
      "Epoch 23/75\n",
      "917/917 [==============================] - 5s 6ms/step - loss: 2.0866 - accuracy: 0.3127 - val_loss: 2.4504 - val_accuracy: 0.2212\n",
      "Epoch 24/75\n",
      "917/917 [==============================] - 5s 6ms/step - loss: 2.0673 - accuracy: 0.3179 - val_loss: 2.4649 - val_accuracy: 0.2227\n",
      "Epoch 25/75\n",
      "917/917 [==============================] - 5s 6ms/step - loss: 2.0479 - accuracy: 0.3243 - val_loss: 2.4838 - val_accuracy: 0.2212\n",
      "Epoch 26/75\n",
      "917/917 [==============================] - 5s 6ms/step - loss: 2.0292 - accuracy: 0.3302 - val_loss: 2.5054 - val_accuracy: 0.2209\n",
      "Epoch 27/75\n",
      "917/917 [==============================] - 5s 6ms/step - loss: 2.0102 - accuracy: 0.3353 - val_loss: 2.5191 - val_accuracy: 0.2179\n",
      "Epoch 28/75\n",
      "917/917 [==============================] - 5s 6ms/step - loss: 1.9919 - accuracy: 0.3413 - val_loss: 2.5380 - val_accuracy: 0.2178\n",
      "Epoch 29/75\n",
      "917/917 [==============================] - 5s 6ms/step - loss: 1.9746 - accuracy: 0.3464 - val_loss: 2.5503 - val_accuracy: 0.2186\n",
      "Epoch 30/75\n",
      "917/917 [==============================] - 5s 6ms/step - loss: 1.9550 - accuracy: 0.3519 - val_loss: 2.5833 - val_accuracy: 0.2150\n",
      "Epoch 31/75\n",
      "917/917 [==============================] - 5s 6ms/step - loss: 1.9371 - accuracy: 0.3574 - val_loss: 2.5954 - val_accuracy: 0.2147\n",
      "Epoch 32/75\n",
      "917/917 [==============================] - 5s 6ms/step - loss: 1.9201 - accuracy: 0.3613 - val_loss: 2.6169 - val_accuracy: 0.2153\n",
      "Epoch 33/75\n",
      "917/917 [==============================] - 5s 6ms/step - loss: 1.9031 - accuracy: 0.3660 - val_loss: 2.6286 - val_accuracy: 0.2154\n",
      "Epoch 34/75\n",
      "917/917 [==============================] - 5s 6ms/step - loss: 1.8856 - accuracy: 0.3716 - val_loss: 2.6476 - val_accuracy: 0.2140\n",
      "Epoch 35/75\n",
      "917/917 [==============================] - 5s 6ms/step - loss: 1.8687 - accuracy: 0.3766 - val_loss: 2.6798 - val_accuracy: 0.2147\n",
      "Epoch 36/75\n",
      "917/917 [==============================] - 5s 6ms/step - loss: 1.8511 - accuracy: 0.3817 - val_loss: 2.6996 - val_accuracy: 0.2122\n",
      "Epoch 37/75\n",
      "917/917 [==============================] - 5s 6ms/step - loss: 1.8364 - accuracy: 0.3866 - val_loss: 2.7118 - val_accuracy: 0.2141\n",
      "Epoch 38/75\n",
      "917/917 [==============================] - 5s 6ms/step - loss: 1.8194 - accuracy: 0.3906 - val_loss: 2.7302 - val_accuracy: 0.2116\n",
      "Epoch 39/75\n",
      "917/917 [==============================] - 5s 6ms/step - loss: 1.8047 - accuracy: 0.3957 - val_loss: 2.7552 - val_accuracy: 0.2092\n",
      "Epoch 40/75\n",
      "917/917 [==============================] - 5s 6ms/step - loss: 1.7894 - accuracy: 0.3991 - val_loss: 2.7777 - val_accuracy: 0.2111\n",
      "Epoch 41/75\n",
      "917/917 [==============================] - 5s 6ms/step - loss: 1.7722 - accuracy: 0.4037 - val_loss: 2.7997 - val_accuracy: 0.2120\n",
      "Epoch 42/75\n",
      "917/917 [==============================] - 5s 6ms/step - loss: 1.7578 - accuracy: 0.4100 - val_loss: 2.8144 - val_accuracy: 0.2099\n",
      "Epoch 43/75\n",
      "917/917 [==============================] - 5s 6ms/step - loss: 1.7434 - accuracy: 0.4129 - val_loss: 2.8368 - val_accuracy: 0.2061\n",
      "Epoch 44/75\n",
      "917/917 [==============================] - 5s 6ms/step - loss: 1.7294 - accuracy: 0.4179 - val_loss: 2.8578 - val_accuracy: 0.2114\n",
      "Epoch 45/75\n",
      "917/917 [==============================] - 6s 6ms/step - loss: 1.7136 - accuracy: 0.4235 - val_loss: 2.8858 - val_accuracy: 0.2084\n",
      "Epoch 46/75\n",
      "917/917 [==============================] - 6s 7ms/step - loss: 1.6985 - accuracy: 0.4296 - val_loss: 2.9094 - val_accuracy: 0.2050\n",
      "Epoch 47/75\n",
      "917/917 [==============================] - 5s 6ms/step - loss: 1.6838 - accuracy: 0.4335 - val_loss: 2.9355 - val_accuracy: 0.2057\n",
      "Epoch 48/75\n",
      "917/917 [==============================] - 5s 6ms/step - loss: 1.6676 - accuracy: 0.4391 - val_loss: 2.9583 - val_accuracy: 0.2014\n",
      "Epoch 49/75\n",
      "917/917 [==============================] - 5s 6ms/step - loss: 1.6547 - accuracy: 0.4447 - val_loss: 2.9644 - val_accuracy: 0.2023\n",
      "Epoch 50/75\n",
      "917/917 [==============================] - 5s 6ms/step - loss: 1.6405 - accuracy: 0.4502 - val_loss: 2.9914 - val_accuracy: 0.2020\n",
      "Epoch 51/75\n",
      "917/917 [==============================] - 5s 6ms/step - loss: 1.6262 - accuracy: 0.4544 - val_loss: 3.0092 - val_accuracy: 0.2007\n",
      "Epoch 52/75\n",
      "917/917 [==============================] - 5s 6ms/step - loss: 1.6122 - accuracy: 0.4587 - val_loss: 3.0294 - val_accuracy: 0.2006\n",
      "Epoch 53/75\n",
      "917/917 [==============================] - 5s 6ms/step - loss: 1.5985 - accuracy: 0.4646 - val_loss: 3.0715 - val_accuracy: 0.1952\n",
      "Epoch 54/75\n",
      "917/917 [==============================] - 5s 6ms/step - loss: 1.5838 - accuracy: 0.4696 - val_loss: 3.0855 - val_accuracy: 0.1980\n",
      "Epoch 55/75\n",
      "917/917 [==============================] - 5s 6ms/step - loss: 1.5733 - accuracy: 0.4730 - val_loss: 3.1060 - val_accuracy: 0.2014\n",
      "Epoch 56/75\n",
      "917/917 [==============================] - 5s 6ms/step - loss: 1.5596 - accuracy: 0.4777 - val_loss: 3.1214 - val_accuracy: 0.2011\n",
      "Epoch 57/75\n",
      "917/917 [==============================] - 5s 6ms/step - loss: 1.5481 - accuracy: 0.4830 - val_loss: 3.1502 - val_accuracy: 0.2013\n",
      "Epoch 58/75\n",
      "917/917 [==============================] - 5s 6ms/step - loss: 1.5351 - accuracy: 0.4878 - val_loss: 3.1711 - val_accuracy: 0.1960\n",
      "Epoch 59/75\n",
      "917/917 [==============================] - 5s 6ms/step - loss: 1.5241 - accuracy: 0.4912 - val_loss: 3.1726 - val_accuracy: 0.1960\n",
      "Epoch 60/75\n",
      "917/917 [==============================] - 5s 6ms/step - loss: 1.5125 - accuracy: 0.4962 - val_loss: 3.2103 - val_accuracy: 0.2010\n",
      "Epoch 61/75\n",
      "917/917 [==============================] - 5s 6ms/step - loss: 1.4989 - accuracy: 0.5014 - val_loss: 3.2216 - val_accuracy: 0.1971\n",
      "Epoch 62/75\n",
      "917/917 [==============================] - 5s 6ms/step - loss: 1.4903 - accuracy: 0.5040 - val_loss: 3.2571 - val_accuracy: 0.1963\n",
      "Epoch 63/75\n",
      "917/917 [==============================] - 5s 6ms/step - loss: 1.4780 - accuracy: 0.5092 - val_loss: 3.2847 - val_accuracy: 0.1963\n",
      "Epoch 64/75\n",
      "917/917 [==============================] - 6s 6ms/step - loss: 1.4652 - accuracy: 0.5133 - val_loss: 3.3037 - val_accuracy: 0.1927\n",
      "Epoch 65/75\n",
      "917/917 [==============================] - 5s 6ms/step - loss: 1.4604 - accuracy: 0.5139 - val_loss: 3.3197 - val_accuracy: 0.1916\n",
      "Epoch 66/75\n",
      "917/917 [==============================] - 5s 6ms/step - loss: 1.4496 - accuracy: 0.5177 - val_loss: 3.3535 - val_accuracy: 0.1952\n",
      "Epoch 67/75\n",
      "917/917 [==============================] - 5s 6ms/step - loss: 1.4378 - accuracy: 0.5230 - val_loss: 3.3848 - val_accuracy: 0.1922\n",
      "Epoch 68/75\n",
      "917/917 [==============================] - 5s 6ms/step - loss: 1.4289 - accuracy: 0.5257 - val_loss: 3.3833 - val_accuracy: 0.1909\n",
      "Epoch 69/75\n",
      "917/917 [==============================] - 5s 6ms/step - loss: 1.4196 - accuracy: 0.5300 - val_loss: 3.4200 - val_accuracy: 0.1886\n",
      "Epoch 70/75\n",
      "917/917 [==============================] - 5s 6ms/step - loss: 1.4110 - accuracy: 0.5325 - val_loss: 3.4192 - val_accuracy: 0.1931\n",
      "Epoch 71/75\n",
      "917/917 [==============================] - 5s 6ms/step - loss: 1.4017 - accuracy: 0.5360 - val_loss: 3.4314 - val_accuracy: 0.1924\n",
      "Epoch 72/75\n",
      "917/917 [==============================] - 5s 6ms/step - loss: 1.3890 - accuracy: 0.5409 - val_loss: 3.4826 - val_accuracy: 0.1891\n",
      "Epoch 73/75\n",
      "917/917 [==============================] - 5s 6ms/step - loss: 1.3861 - accuracy: 0.5417 - val_loss: 3.4769 - val_accuracy: 0.1905\n",
      "Epoch 74/75\n",
      "917/917 [==============================] - 5s 6ms/step - loss: 1.3719 - accuracy: 0.5466 - val_loss: 3.4843 - val_accuracy: 0.1903\n",
      "Epoch 75/75\n",
      "917/917 [==============================] - 5s 6ms/step - loss: 1.3667 - accuracy: 0.5496 - val_loss: 3.5113 - val_accuracy: 0.1897\n"
     ]
    }
   ],
   "source": [
    "# TRAIN THE NETWORK\n",
    "hist = model.fit(train_X, train_y, epochs= EPOCHS, batch_size = BATCH_SIZE, validation_data = (val_X, val_y))"
   ]
  },
  {
   "cell_type": "markdown",
   "metadata": {},
   "source": [
    "### Step 11: Evaluate the model"
   ]
  },
  {
   "cell_type": "code",
   "execution_count": 69,
   "metadata": {},
   "outputs": [
    {
     "data": {
      "image/png": "[encoded data removed]",
      "text/plain": [
       "<Figure size 432x288 with 1 Axes>"
      ]
     },
     "metadata": {
      "needs_background": "light"
     },
     "output_type": "display_data"
    },
    {
     "data": {
      "image/png": "[encoded data removed]",
      "text/plain": [
       "<Figure size 432x288 with 1 Axes>"
      ]
     },
     "metadata": {
      "needs_background": "light"
     },
     "output_type": "display_data"
    }
   ],
   "source": [
    "# PLOT HISTORY\n",
    "plt.plot(hist.history['loss'], label = 'train_loss')\n",
    "plt.plot(hist.history['val_loss'], label = 'validation_loss')\n",
    "plt.legend()\n",
    "plt.show()\n",
    "\n",
    "plt.plot(hist.history['accuracy'], label = 'train_acc')\n",
    "plt.plot(hist.history['val_accuracy'], label = 'validation_acc')\n",
    "plt.legend()\n",
    "plt.show()"
   ]
  },
  {
   "cell_type": "code",
   "execution_count": 70,
   "metadata": {},
   "outputs": [
    {
     "name": "stdout",
     "output_type": "stream",
     "text": [
      "Average training acc:  40.978728807889496\n",
      "Average validation acc:  20.805805921554565\n"
     ]
    }
   ],
   "source": [
    "# PRINT THE STATS\n",
    "avg_train_acc = np.average(hist.history['accuracy'][10:])*100\n",
    "avg_valid_acc = np.average(hist.history['val_accuracy'][10:])*100\n",
    "print(\"Average training acc: \", avg_train_acc)\n",
    "print(\"Average validation acc: \", avg_valid_acc)"
   ]
  },
  {
   "cell_type": "code",
   "execution_count": 71,
   "metadata": {},
   "outputs": [
    {
     "name": "stdout",
     "output_type": "stream",
     "text": [
      "459/459 [==============================] - 1s 3ms/step - loss: 3.5839 - accuracy: 0.1889\n",
      "test loss, test acc: [3.5839195251464844, 0.1888813078403473]\n"
     ]
    }
   ],
   "source": [
    "# EVALUATE THE MODEL\n",
    "results = model.evaluate(test_X, test_y)\n",
    "print(\"test loss, test acc:\", results)"
   ]
  },
  {
   "cell_type": "markdown",
   "metadata": {},
   "source": [
    "### Step 12: Predict based on the model and Visualize Output"
   ]
  },
  {
   "cell_type": "code",
   "execution_count": 72,
   "metadata": {},
   "outputs": [],
   "source": [
    "def get_label2className_dict():\n",
    "    '''\n",
    "    Function to create reverse map of labels to category name\n",
    "    '''\n",
    "    category_dict = {\n",
    "        0: 'Circulatory',\n",
    "        1: 'Dermatologic',\n",
    "        2:'Endocrine & Immune',\n",
    "        3:'Gastrointestinal',\n",
    "        4:'Genitourinary', \n",
    "        5:'Hematologic',\n",
    "        6:'Infectious',\n",
    "        7:'Injury/Poisoning',\n",
    "        8:'Musculoskeletal',\n",
    "        9:'Neurologic',\n",
    "        10:'Other',\n",
    "        11:'Obstetric',\n",
    "        12:'Neoplastic',\n",
    "        13:'Psychiatric',\n",
    "        14:'Respiratory',\n",
    "        15:'Substance use'}\n",
    "    #use to_categorical()\n",
    "    return category_dict"
   ]
  },
  {
   "cell_type": "code",
   "execution_count": 73,
   "metadata": {},
   "outputs": [],
   "source": [
    "from sklearn.metrics import confusion_matrix\n",
    "\n",
    "# VARIABLES USED FOR MODEL SAVING, EVALUATING AND PLOTTING\n",
    "label2className = get_label2className_dict() # dictionary to map numerical categories to their names : eg {1:\"injury\", 2:\"endocrine\"}"
   ]
  },
  {
   "cell_type": "code",
   "execution_count": 74,
   "metadata": {},
   "outputs": [],
   "source": [
    "# make predictions\n",
    "test_ypred = model.predict(test_X)\n",
    "test_ypred = np.argmax(test_ypred, axis=-1)"
   ]
  },
  {
   "cell_type": "code",
   "execution_count": 75,
   "metadata": {},
   "outputs": [
    {
     "name": "stdout",
     "output_type": "stream",
     "text": [
      "(14660,)\n"
     ]
    }
   ],
   "source": [
    "print(test_ypred.shape)"
   ]
  },
  {
   "cell_type": "code",
   "execution_count": 76,
   "metadata": {},
   "outputs": [],
   "source": [
    "import itertools  \n",
    "def plot_confusion_matrix(cm, class_names):\n",
    "    \"\"\"\n",
    "    Returns a matplotlib figure containing the plotted confusion matrix.\n",
    "\n",
    "    Args:\n",
    "        cm (array, shape = [n, n]): a confusion matrix of integer classes\n",
    "        class_names (array, shape = [n]): String names of the integer classes\n",
    "    \"\"\"\n",
    "    figure = plt.figure(figsize=(10, 10))\n",
    "    pp = plt.imshow(cm, interpolation='nearest', cmap=plt.cm.Blues)\n",
    "\n",
    "    tick_marks = np.arange(len(class_names))\n",
    "    plt.xticks(tick_marks, class_names, rotation=0, fontsize=12)\n",
    "    plt.yticks(tick_marks, class_names, fontsize=12)\n",
    "\n",
    "    # Normalize the confusion matrix.\n",
    "    cm = np.around(cm.astype('float') / cm.sum(axis=1)[:, np.newaxis], decimals=2)\n",
    "\n",
    "    # Use white text if squares are dark; otherwise black.\n",
    "    threshold = cm.max() / 2.\n",
    "    for i, j in itertools.product(range(cm.shape[0]), range(cm.shape[1])):\n",
    "            color = \"white\" if cm[i, j] > threshold else \"black\"\n",
    "            plt.text(j, i, cm[i, j], horizontalalignment=\"center\", color=color, fontsize = 9, weight=\"bold\")\n",
    "\n",
    "    plt.tight_layout()\n",
    "    plt.ylabel('True label', fontsize=14, fontweight='bold')\n",
    "    plt.xlabel('Predicted label', fontsize=14, fontweight='bold') \n",
    "    plt.subplots_adjust(bottom=0.1, left=.25)\n",
    "    return figure"
   ]
  },
  {
   "cell_type": "code",
   "execution_count": 78,
   "metadata": {},
   "outputs": [
    {
     "data": {
      "text/plain": [
       "<Figure size 432x288 with 0 Axes>"
      ]
     },
     "metadata": {},
     "output_type": "display_data"
    },
    {
     "data": {
      "image/png": "[encoded data removed]",
      "text/plain": [
       "<Figure size 720x720 with 1 Axes>"
      ]
     },
     "metadata": {
      "needs_background": "light"
     },
     "output_type": "display_data"
    }
   ],
   "source": [
    "# VISUALIZE PREDICTIVE CAPACITY USING CONFUSION MATRICES\n",
    "cm = confusion_matrix(np.argmax(test_y, axis=-1), test_ypred)\n",
    "np.set_printoptions(precision=2)\n",
    "plt.figure()\n",
    "\n",
    "class_names = []\n",
    "for k,v in label2className.items():\n",
    "    class_names.append(k)\n",
    "\n",
    "plot_confusion_matrix(cm, class_names)\n",
    "plt.savefig('Confusion_matrix_model_{}.png'.format(1))\n",
    "plt.show()"
   ]
  },
  {
   "cell_type": "code",
   "execution_count": null,
   "metadata": {},
   "outputs": [],
   "source": []
  }
 ],
 "metadata": {
  "kernelspec": {
   "display_name": "Python 3",
   "language": "python",
   "name": "python3"
  },
  "language_info": {
   "codemirror_mode": {
    "name": "ipython",
    "version": 3
   },
   "file_extension": ".py",
   "mimetype": "text/x-python",
   "name": "python",
   "nbconvert_exporter": "python",
   "pygments_lexer": "ipython3",
   "version": "3.6.6"
  }
 },
 "nbformat": 4,
 "nbformat_minor": 4
}
