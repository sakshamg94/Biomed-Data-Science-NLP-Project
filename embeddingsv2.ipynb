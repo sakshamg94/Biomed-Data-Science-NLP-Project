{
 "cells": [
  {
   "cell_type": "markdown",
   "metadata": {},
   "source": [
    "# CS 271 Project Data Processing"
   ]
  },
  {
   "cell_type": "code",
   "execution_count": 1,
   "metadata": {},
   "outputs": [],
   "source": [
    "# Define imports\n",
    "import random\n",
    "import pandas as pd\n",
    "import numpy as np\n",
    "import tensorflow as tf\n",
    "from numpy import asarray\n",
    "from sklearn import preprocessing\n",
    "from sklearn.preprocessing import OneHotEncoder\n",
    "from tensorflow.keras.utils import to_categorical\n",
    "import gensim.downloader as api\n",
    "import matplotlib.pyplot as plt\n",
    "import sys\n",
    "import pickle\n",
    "import os\n",
    "import csv\n",
    "from collections import defaultdict\n",
    "import time\n",
    "import re"
   ]
  },
  {
   "cell_type": "markdown",
   "metadata": {},
   "source": [
    "### Step 1: Read in relevant Data Files"
   ]
  },
  {
   "cell_type": "markdown",
   "metadata": {},
   "source": [
    "Make sure the files below are in the same directory as your jupyter file"
   ]
  },
  {
   "cell_type": "code",
   "execution_count": 2,
   "metadata": {},
   "outputs": [],
   "source": [
    "# Define constants\n",
    "PATIENT_DATA_FILE = 'B220_SAA_v1.csv'\n",
    "CLEANED_LABELS_FILE = 'ICD_Label_Cleaned_Oct_25.csv'\n",
    "CODE_DESC_FILE = 'BIODS220_ICD_Dx_10_9_v7 - icd_dx_10_9_v7.csv'\n",
    "# May want to consider: glove-wiki-gigaword-100 in the future\n",
    "# See more here: https://github.com/RaRe-Technologies/gensim-data\n",
    "LANG_MODEL = 'word2vec-google-news-300'"
   ]
  },
  {
   "cell_type": "code",
   "execution_count": 3,
   "metadata": {},
   "outputs": [],
   "source": [
    "def read_csv_to_dict(file_path: str, key: int, value: int):\n",
    "    ret_dict = {}\n",
    "    with open(file_path, newline='') as csvfile:\n",
    "        data = csv.reader(csvfile, delimiter=',')\n",
    "        for row in data:\n",
    "            ret_dict[row[key]] = row[value]\n",
    "    print(\"Reading {} complete!\".format(file_path))\n",
    "    return ret_dict"
   ]
  },
  {
   "cell_type": "code",
   "execution_count": 4,
   "metadata": {},
   "outputs": [],
   "source": [
    "def get_category_dict():\n",
    "    category_dict = {\n",
    "        'Circulatory': 0,\n",
    "        'Dermatologic': 1,\n",
    "        'Endocrine & Immune': 2,\n",
    "        'Gastrointestinal': 3,\n",
    "        'Genitourinary': 4, \n",
    "        'Hematologic': 5,\n",
    "        'Infectious': 6,\n",
    "        'Injury': 7,\n",
    "        'Injury & Poisoning': 7,\n",
    "        'Poisoning': 7,\n",
    "        'Musculoskeletal': 8,\n",
    "        'Neurologic': 9,\n",
    "        'Other': 10,\n",
    "        'Obstetric': 11,\n",
    "        'Neoplastic': 12,\n",
    "        'Psychiatric': 13,\n",
    "        'Respiratory': 14,\n",
    "        'Substance use': 15}\n",
    "    #use to_categorical()\n",
    "    return category_dict"
   ]
  },
  {
   "cell_type": "code",
   "execution_count": 5,
   "metadata": {},
   "outputs": [
    {
     "name": "stdout",
     "output_type": "stream",
     "text": [
      "Reading word2vec-google-news-300 complete!\n",
      "Reading ICD_Label_Cleaned_Oct_25.csv complete!\n",
      "Reading BIODS220_ICD_Dx_10_9_v7 - icd_dx_10_9_v7.csv complete!\n"
     ]
    }
   ],
   "source": [
    "# Import word to vec model - takes a few minutes\n",
    "wv = api.load(LANG_MODEL)\n",
    "print(\"Reading {} complete!\".format(LANG_MODEL))\n",
    "\n",
    "# Create labels dict i.e. code -> label, i.e. A840 -> 'Neurologic'\n",
    "label_dict = read_csv_to_dict(CLEANED_LABELS_FILE, key=0, value=1)\n",
    "\n",
    "# Create descriptions dict i.e. code -> description\n",
    "codes_dict = read_csv_to_dict(CODE_DESC_FILE, key=0, value=2)\n",
    "\n",
    "# Create dict for label to int\n",
    "category_dict = get_category_dict()"
   ]
  },
  {
   "cell_type": "markdown",
   "metadata": {},
   "source": [
    "### Step 2: Create one-hot feature vectors"
   ]
  },
  {
   "cell_type": "markdown",
   "metadata": {},
   "source": [
    "For the sake of reducing feature space, we are only including three features in our embedding. Future iterations of our embeddings will include more features, such as the patient's county."
   ]
  },
  {
   "cell_type": "code",
   "execution_count": 6,
   "metadata": {},
   "outputs": [],
   "source": [
    "def create_one_hot(patient_data):\n",
    "    # Creates one-hot vectors\n",
    "    columns_to_one_hot = ['Sex','Race']\n",
    "    one_hot = pd.get_dummies(patient_data[columns_to_one_hot])\n",
    "    \n",
    "    ordinal_columns = ['Age']\n",
    "    one_hot = pd.concat([patient_data[ordinal_columns], one_hot], axis=1)\n",
    "    \n",
    "    # Normalize age\n",
    "    x = one_hot.Age.values.reshape(-1,1)\n",
    "    min_max_scaler = preprocessing.MinMaxScaler()\n",
    "    x_scaled = min_max_scaler.fit_transform(x)\n",
    "    one_hot.Age = x_scaled\n",
    "    \n",
    "    return one_hot.values"
   ]
  },
  {
   "cell_type": "code",
   "execution_count": 7,
   "metadata": {},
   "outputs": [
    {
     "name": "stdout",
     "output_type": "stream",
     "text": [
      "Reading in patient_data took 71.29649615287781\n",
      "Creating one-hot encodings took 10.445739030838013\n",
      "(27977932, 11)\n"
     ]
    }
   ],
   "source": [
    "# Read in patient_data - takes a few mins\n",
    "patient_read_start = time.time()\n",
    "patient_data = pd.read_csv(PATIENT_DATA_FILE, dtype=str, usecols=['Sex','Race','Age','Dx10_prin'])\n",
    "print(\"Reading in patient_data took {}\".format(time.time() - patient_read_start))\n",
    "\n",
    "# One-hot encode visit features\n",
    "one_hot_start = time.time()\n",
    "one_hot = create_one_hot(patient_data)\n",
    "print(\"Creating one-hot encodings took {}\".format(time.time() - one_hot_start))\n",
    "print(one_hot.shape)"
   ]
  },
  {
   "cell_type": "code",
   "execution_count": 8,
   "metadata": {},
   "outputs": [],
   "source": [
    "# (num_patients, 311)"
   ]
  },
  {
   "cell_type": "markdown",
   "metadata": {},
   "source": [
    "# Step 3: Embed ICD Codes + concat with one-hot vectors"
   ]
  },
  {
   "cell_type": "markdown",
   "metadata": {},
   "source": [
    "Given a sentence, retrieve the pre-trained word2vec embedding for each word in the sentence and return the mean of the embeddings. If the sentence has no words that exist in the word2vec model, we return None."
   ]
  },
  {
   "cell_type": "code",
   "execution_count": 9,
   "metadata": {},
   "outputs": [],
   "source": [
    "def embed_sentence(sentence, split_tokens): \n",
    "    # Revisit: since medical terms may not be present, although they are important to include\n",
    "    word_embeddings = []\n",
    "    for word in re.split(split_tokens, sentence):\n",
    "        try:\n",
    "            word_embeddings.append(wv[word.lower()])\n",
    "        except KeyError:\n",
    "            continue\n",
    "    if len(word_embeddings)>0:\n",
    "        return np.mean(word_embeddings, axis=0)\n",
    "    else:\n",
    "        return None"
   ]
  },
  {
   "cell_type": "markdown",
   "metadata": {},
   "source": [
    "Given a sentence and label, return the embedding of a sentence. If there is no embedding for the sentence then return the embedding for the label."
   ]
  },
  {
   "cell_type": "code",
   "execution_count": 10,
   "metadata": {},
   "outputs": [],
   "source": [
    "def get_w2v_embedding(sentence, label):\n",
    "    \"\"\"\n",
    "    Sentence: A description of an ICD10 code, usually 1-5 words\n",
    "    Category: The class of the diagnosis, one of 17 options\n",
    "    \"\"\"\n",
    "    embedding = embed_sentence(sentence, split_tokens='\\s|(?<!\\d)[:;,.\\(\\)\\[\\]-](?!\\d)')\n",
    "    \n",
    "    # If we can't create embedding with ICD10 codes, we use category\n",
    "    if embedding is not None:\n",
    "        return embedding\n",
    "    else:\n",
    "        return embed_sentence(label, split_tokens='\\s')"
   ]
  },
  {
   "cell_type": "markdown",
   "metadata": {},
   "source": [
    "Given an ICD code, return the corresponding description. Here, we attempt to take handle mistyped data. Some codes are missing 1-2 characters. Sometimes, adding a 0 or removing the last character in a code will fix typos, however this strategy is prone to error and not guarunteed to work."
   ]
  },
  {
   "cell_type": "code",
   "execution_count": 11,
   "metadata": {},
   "outputs": [],
   "source": [
    "def get_desc(code):\n",
    "    try:\n",
    "        desc = codes_dict[code]\n",
    "    except KeyError:\n",
    "        try:\n",
    "            new_code = code + '0'\n",
    "            desc = codes_dict[new_code]\n",
    "        except:\n",
    "            try:\n",
    "                new_code = code[:-1]\n",
    "                desc = codes_dict[new_code]\n",
    "            except:\n",
    "                desc = 'Other'\n",
    "    try:\n",
    "        label = labels_dict[code]\n",
    "    except:\n",
    "        label = 'Other'\n",
    "    return desc, label"
   ]
  },
  {
   "cell_type": "markdown",
   "metadata": {},
   "source": [
    "Given an ICD code, we retrieve the embedding (300x1). We use dynamic programming to save embeddings. Often, only the first three characters of an ICD code are enough to determine the general diagnosis. Longer codes will only have slightly different descriptions (if at all). Thus, to reduce computational complexity, we store the first three characters of ICD codes. Future ICD codes that share the same first three characters will automatically use the same embedding, regardless of any remaining characters."
   ]
  },
  {
   "cell_type": "code",
   "execution_count": 12,
   "metadata": {},
   "outputs": [],
   "source": [
    "descriptions_dict = {}\n",
    "\n",
    "def code_to_embedding(code):\n",
    "    try:\n",
    "        embedding = descriptions_dict[str(code[:3])]\n",
    "    except:\n",
    "        desc, category = get_desc(code)\n",
    "        embedding = get_w2v_embedding(desc, category)\n",
    "        if desc is not 'Other':\n",
    "            descriptions_dict[str(code[:3])] = embedding\n",
    "    return embedding"
   ]
  },
  {
   "cell_type": "markdown",
   "metadata": {},
   "source": [
    "For each row of ICD Codes (i.e ['E839', 'SA920']), we retrieve the corresponding embeddings. For patient visits with n ICD Codes where n>1, we give 0.75 weight to the primary ICD code and 0.25/n-1 weight to the remaining (secondary) codes."
   ]
  },
  {
   "cell_type": "code",
   "execution_count": 13,
   "metadata": {},
   "outputs": [],
   "source": [
    "PRIMARY_WEIGHT = 0.75\n",
    "SECONDARY_WEIGHT = 0.25\n",
    "\n",
    "def row_to_embedding(input_row):\n",
    "    \"\"\"\n",
    "    input_row: A list of ICD10 codes\n",
    "    returns a 300x1 embedding\n",
    "    \"\"\"\n",
    "    n = len(input_row)\n",
    "    code = input_row[0]\n",
    "    # Primary ICD code:\n",
    "    primary_embedding = code_to_embedding(code)\n",
    "    if n < 2: return primary_embedding\n",
    "    \n",
    "    # Subsequent ICD codes:\n",
    "    secondary_embedding = None\n",
    "    for i in range(1, n):\n",
    "        code = input_row[i]\n",
    "        curr_embed = code_to_embedding(code)\n",
    "        if secondary_embedding is None:\n",
    "            secondary_embedding = curr_embed\n",
    "        else:\n",
    "            secondary_embedding = np.sum([secondary_embedding, curr_embed], axis=0)\n",
    "    \n",
    "    \n",
    "    return np.sum([primary_embedding * PRIMARY_WEIGHT, secondary_embedding * (SECONDARY_WEIGHT/n-1)], axis=0)\n"
   ]
  },
  {
   "cell_type": "markdown",
   "metadata": {},
   "source": [
    "We read in the patient visit csv file again and create embeddings for each visit as we read the file. For each visit, we have already computed the one-hot vector encoding for categorical and ordinal variables. Here, we combine those encodings with ICD_10 code embeddings. To reduce model complexity, we limit the number of patients (not total visits) for which to create embeddings. Here, we are working under the assumption that all visits for a patient appear one after the other in the csv file, thus, we can stop reading from the file once `patient id > num_patients`. Takes a few mins to run"
   ]
  },
  {
   "cell_type": "code",
   "execution_count": 14,
   "metadata": {},
   "outputs": [
    {
     "name": "stdout",
     "output_type": "stream",
     "text": [
      "Shape of embeddings: (215240,311)\n",
      "Shape of patient_visit: (215240,2)\n"
     ]
    }
   ],
   "source": [
    "NUM_PATIENTS = 0.1e6\n",
    "\n",
    "def get_visit_embedding(input_file_path: str):\n",
    "    start_time = time.time()\n",
    "    embeddings = []\n",
    "    patient_visit = []\n",
    "    max_len = 0\n",
    "#     patient_visit = {\n",
    "#         1 : [[1, embed],[4, embed],[2,embed]],\n",
    "#         2 : [[embed],[embed],....],\n",
    "#         .\n",
    "#         .\n",
    "#         .\n",
    "#     }\n",
    "    with open(input_file_path, newline='') as csvfile:\n",
    "        data = csv.reader(csvfile, delimiter=',')\n",
    "        count = 0\n",
    "        for row in data: # <- top to bottom\n",
    "            if count == 0: # Skip the first row\n",
    "                count += 1\n",
    "                continue\n",
    "            \n",
    "            if int(row[0]) > NUM_PATIENTS: # Used to limit num patients, reducing model space\n",
    "                break\n",
    "                \n",
    "            ICD_code_embeddings = row_to_embedding([entry for entry in row[16:41] if entry is not ''])\n",
    "            \n",
    "            # Combine one-hot with w2v embeddings\n",
    "            visit_embedding = np.concatenate((one_hot[count-1, :], ICD_code_embeddings), axis=0)\n",
    "            embeddings.append(visit_embedding)\n",
    "            patient_visit.append([row[0], row[1]]) # store patient and visit info\n",
    "            \n",
    "            # Tracking progress\n",
    "            if count % 250000 == 0:\n",
    "                print(\"Completed {} visit embeddings in {}\".format(count, (time.time() - start_time)))\n",
    "            count +=1\n",
    "            \n",
    "    print(\"Shape of embeddings: ({},{})\".format(len(embeddings), len(embeddings[0])))\n",
    "    print(\"Shape of patient_visit: ({},{})\".format(len(patient_visit), len(patient_visit[0])))\n",
    "    embedding_vecs = np.array(embeddings)\n",
    "    result = np.hstack((np.array(patient_visit),embedding_vecs)) # patient id, visit id, embedding vector\n",
    "    return result, count-1\n",
    "\n",
    "embedding_dset, num_visits = get_visit_embedding(PATIENT_DATA_FILE)"
   ]
  },
  {
   "cell_type": "markdown",
   "metadata": {},
   "source": [
    "### Step 4: Get labels"
   ]
  },
  {
   "cell_type": "markdown",
   "metadata": {},
   "source": [
    "To create labels, we copy the primary diagnosis codes (`DX10_prin` column) into its own column named `Label`. For each code, we use the `label_dict` to retrive the corresponding category of the ICD code. Then we use the `category_dict` to retieve a number to represent the label. We limit the number of visits to the same size as the number of embeddings."
   ]
  },
  {
   "cell_type": "code",
   "execution_count": 16,
   "metadata": {},
   "outputs": [],
   "source": [
    "def convert_Dx10_prin_to_label(DX_10_code):\n",
    "    try:\n",
    "        category = label_dict[DX_10_code] # i.e. A065 -> Infectious\n",
    "    except KeyError:\n",
    "        category = 'Other'\n",
    "    return category_dict[category] # i.e. Infectious -> 7 \n",
    "\n",
    "def get_y_labels(patient_data):\n",
    "    # Copy Dx10 code into new column named Label\n",
    "    patient_data['Label'] = patient_data.Dx10_prin\n",
    "\n",
    "    # Apply function to Label column to convert Dx10_prin code to category\n",
    "    patient_data.Label = patient_data.Label.apply(convert_Dx10_prin_to_label)\n",
    "    \n",
    "    # Saves only the top num_visits, since that's how many embeddings there are\n",
    "    y_list = patient_data.Label.iloc[:num_visits].to_list()\n",
    "    return np.array(y_list), len(y_list)"
   ]
  },
  {
   "cell_type": "code",
   "execution_count": 17,
   "metadata": {},
   "outputs": [
    {
     "name": "stdout",
     "output_type": "stream",
     "text": [
      "Creating labels took 14.906348466873169\n"
     ]
    }
   ],
   "source": [
    "# Get y_dset\n",
    "label_start = time.time()\n",
    "y_dset, num_labels = get_y_labels(patient_data)\n",
    "print(\"Creating labels took {}\".format(time.time() - label_start))"
   ]
  },
  {
   "cell_type": "code",
   "execution_count": 18,
   "metadata": {},
   "outputs": [],
   "source": [
    "# Ensures the number of labels corresponds to the number of patient visits\n",
    "assert(num_labels == num_visits)"
   ]
  },
  {
   "cell_type": "markdown",
   "metadata": {},
   "source": [
    "### Step 5: Save embeddings and labels"
   ]
  },
  {
   "cell_type": "code",
   "execution_count": 19,
   "metadata": {},
   "outputs": [],
   "source": [
    "# filename = 'embeddings_{}.pickle'.format(LANG_MODEL)\n",
    "\n",
    "# start_time = time.time()\n",
    "# pickle_out = open(filename, 'wb')\n",
    "# pickle.dump((embedding_dset, y_dset), pickle_out, protocol=4)\n",
    "# pickle_out.close()\n",
    "# print(\"Saving embeddings took: {}\".format(time.time() - start_time))"
   ]
  },
  {
   "cell_type": "code",
   "execution_count": 20,
   "metadata": {},
   "outputs": [
    {
     "name": "stdout",
     "output_type": "stream",
     "text": [
      "Saving embeddings took: 86.343346118927\n"
     ]
    }
   ],
   "source": [
    "filename = 'embeddings_{}.pickle'.format(LANG_MODEL)\n",
    "start_time = time.time()\n",
    "pickle_in = open(filename, 'rb')\n",
    "embedding_dset, y_dset = pickle.load(pickle_in)\n",
    "pickle_in.close()\n",
    "print(\"Saving embeddings took: {}\".format(time.time() - start_time))"
   ]
  },
  {
   "cell_type": "markdown",
   "metadata": {},
   "source": [
    "### Step 6: Store patient_id, visit_id, embedding_vec, label in a pandas dataframe"
   ]
  },
  {
   "cell_type": "code",
   "execution_count": 21,
   "metadata": {},
   "outputs": [],
   "source": [
    "collated_data = np.hstack((embedding_dset, y_dset.reshape(y_dset.shape[0],1))) # -- last col is label column, first 2 are patient an visit ids\n",
    "cols =  ['patient_id', 'visit_id'] + ['embed_vec'+ str(i) for i in range(embedding_dset.shape[1]-2)] + ['label']\n",
    "df = pd.DataFrame(data = collated_data, columns = cols)"
   ]
  },
  {
   "cell_type": "markdown",
   "metadata": {},
   "source": [
    "Transform the data types "
   ]
  },
  {
   "cell_type": "code",
   "execution_count": null,
   "metadata": {},
   "outputs": [],
   "source": [
    "# df['patient_id'] = df['patient_id'].astype(str).astype('int64')\n",
    "# df['visit_id'] = df['visit_id'].astype(str).astype('int64')\n",
    "# for col in cols[2:-1]:\n",
    "#     df[col] = df[col].astype(str).astype(np.float32)\n",
    "\n",
    "# df['label'] = df['label'].astype(str).astype(np.int16)"
   ]
  },
  {
   "cell_type": "code",
   "execution_count": null,
   "metadata": {},
   "outputs": [],
   "source": [
    "# df.dtypes"
   ]
  },
  {
   "cell_type": "markdown",
   "metadata": {},
   "source": [
    "Comment out the pickle dump/load sections below based on need"
   ]
  },
  {
   "cell_type": "code",
   "execution_count": null,
   "metadata": {},
   "outputs": [],
   "source": [
    "# filename = 'patient_dataframe.pkl'\n",
    "# pickle_out = open(filename, 'wb')\n",
    "# pickle.dump(df, pickle_out, protocol=4)\n",
    "# pickle_out.close()"
   ]
  },
  {
   "cell_type": "code",
   "execution_count": 23,
   "metadata": {},
   "outputs": [],
   "source": [
    "filename = 'patient_dataframe.pkl'\n",
    "pickle_in = open(filename, 'rb')\n",
    "df = pickle.load(pickle_in)\n",
    "pickle_in.close()"
   ]
  },
  {
   "cell_type": "code",
   "execution_count": 24,
   "metadata": {
    "scrolled": true
   },
   "outputs": [
    {
     "data": {
      "text/html": [
       "<div>\n",
       "<style scoped>\n",
       "    .dataframe tbody tr th:only-of-type {\n",
       "        vertical-align: middle;\n",
       "    }\n",
       "\n",
       "    .dataframe tbody tr th {\n",
       "        vertical-align: top;\n",
       "    }\n",
       "\n",
       "    .dataframe thead th {\n",
       "        text-align: right;\n",
       "    }\n",
       "</style>\n",
       "<table border=\"1\" class=\"dataframe\">\n",
       "  <thead>\n",
       "    <tr style=\"text-align: right;\">\n",
       "      <th></th>\n",
       "      <th>patient_id</th>\n",
       "      <th>visit_id</th>\n",
       "      <th>embed_vec0</th>\n",
       "      <th>embed_vec1</th>\n",
       "      <th>embed_vec2</th>\n",
       "      <th>embed_vec3</th>\n",
       "      <th>embed_vec4</th>\n",
       "      <th>embed_vec5</th>\n",
       "      <th>embed_vec6</th>\n",
       "      <th>embed_vec7</th>\n",
       "      <th>...</th>\n",
       "      <th>embed_vec302</th>\n",
       "      <th>embed_vec303</th>\n",
       "      <th>embed_vec304</th>\n",
       "      <th>embed_vec305</th>\n",
       "      <th>embed_vec306</th>\n",
       "      <th>embed_vec307</th>\n",
       "      <th>embed_vec308</th>\n",
       "      <th>embed_vec309</th>\n",
       "      <th>embed_vec310</th>\n",
       "      <th>label</th>\n",
       "    </tr>\n",
       "  </thead>\n",
       "  <tbody>\n",
       "    <tr>\n",
       "      <th>0</th>\n",
       "      <td>1</td>\n",
       "      <td>1</td>\n",
       "      <td>0.296610</td>\n",
       "      <td>1.0</td>\n",
       "      <td>0.0</td>\n",
       "      <td>0.0</td>\n",
       "      <td>0.0</td>\n",
       "      <td>0.0</td>\n",
       "      <td>0.0</td>\n",
       "      <td>0.0</td>\n",
       "      <td>...</td>\n",
       "      <td>0.079258</td>\n",
       "      <td>-0.060437</td>\n",
       "      <td>0.101398</td>\n",
       "      <td>-0.026986</td>\n",
       "      <td>-0.030562</td>\n",
       "      <td>-0.117866</td>\n",
       "      <td>-0.021423</td>\n",
       "      <td>0.123450</td>\n",
       "      <td>-0.078947</td>\n",
       "      <td>7</td>\n",
       "    </tr>\n",
       "    <tr>\n",
       "      <th>1</th>\n",
       "      <td>1</td>\n",
       "      <td>2</td>\n",
       "      <td>0.305085</td>\n",
       "      <td>1.0</td>\n",
       "      <td>0.0</td>\n",
       "      <td>0.0</td>\n",
       "      <td>0.0</td>\n",
       "      <td>0.0</td>\n",
       "      <td>0.0</td>\n",
       "      <td>0.0</td>\n",
       "      <td>...</td>\n",
       "      <td>0.031657</td>\n",
       "      <td>0.136739</td>\n",
       "      <td>-0.124715</td>\n",
       "      <td>-0.038696</td>\n",
       "      <td>0.236018</td>\n",
       "      <td>-0.081909</td>\n",
       "      <td>0.068095</td>\n",
       "      <td>0.050334</td>\n",
       "      <td>0.190104</td>\n",
       "      <td>4</td>\n",
       "    </tr>\n",
       "    <tr>\n",
       "      <th>2</th>\n",
       "      <td>1</td>\n",
       "      <td>3</td>\n",
       "      <td>0.305085</td>\n",
       "      <td>1.0</td>\n",
       "      <td>0.0</td>\n",
       "      <td>0.0</td>\n",
       "      <td>0.0</td>\n",
       "      <td>0.0</td>\n",
       "      <td>0.0</td>\n",
       "      <td>0.0</td>\n",
       "      <td>...</td>\n",
       "      <td>-0.043800</td>\n",
       "      <td>0.093867</td>\n",
       "      <td>0.049588</td>\n",
       "      <td>-0.142370</td>\n",
       "      <td>-0.056448</td>\n",
       "      <td>0.212482</td>\n",
       "      <td>-0.042262</td>\n",
       "      <td>-0.023515</td>\n",
       "      <td>-0.057756</td>\n",
       "      <td>15</td>\n",
       "    </tr>\n",
       "    <tr>\n",
       "      <th>3</th>\n",
       "      <td>1</td>\n",
       "      <td>4</td>\n",
       "      <td>0.313559</td>\n",
       "      <td>1.0</td>\n",
       "      <td>0.0</td>\n",
       "      <td>0.0</td>\n",
       "      <td>0.0</td>\n",
       "      <td>0.0</td>\n",
       "      <td>0.0</td>\n",
       "      <td>0.0</td>\n",
       "      <td>...</td>\n",
       "      <td>-0.077145</td>\n",
       "      <td>-0.056206</td>\n",
       "      <td>0.235774</td>\n",
       "      <td>0.216042</td>\n",
       "      <td>0.110846</td>\n",
       "      <td>-0.001951</td>\n",
       "      <td>-0.262783</td>\n",
       "      <td>-0.154692</td>\n",
       "      <td>0.007996</td>\n",
       "      <td>10</td>\n",
       "    </tr>\n",
       "    <tr>\n",
       "      <th>4</th>\n",
       "      <td>2</td>\n",
       "      <td>1</td>\n",
       "      <td>0.355932</td>\n",
       "      <td>0.0</td>\n",
       "      <td>1.0</td>\n",
       "      <td>0.0</td>\n",
       "      <td>0.0</td>\n",
       "      <td>0.0</td>\n",
       "      <td>1.0</td>\n",
       "      <td>0.0</td>\n",
       "      <td>...</td>\n",
       "      <td>0.018087</td>\n",
       "      <td>-0.052994</td>\n",
       "      <td>0.001587</td>\n",
       "      <td>0.053269</td>\n",
       "      <td>0.117310</td>\n",
       "      <td>-0.172607</td>\n",
       "      <td>-0.056071</td>\n",
       "      <td>0.037923</td>\n",
       "      <td>0.062826</td>\n",
       "      <td>4</td>\n",
       "    </tr>\n",
       "  </tbody>\n",
       "</table>\n",
       "<p>5 rows × 314 columns</p>\n",
       "</div>"
      ],
      "text/plain": [
       "   patient_id  visit_id  embed_vec0  embed_vec1  embed_vec2  embed_vec3  \\\n",
       "0           1         1    0.296610         1.0         0.0         0.0   \n",
       "1           1         2    0.305085         1.0         0.0         0.0   \n",
       "2           1         3    0.305085         1.0         0.0         0.0   \n",
       "3           1         4    0.313559         1.0         0.0         0.0   \n",
       "4           2         1    0.355932         0.0         1.0         0.0   \n",
       "\n",
       "   embed_vec4  embed_vec5  embed_vec6  embed_vec7  ...  embed_vec302  \\\n",
       "0         0.0         0.0         0.0         0.0  ...      0.079258   \n",
       "1         0.0         0.0         0.0         0.0  ...      0.031657   \n",
       "2         0.0         0.0         0.0         0.0  ...     -0.043800   \n",
       "3         0.0         0.0         0.0         0.0  ...     -0.077145   \n",
       "4         0.0         0.0         1.0         0.0  ...      0.018087   \n",
       "\n",
       "   embed_vec303  embed_vec304  embed_vec305  embed_vec306  embed_vec307  \\\n",
       "0     -0.060437      0.101398     -0.026986     -0.030562     -0.117866   \n",
       "1      0.136739     -0.124715     -0.038696      0.236018     -0.081909   \n",
       "2      0.093867      0.049588     -0.142370     -0.056448      0.212482   \n",
       "3     -0.056206      0.235774      0.216042      0.110846     -0.001951   \n",
       "4     -0.052994      0.001587      0.053269      0.117310     -0.172607   \n",
       "\n",
       "   embed_vec308  embed_vec309  embed_vec310  label  \n",
       "0     -0.021423      0.123450     -0.078947      7  \n",
       "1      0.068095      0.050334      0.190104      4  \n",
       "2     -0.042262     -0.023515     -0.057756     15  \n",
       "3     -0.262783     -0.154692      0.007996     10  \n",
       "4     -0.056071      0.037923      0.062826      4  \n",
       "\n",
       "[5 rows x 314 columns]"
      ]
     },
     "execution_count": 24,
     "metadata": {},
     "output_type": "execute_result"
    }
   ],
   "source": [
    "df.head()"
   ]
  },
  {
   "cell_type": "markdown",
   "metadata": {},
   "source": [
    "### Step 7: Data preprocessing: Create triplets of visits with labels using Sliding window approach"
   ]
  },
  {
   "cell_type": "code",
   "execution_count": 25,
   "metadata": {},
   "outputs": [
    {
     "name": "stdout",
     "output_type": "stream",
     "text": [
      "Number of patients:  34324\n"
     ]
    }
   ],
   "source": [
    "print(\"Number of patients: \", len(df['patient_id'].unique()))"
   ]
  },
  {
   "cell_type": "code",
   "execution_count": 26,
   "metadata": {},
   "outputs": [],
   "source": [
    "# DATA PROCESSING\n",
    "# RESHAPE INPUT TO THE DESIRED FORM FOR LSTM TRAINING:\n",
    "# NEED 3D tensors of shape: [n_samples, n_timesteps = 2, n_features = input vector dim]"
   ]
  },
  {
   "cell_type": "code",
   "execution_count": 27,
   "metadata": {},
   "outputs": [],
   "source": [
    "df = df.sort_values(['patient_id', 'visit_id'])\n",
    "gf = df.groupby('patient_id')\n",
    "data_X = []\n",
    "data_Y = []\n",
    "for patient in df['patient_id'].unique():\n",
    "#     print(patient)\n",
    "    curr_patient = gf.get_group(patient)\n",
    "    num_visits  = curr_patient.shape[0]\n",
    "    if num_visits < 3:\n",
    "        continue\n",
    "    elif num_visits == 3:\n",
    "        visit_0 = list(curr_patient.iloc[0,2:-1].values)\n",
    "        visit_1 = list(curr_patient.iloc[1,2:-1].values)\n",
    "        data_X.append([visit_0, visit_1])\n",
    "        data_Y.append(curr_patient.iloc[2,-1])\n",
    "    else:\n",
    "        for i in range(0, num_visits-2):\n",
    "            visit_0 = list(curr_patient.iloc[i,2:-1].values)\n",
    "            visit_1 = list(curr_patient.iloc[i+1,2:-1].values)\n",
    "            data_X.append([visit_0, visit_1])\n",
    "            data_Y.append(curr_patient.iloc[i+2,-1])"
   ]
  },
  {
   "cell_type": "code",
   "execution_count": 28,
   "metadata": {},
   "outputs": [],
   "source": [
    "NUM_CLASSES = 16"
   ]
  },
  {
   "cell_type": "code",
   "execution_count": 29,
   "metadata": {},
   "outputs": [],
   "source": [
    "data_X = np.array(data_X)"
   ]
  },
  {
   "cell_type": "code",
   "execution_count": 30,
   "metadata": {},
   "outputs": [],
   "source": [
    "data_Y = np.asarray(data_Y)"
   ]
  },
  {
   "cell_type": "code",
   "execution_count": 31,
   "metadata": {},
   "outputs": [
    {
     "name": "stdout",
     "output_type": "stream",
     "text": [
      "(146592, 2, 311) (146592,)\n",
      "3\n"
     ]
    }
   ],
   "source": [
    "print(data_X.shape, data_Y.shape)\n",
    "print(data_Y[100])"
   ]
  },
  {
   "cell_type": "markdown",
   "metadata": {},
   "source": [
    "### Step 8: Shuffle the data with correspoding labels and create train-val-test splits"
   ]
  },
  {
   "cell_type": "markdown",
   "metadata": {},
   "source": [
    "- All examples are shuffled within a class. For training, intra- and inter-class shuffling happens and for val and test, no inter-class shuffling. \n",
    "-  Class balance is enforced for train,. val, test sets; Downside of the below approach for enforcing class balance is that not all examples are used and the bottleneck is the class which has the loweest fraction of the total examples"
   ]
  },
  {
   "cell_type": "code",
   "execution_count": 32,
   "metadata": {},
   "outputs": [],
   "source": [
    "category_examples = []\n",
    "for i in range(NUM_CLASSES):\n",
    "    category_examples.append(sum(data_Y==i))"
   ]
  },
  {
   "cell_type": "code",
   "execution_count": 33,
   "metadata": {},
   "outputs": [
    {
     "name": "stdout",
     "output_type": "stream",
     "text": [
      "1056\n"
     ]
    }
   ],
   "source": [
    "min_category_size = np.floor(min(category_examples))\n",
    "min_train_classSize = int(0.95*min_category_size)\n",
    "min_val_classSize = int(0.025*min_category_size)\n",
    "total_examples  =  sum(category_examples)\n",
    "print(min_train_classSize)"
   ]
  },
  {
   "cell_type": "code",
   "execution_count": 34,
   "metadata": {},
   "outputs": [],
   "source": [
    "# dictionary mapping class label to all its examples\n",
    "examples = defaultdict(list)\n",
    "for i in range(data_Y.shape[0]): \n",
    "    examples[data_Y[i]].append(data_X[i,:,:])\n",
    "    \n",
    "# shuffle examples of each class in place in the dictionary\n",
    "for i in range(NUM_CLASSES):\n",
    "    random.shuffle(examples[i]) "
   ]
  },
  {
   "cell_type": "code",
   "execution_count": 36,
   "metadata": {},
   "outputs": [],
   "source": [
    "# select min number of examples for the train set, val set and test set\n",
    "\n",
    "train_X = examples[0][:min_train_classSize]\n",
    "train_y = [0]*min_train_classSize\n",
    "for i in range(1,NUM_CLASSES):\n",
    "    train_X = np.vstack((train_X, examples[i][:min_train_classSize]))\n",
    "    train_y+=[i]*min_train_classSize\n",
    "train_X = np.array(train_X)\n",
    "train_y = np.asarray(train_y)\n",
    "\n",
    "val_X = examples[0][min_train_classSize:min_train_classSize + min_val_classSize]\n",
    "val_y = [0]*min_val_classSize\n",
    "for i in range(1,NUM_CLASSES):\n",
    "    val_X = np.vstack((val_X, examples[i][min_train_classSize:min_train_classSize + min_val_classSize]))\n",
    "    val_y+=[i]*min_val_classSize\n",
    "val_X = np.array(val_X)\n",
    "val_y = np.asarray(val_y)\n",
    "\n",
    "test_X = examples[0][min_train_classSize + min_val_classSize : min_train_classSize + 2*min_val_classSize]\n",
    "test_y = [0]*len(test_X)\n",
    "for i in range(1,NUM_CLASSES):\n",
    "    test_examples = examples[i][min_train_classSize + min_val_classSize : min_train_classSize + 2*min_val_classSize]\n",
    "    test_X = np.vstack((test_X, test_examples))\n",
    "    test_y+=[i]*len(test_examples)\n",
    "test_X = np.array(test_X)\n",
    "test_y = np.asarray(test_y)"
   ]
  },
  {
   "cell_type": "code",
   "execution_count": 37,
   "metadata": {},
   "outputs": [
    {
     "name": "stdout",
     "output_type": "stream",
     "text": [
      "(16896, 2, 311) (16896,)\n",
      "(432, 2, 311) (432,)\n",
      "(432, 2, 311) (432,)\n"
     ]
    }
   ],
   "source": [
    "print(train_X.shape, train_y.shape)\n",
    "print(val_X.shape, val_y.shape)\n",
    "print(test_X.shape, test_y.shape)"
   ]
  },
  {
   "cell_type": "markdown",
   "metadata": {},
   "source": [
    "Convert y labels to one-hot vectors"
   ]
  },
  {
   "cell_type": "code",
   "execution_count": 38,
   "metadata": {},
   "outputs": [
    {
     "name": "stdout",
     "output_type": "stream",
     "text": [
      "(16896, 2, 311) (16896, 16)\n",
      "(432, 2, 311) (432, 16)\n",
      "(432, 2, 311) (432, 16)\n"
     ]
    }
   ],
   "source": [
    "train_y = tf.keras.utils.to_categorical(train_y, num_classes=NUM_CLASSES)\n",
    "val_y = tf.keras.utils.to_categorical(val_y, num_classes=NUM_CLASSES)\n",
    "test_y = tf.keras.utils.to_categorical(test_y, num_classes=NUM_CLASSES)\n",
    "\n",
    "print(train_X.shape, train_y.shape)\n",
    "print(val_X.shape, val_y.shape)\n",
    "print(test_X.shape, test_y.shape)\n"
   ]
  },
  {
   "cell_type": "markdown",
   "metadata": {},
   "source": [
    "### Step 9: Create the model"
   ]
  },
  {
   "cell_type": "code",
   "execution_count": 96,
   "metadata": {},
   "outputs": [],
   "source": [
    "BATCH_SIZE = 64\n",
    "EPOCHS = 100\n",
    "NUM_LSTM_UNITS = 50"
   ]
  },
  {
   "cell_type": "code",
   "execution_count": 97,
   "metadata": {},
   "outputs": [],
   "source": [
    "# BUILD THE MODEL BY ADDING LAYERS\n",
    "model = tf.keras.models.Sequential()\n",
    "\n",
    "# add a bidirectional LSTM layer to not only take the past context of a vector into account but also the future context\n",
    "# can play with the activation type here: tanh(default) or relu being popular options\n",
    "# num_hidden_units\n",
    "model.add(tf.keras.layers.Bidirectional(tf.keras.layers.LSTM(units = NUM_LSTM_UNITS,\n",
    "                                                             input_shape= (train_X.shape[1], train_X.shape[2])\n",
    "                                                            ), \n",
    "                                                            merge_mode = 'sum'))\n",
    "\n",
    "# model.add(tf.keras.layers.Conv1D(filters=32, kernel_size=20, input_shape=(BATCH_SIZE,NUM_LSTM_UNITS),\n",
    "#                                  padding = \"valid\", kernel_initializer = \"glorot_uniform\"))\n",
    "# # we can add another Bidirectional LSTM layer if need be -- but we will need to evaluate that later -- no need rn\n",
    "# model.add(Bidirectional(LSTM(num_hidden_units, input_shape= (train_X.shape[1], train_X.shape[2]))))\n",
    "\n",
    "# add dense units\n",
    "model.add(tf.keras.layers.Dense(units = 20, activation='relu'))\n",
    "model.add(tf.keras.layers.Dense(units = 20, activation='relu'))\n",
    "\n",
    "model.add(tf.keras.layers.Dense(units = NUM_CLASSES, activation='softmax'))\n",
    "\n",
    "# patient early stopping\n",
    "es = tf.keras.callbacks.EarlyStopping(monitor='val_loss', mode='min', verbose=1, patience=8)\n",
    "# COMILE THE MODEL\n",
    "model.compile(loss='categorical_crossentropy', optimizer=tf.keras.optimizers.Adam(learning_rate=0.001),\n",
    "              metrics=['accuracy'])"
   ]
  },
  {
   "cell_type": "markdown",
   "metadata": {},
   "source": [
    "### Step 10: Train the model"
   ]
  },
  {
   "cell_type": "code",
   "execution_count": 99,
   "metadata": {},
   "outputs": [
    {
     "name": "stdout",
     "output_type": "stream",
     "text": [
      "Epoch 1/100\n",
      "264/264 [==============================] - 1s 5ms/step - loss: 1.9103 - accuracy: 0.3910 - val_loss: 2.4442 - val_accuracy: 0.2523\n",
      "Epoch 2/100\n",
      "264/264 [==============================] - 1s 5ms/step - loss: 1.8701 - accuracy: 0.4073 - val_loss: 2.5179 - val_accuracy: 0.2569\n",
      "Epoch 3/100\n",
      "264/264 [==============================] - 1s 5ms/step - loss: 1.8301 - accuracy: 0.4179 - val_loss: 2.5578 - val_accuracy: 0.2616\n",
      "Epoch 4/100\n",
      "264/264 [==============================] - 1s 5ms/step - loss: 1.7918 - accuracy: 0.4276 - val_loss: 2.5816 - val_accuracy: 0.2454\n",
      "Epoch 5/100\n",
      "264/264 [==============================] - 1s 5ms/step - loss: 1.7551 - accuracy: 0.4385 - val_loss: 2.6075 - val_accuracy: 0.2593\n",
      "Epoch 6/100\n",
      "264/264 [==============================] - 1s 5ms/step - loss: 1.7190 - accuracy: 0.4519 - val_loss: 2.6610 - val_accuracy: 0.2431\n",
      "Epoch 7/100\n",
      "264/264 [==============================] - 1s 5ms/step - loss: 1.6756 - accuracy: 0.4652 - val_loss: 2.7213 - val_accuracy: 0.2431\n",
      "Epoch 8/100\n",
      "264/264 [==============================] - 1s 5ms/step - loss: 1.6379 - accuracy: 0.4741 - val_loss: 2.7791 - val_accuracy: 0.2431\n",
      "Epoch 9/100\n",
      "264/264 [==============================] - 1s 5ms/step - loss: 1.6043 - accuracy: 0.4830 - val_loss: 2.8234 - val_accuracy: 0.2384\n",
      "Epoch 10/100\n",
      "264/264 [==============================] - 1s 5ms/step - loss: 1.5618 - accuracy: 0.5001 - val_loss: 2.8432 - val_accuracy: 0.2407\n",
      "Epoch 11/100\n",
      "264/264 [==============================] - 1s 5ms/step - loss: 1.5242 - accuracy: 0.5124 - val_loss: 2.8746 - val_accuracy: 0.2454\n",
      "Epoch 12/100\n",
      "264/264 [==============================] - 1s 5ms/step - loss: 1.4825 - accuracy: 0.5239 - val_loss: 3.0349 - val_accuracy: 0.2222\n",
      "Epoch 13/100\n",
      "264/264 [==============================] - 1s 5ms/step - loss: 1.4517 - accuracy: 0.5359 - val_loss: 3.0595 - val_accuracy: 0.2199\n",
      "Epoch 14/100\n",
      "264/264 [==============================] - 1s 5ms/step - loss: 1.4159 - accuracy: 0.5500 - val_loss: 3.1319 - val_accuracy: 0.2407\n",
      "Epoch 15/100\n",
      "264/264 [==============================] - 1s 5ms/step - loss: 1.3727 - accuracy: 0.5615 - val_loss: 3.3587 - val_accuracy: 0.2338\n",
      "Epoch 16/100\n",
      "264/264 [==============================] - 1s 5ms/step - loss: 1.3478 - accuracy: 0.5679 - val_loss: 3.3069 - val_accuracy: 0.2361\n",
      "Epoch 17/100\n",
      "264/264 [==============================] - 1s 5ms/step - loss: 1.3044 - accuracy: 0.5836 - val_loss: 3.3665 - val_accuracy: 0.2222\n",
      "Epoch 18/100\n",
      "264/264 [==============================] - 1s 5ms/step - loss: 1.2711 - accuracy: 0.5913 - val_loss: 3.4858 - val_accuracy: 0.2199\n",
      "Epoch 19/100\n",
      "264/264 [==============================] - 1s 5ms/step - loss: 1.2395 - accuracy: 0.6064 - val_loss: 3.5524 - val_accuracy: 0.2292\n",
      "Epoch 20/100\n",
      "264/264 [==============================] - 1s 5ms/step - loss: 1.2072 - accuracy: 0.6122 - val_loss: 3.6789 - val_accuracy: 0.2106\n",
      "Epoch 21/100\n",
      "264/264 [==============================] - 1s 5ms/step - loss: 1.1713 - accuracy: 0.6261 - val_loss: 3.8629 - val_accuracy: 0.2315\n",
      "Epoch 22/100\n",
      "264/264 [==============================] - 1s 5ms/step - loss: 1.1380 - accuracy: 0.6350 - val_loss: 3.9474 - val_accuracy: 0.2060\n",
      "Epoch 23/100\n",
      "264/264 [==============================] - 1s 5ms/step - loss: 1.1098 - accuracy: 0.6416 - val_loss: 3.9621 - val_accuracy: 0.2106\n",
      "Epoch 24/100\n",
      "264/264 [==============================] - 1s 5ms/step - loss: 1.0811 - accuracy: 0.6536 - val_loss: 4.0337 - val_accuracy: 0.2130\n",
      "Epoch 25/100\n",
      "264/264 [==============================] - 1s 5ms/step - loss: 1.0520 - accuracy: 0.6637 - val_loss: 4.2295 - val_accuracy: 0.2176\n",
      "Epoch 26/100\n",
      "264/264 [==============================] - 1s 5ms/step - loss: 1.0144 - accuracy: 0.6760 - val_loss: 4.4377 - val_accuracy: 0.2130\n",
      "Epoch 27/100\n",
      "264/264 [==============================] - 1s 5ms/step - loss: 0.9880 - accuracy: 0.6814 - val_loss: 4.4990 - val_accuracy: 0.2153\n",
      "Epoch 28/100\n",
      "264/264 [==============================] - 1s 5ms/step - loss: 0.9637 - accuracy: 0.6929 - val_loss: 4.5692 - val_accuracy: 0.2153\n",
      "Epoch 29/100\n",
      "264/264 [==============================] - 1s 5ms/step - loss: 0.9394 - accuracy: 0.7028 - val_loss: 4.7986 - val_accuracy: 0.2176\n",
      "Epoch 30/100\n",
      "264/264 [==============================] - 1s 5ms/step - loss: 0.9010 - accuracy: 0.7127 - val_loss: 4.8064 - val_accuracy: 0.2060\n",
      "Epoch 31/100\n",
      "264/264 [==============================] - 1s 5ms/step - loss: 0.8813 - accuracy: 0.7167 - val_loss: 4.8221 - val_accuracy: 0.2037\n",
      "Epoch 32/100\n",
      "264/264 [==============================] - 1s 5ms/step - loss: 0.8498 - accuracy: 0.7316 - val_loss: 5.1877 - val_accuracy: 0.2060\n",
      "Epoch 33/100\n",
      "264/264 [==============================] - 1s 5ms/step - loss: 0.8306 - accuracy: 0.7374 - val_loss: 5.2260 - val_accuracy: 0.2106\n",
      "Epoch 34/100\n",
      "264/264 [==============================] - 1s 5ms/step - loss: 0.8012 - accuracy: 0.7474 - val_loss: 5.2627 - val_accuracy: 0.2083\n",
      "Epoch 35/100\n",
      "264/264 [==============================] - 1s 5ms/step - loss: 0.7802 - accuracy: 0.7525 - val_loss: 5.4558 - val_accuracy: 0.2106\n",
      "Epoch 36/100\n",
      "264/264 [==============================] - 1s 5ms/step - loss: 0.7660 - accuracy: 0.7566 - val_loss: 5.7862 - val_accuracy: 0.2060\n",
      "Epoch 37/100\n",
      "264/264 [==============================] - 1s 5ms/step - loss: 0.7304 - accuracy: 0.7683 - val_loss: 5.8971 - val_accuracy: 0.2014\n",
      "Epoch 38/100\n",
      "264/264 [==============================] - 1s 5ms/step - loss: 0.7209 - accuracy: 0.7681 - val_loss: 5.9572 - val_accuracy: 0.1898\n",
      "Epoch 39/100\n",
      "264/264 [==============================] - 1s 5ms/step - loss: 0.6992 - accuracy: 0.7756 - val_loss: 6.1463 - val_accuracy: 0.2014\n",
      "Epoch 40/100\n",
      "264/264 [==============================] - 1s 5ms/step - loss: 0.6777 - accuracy: 0.7839 - val_loss: 6.2480 - val_accuracy: 0.2014\n",
      "Epoch 41/100\n",
      "264/264 [==============================] - 1s 5ms/step - loss: 0.6496 - accuracy: 0.7927 - val_loss: 6.2933 - val_accuracy: 0.2083\n",
      "Epoch 42/100\n",
      "264/264 [==============================] - 1s 5ms/step - loss: 0.6353 - accuracy: 0.8003 - val_loss: 6.5643 - val_accuracy: 0.1921\n",
      "Epoch 43/100\n",
      "264/264 [==============================] - 1s 5ms/step - loss: 0.6217 - accuracy: 0.8030 - val_loss: 6.6859 - val_accuracy: 0.2014\n",
      "Epoch 44/100\n",
      "264/264 [==============================] - 1s 5ms/step - loss: 0.5888 - accuracy: 0.8140 - val_loss: 6.9632 - val_accuracy: 0.2153\n",
      "Epoch 45/100\n",
      "264/264 [==============================] - 1s 5ms/step - loss: 0.5742 - accuracy: 0.8165 - val_loss: 7.0540 - val_accuracy: 0.2014\n",
      "Epoch 46/100\n",
      "264/264 [==============================] - 1s 5ms/step - loss: 0.5582 - accuracy: 0.8250 - val_loss: 7.0484 - val_accuracy: 0.2106\n",
      "Epoch 47/100\n",
      "264/264 [==============================] - 1s 5ms/step - loss: 0.5457 - accuracy: 0.8253 - val_loss: 7.2727 - val_accuracy: 0.1898\n",
      "Epoch 48/100\n",
      "264/264 [==============================] - 1s 5ms/step - loss: 0.5362 - accuracy: 0.8300 - val_loss: 7.5702 - val_accuracy: 0.1921\n",
      "Epoch 49/100\n",
      "264/264 [==============================] - 1s 5ms/step - loss: 0.5365 - accuracy: 0.8323 - val_loss: 7.6802 - val_accuracy: 0.1991\n",
      "Epoch 50/100\n",
      "264/264 [==============================] - 1s 5ms/step - loss: 0.4992 - accuracy: 0.8432 - val_loss: 7.9065 - val_accuracy: 0.1991\n",
      "Epoch 51/100\n",
      "264/264 [==============================] - 1s 5ms/step - loss: 0.4842 - accuracy: 0.8476 - val_loss: 7.8962 - val_accuracy: 0.2014\n",
      "Epoch 52/100\n",
      "264/264 [==============================] - 1s 5ms/step - loss: 0.4623 - accuracy: 0.8574 - val_loss: 8.2506 - val_accuracy: 0.2014\n",
      "Epoch 53/100\n",
      "264/264 [==============================] - 1s 5ms/step - loss: 0.4770 - accuracy: 0.8501 - val_loss: 7.9622 - val_accuracy: 0.1968\n",
      "Epoch 54/100\n",
      "264/264 [==============================] - 1s 5ms/step - loss: 0.4481 - accuracy: 0.8604 - val_loss: 8.4088 - val_accuracy: 0.1968\n",
      "Epoch 55/100\n",
      "264/264 [==============================] - 1s 5ms/step - loss: 0.4458 - accuracy: 0.8613 - val_loss: 8.4449 - val_accuracy: 0.1968\n",
      "Epoch 56/100\n",
      "264/264 [==============================] - 1s 5ms/step - loss: 0.4235 - accuracy: 0.8684 - val_loss: 8.7255 - val_accuracy: 0.1898\n",
      "Epoch 57/100\n",
      "264/264 [==============================] - 1s 5ms/step - loss: 0.3906 - accuracy: 0.8803 - val_loss: 9.0859 - val_accuracy: 0.1875\n",
      "Epoch 58/100\n",
      "264/264 [==============================] - 1s 5ms/step - loss: 0.4123 - accuracy: 0.8707 - val_loss: 8.9583 - val_accuracy: 0.2083\n",
      "Epoch 59/100\n",
      "264/264 [==============================] - 1s 5ms/step - loss: 0.4027 - accuracy: 0.8757 - val_loss: 9.0908 - val_accuracy: 0.1898\n",
      "Epoch 60/100\n",
      "264/264 [==============================] - 1s 5ms/step - loss: 0.3895 - accuracy: 0.8752 - val_loss: 9.3616 - val_accuracy: 0.1875\n",
      "Epoch 61/100\n",
      "264/264 [==============================] - 1s 5ms/step - loss: 0.3649 - accuracy: 0.8829 - val_loss: 9.4698 - val_accuracy: 0.1991\n",
      "Epoch 62/100\n",
      "264/264 [==============================] - 1s 5ms/step - loss: 0.3685 - accuracy: 0.8833 - val_loss: 9.4002 - val_accuracy: 0.1852\n",
      "Epoch 63/100\n",
      "264/264 [==============================] - 1s 5ms/step - loss: 0.3585 - accuracy: 0.8859 - val_loss: 9.6126 - val_accuracy: 0.2037\n",
      "Epoch 64/100\n",
      "264/264 [==============================] - 1s 5ms/step - loss: 0.3554 - accuracy: 0.8891 - val_loss: 9.7532 - val_accuracy: 0.1921\n",
      "Epoch 65/100\n",
      "264/264 [==============================] - 1s 5ms/step - loss: 0.3351 - accuracy: 0.8971 - val_loss: 10.0670 - val_accuracy: 0.1875\n",
      "Epoch 66/100\n",
      "264/264 [==============================] - 1s 5ms/step - loss: 0.3246 - accuracy: 0.8997 - val_loss: 10.2789 - val_accuracy: 0.1968\n",
      "Epoch 67/100\n",
      "264/264 [==============================] - 1s 5ms/step - loss: 0.3144 - accuracy: 0.9000 - val_loss: 10.3201 - val_accuracy: 0.1782\n",
      "Epoch 68/100\n",
      "264/264 [==============================] - 1s 5ms/step - loss: 0.3056 - accuracy: 0.9071 - val_loss: 10.6081 - val_accuracy: 0.2130\n",
      "Epoch 69/100\n",
      "264/264 [==============================] - 1s 5ms/step - loss: 0.3158 - accuracy: 0.9010 - val_loss: 10.7729 - val_accuracy: 0.1991\n",
      "Epoch 70/100\n",
      "264/264 [==============================] - 1s 5ms/step - loss: 0.2964 - accuracy: 0.9081 - val_loss: 10.9174 - val_accuracy: 0.1852\n",
      "Epoch 71/100\n",
      "264/264 [==============================] - 1s 5ms/step - loss: 0.3053 - accuracy: 0.9041 - val_loss: 11.0519 - val_accuracy: 0.1829\n",
      "Epoch 72/100\n",
      "264/264 [==============================] - 1s 5ms/step - loss: 0.3464 - accuracy: 0.8881 - val_loss: 11.1976 - val_accuracy: 0.2106\n",
      "Epoch 73/100\n",
      "264/264 [==============================] - 1s 5ms/step - loss: 0.2957 - accuracy: 0.9061 - val_loss: 11.1428 - val_accuracy: 0.1991\n",
      "Epoch 74/100\n",
      "264/264 [==============================] - 1s 5ms/step - loss: 0.2787 - accuracy: 0.9135 - val_loss: 11.3811 - val_accuracy: 0.2014\n",
      "Epoch 75/100\n",
      "264/264 [==============================] - 1s 5ms/step - loss: 0.2777 - accuracy: 0.9115 - val_loss: 11.4290 - val_accuracy: 0.1944\n",
      "Epoch 76/100\n",
      "264/264 [==============================] - 1s 5ms/step - loss: 0.2355 - accuracy: 0.9286 - val_loss: 11.7435 - val_accuracy: 0.2130\n",
      "Epoch 77/100\n",
      "264/264 [==============================] - 1s 5ms/step - loss: 0.2973 - accuracy: 0.9045 - val_loss: 11.5922 - val_accuracy: 0.1921\n",
      "Epoch 78/100\n",
      "264/264 [==============================] - 1s 5ms/step - loss: 0.2488 - accuracy: 0.9235 - val_loss: 11.6629 - val_accuracy: 0.1944\n",
      "Epoch 79/100\n",
      "264/264 [==============================] - 1s 5ms/step - loss: 0.2499 - accuracy: 0.9229 - val_loss: 11.9586 - val_accuracy: 0.2037\n",
      "Epoch 80/100\n",
      "264/264 [==============================] - 1s 5ms/step - loss: 0.3010 - accuracy: 0.9015 - val_loss: 11.9283 - val_accuracy: 0.1829\n",
      "Epoch 81/100\n",
      "264/264 [==============================] - 1s 5ms/step - loss: 0.2404 - accuracy: 0.9235 - val_loss: 12.2521 - val_accuracy: 0.1898\n",
      "Epoch 82/100\n",
      "264/264 [==============================] - 1s 5ms/step - loss: 0.2229 - accuracy: 0.9307 - val_loss: 12.3624 - val_accuracy: 0.1968\n",
      "Epoch 83/100\n",
      "264/264 [==============================] - 1s 5ms/step - loss: 0.2365 - accuracy: 0.9253 - val_loss: 12.6219 - val_accuracy: 0.1921\n",
      "Epoch 84/100\n",
      "264/264 [==============================] - 1s 5ms/step - loss: 0.1936 - accuracy: 0.9432 - val_loss: 12.6799 - val_accuracy: 0.1921\n",
      "Epoch 85/100\n",
      "264/264 [==============================] - 1s 5ms/step - loss: 0.1962 - accuracy: 0.9393 - val_loss: 12.8332 - val_accuracy: 0.1875\n",
      "Epoch 86/100\n",
      "264/264 [==============================] - 1s 5ms/step - loss: 0.2502 - accuracy: 0.9193 - val_loss: 12.8226 - val_accuracy: 0.1782\n",
      "Epoch 87/100\n",
      "264/264 [==============================] - 1s 5ms/step - loss: 0.2401 - accuracy: 0.9216 - val_loss: 12.8499 - val_accuracy: 0.1921\n",
      "Epoch 88/100\n",
      "264/264 [==============================] - 1s 5ms/step - loss: 0.2788 - accuracy: 0.9089 - val_loss: 13.0364 - val_accuracy: 0.1991\n",
      "Epoch 89/100\n",
      "264/264 [==============================] - 1s 5ms/step - loss: 0.2208 - accuracy: 0.9322 - val_loss: 12.9127 - val_accuracy: 0.1968\n",
      "Epoch 90/100\n",
      "264/264 [==============================] - 1s 5ms/step - loss: 0.1844 - accuracy: 0.9445 - val_loss: 13.2921 - val_accuracy: 0.2014\n",
      "Epoch 91/100\n",
      "264/264 [==============================] - 1s 5ms/step - loss: 0.1909 - accuracy: 0.9399 - val_loss: 13.5099 - val_accuracy: 0.2060\n",
      "Epoch 92/100\n",
      "264/264 [==============================] - 1s 5ms/step - loss: 0.2095 - accuracy: 0.9354 - val_loss: 13.3808 - val_accuracy: 0.1875\n",
      "Epoch 93/100\n",
      "264/264 [==============================] - 1s 5ms/step - loss: 0.2045 - accuracy: 0.9348 - val_loss: 13.5278 - val_accuracy: 0.1736\n",
      "Epoch 94/100\n",
      "264/264 [==============================] - 1s 5ms/step - loss: 0.2289 - accuracy: 0.9274 - val_loss: 13.6247 - val_accuracy: 0.2037\n",
      "Epoch 95/100\n",
      "264/264 [==============================] - 1s 5ms/step - loss: 0.2289 - accuracy: 0.9282 - val_loss: 13.5550 - val_accuracy: 0.1968\n",
      "Epoch 96/100\n",
      "264/264 [==============================] - 1s 5ms/step - loss: 0.2132 - accuracy: 0.9328 - val_loss: 13.7676 - val_accuracy: 0.2060\n",
      "Epoch 97/100\n",
      "264/264 [==============================] - 1s 5ms/step - loss: 0.1484 - accuracy: 0.9539 - val_loss: 14.1134 - val_accuracy: 0.1898\n",
      "Epoch 98/100\n",
      "264/264 [==============================] - 1s 5ms/step - loss: 0.1215 - accuracy: 0.9661 - val_loss: 14.1698 - val_accuracy: 0.2014\n",
      "Epoch 99/100\n",
      "264/264 [==============================] - 1s 5ms/step - loss: 0.1938 - accuracy: 0.9419 - val_loss: 13.7710 - val_accuracy: 0.1852\n",
      "Epoch 100/100\n",
      "264/264 [==============================] - 1s 5ms/step - loss: 0.2780 - accuracy: 0.9090 - val_loss: 14.0156 - val_accuracy: 0.2130\n"
     ]
    }
   ],
   "source": [
    "# TRAIN THE NETWORK\n",
    "hist = model.fit(train_X, train_y, shuffle=True , epochs= EPOCHS,\n",
    "                 batch_size = BATCH_SIZE, validation_data = (val_X, val_y)) \n",
    "# val data is not inter-class shuffled -- need not be  - bec evaluation is on entire val set"
   ]
  },
  {
   "cell_type": "markdown",
   "metadata": {},
   "source": [
    "### Step 11: Evaluate the model"
   ]
  },
  {
   "cell_type": "code",
   "execution_count": 100,
   "metadata": {},
   "outputs": [
    {
     "data": {
      "image/png": "[encoded data removed]",
      "text/plain": [
       "<Figure size 432x288 with 1 Axes>"
      ]
     },
     "metadata": {
      "needs_background": "light"
     },
     "output_type": "display_data"
    },
    {
     "data": {
      "image/png": "[encoded data removed]",
      "text/plain": [
       "<Figure size 432x288 with 1 Axes>"
      ]
     },
     "metadata": {
      "needs_background": "light"
     },
     "output_type": "display_data"
    }
   ],
   "source": [
    "# PLOT HISTORY\n",
    "plt.plot(hist.history['loss'], label = 'train_loss')\n",
    "plt.plot(hist.history['val_loss'], label = 'validation_loss')\n",
    "plt.legend()\n",
    "plt.show()\n",
    "\n",
    "plt.plot(hist.history['accuracy'], label = 'train_acc')\n",
    "plt.plot(hist.history['val_accuracy'], label = 'validation_acc')\n",
    "plt.legend()\n",
    "plt.show()"
   ]
  },
  {
   "cell_type": "code",
   "execution_count": 101,
   "metadata": {},
   "outputs": [
    {
     "name": "stdout",
     "output_type": "stream",
     "text": [
      "Average training acc:  81.57203521993425\n",
      "Average validation acc:  20.259773764345383\n"
     ]
    }
   ],
   "source": [
    "# PRINT THE STATS\n",
    "avg_train_acc = np.average(hist.history['accuracy'][10:])*100\n",
    "avg_valid_acc = np.average(hist.history['val_accuracy'][10:])*100\n",
    "print(\"Average training acc: \", avg_train_acc)\n",
    "print(\"Average validation acc: \", avg_valid_acc)"
   ]
  },
  {
   "cell_type": "code",
   "execution_count": 102,
   "metadata": {},
   "outputs": [
    {
     "name": "stdout",
     "output_type": "stream",
     "text": [
      "14/14 [==============================] - 0s 3ms/step - loss: 13.6477 - accuracy: 0.1713\n",
      "test loss, test acc: [13.647673606872559, 0.17129629850387573]\n"
     ]
    }
   ],
   "source": [
    "# EVALUATE THE MODEL\n",
    "results = model.evaluate(test_X, test_y)\n",
    "print(\"test loss, test acc:\", results)"
   ]
  },
  {
   "cell_type": "markdown",
   "metadata": {},
   "source": [
    "### Step 12: Predict based on the model and Visualize Output"
   ]
  },
  {
   "cell_type": "code",
   "execution_count": 103,
   "metadata": {},
   "outputs": [],
   "source": [
    "def get_label2className_dict():\n",
    "    '''\n",
    "    Function to create reverse map of labels to category name\n",
    "    '''\n",
    "    category_dict = {\n",
    "        0: 'Circulatory',\n",
    "        1: 'Dermatologic',\n",
    "        2:'Endocrine & Immune',\n",
    "        3:'Gastrointestinal',\n",
    "        4:'Genitourinary', \n",
    "        5:'Hematologic',\n",
    "        6:'Infectious',\n",
    "        7:'Injury/Poisoning',\n",
    "        8:'Musculoskeletal',\n",
    "        9:'Neurologic',\n",
    "        10:'Other',\n",
    "        11:'Obstetric',\n",
    "        12:'Neoplastic',\n",
    "        13:'Psychiatric',\n",
    "        14:'Respiratory',\n",
    "        15:'Substance use'}\n",
    "    #use to_categorical()\n",
    "    return category_dict"
   ]
  },
  {
   "cell_type": "code",
   "execution_count": 104,
   "metadata": {},
   "outputs": [],
   "source": [
    "from sklearn.metrics import confusion_matrix\n",
    "\n",
    "# VARIABLES USED FOR MODEL SAVING, EVALUATING AND PLOTTING\n",
    "label2className = get_label2className_dict() # dictionary to map numerical categories to their names : eg {1:\"injury\", 2:\"endocrine\"}"
   ]
  },
  {
   "cell_type": "code",
   "execution_count": 105,
   "metadata": {},
   "outputs": [],
   "source": [
    "# make predictions\n",
    "test_ypred = model.predict(test_X)\n",
    "test_ypred = np.argmax(test_ypred, axis=-1)"
   ]
  },
  {
   "cell_type": "code",
   "execution_count": 106,
   "metadata": {},
   "outputs": [
    {
     "name": "stdout",
     "output_type": "stream",
     "text": [
      "(432,)\n"
     ]
    }
   ],
   "source": [
    "print(test_ypred.shape)"
   ]
  },
  {
   "cell_type": "code",
   "execution_count": 107,
   "metadata": {},
   "outputs": [],
   "source": [
    "import itertools  \n",
    "def plot_confusion_matrix(cm, class_names):\n",
    "    \"\"\"\n",
    "    Returns a matplotlib figure containing the plotted confusion matrix.\n",
    "\n",
    "    Args:\n",
    "        cm (array, shape = [n, n]): a confusion matrix of integer classes\n",
    "        class_names (array, shape = [n]): String names of the integer classes\n",
    "    \"\"\"\n",
    "    figure = plt.figure(figsize=(10, 10))\n",
    "    pp = plt.imshow(cm, interpolation='nearest', cmap=plt.cm.Blues)\n",
    "\n",
    "    tick_marks = np.arange(len(class_names))\n",
    "    plt.xticks(tick_marks, class_names, rotation=0, fontsize=12)\n",
    "    plt.yticks(tick_marks, class_names, fontsize=12)\n",
    "\n",
    "    # Normalize the confusion matrix.\n",
    "    cm = np.around(cm.astype('float') / cm.sum(axis=1)[:, np.newaxis], decimals=2)\n",
    "\n",
    "    # Use white text if squares are dark; otherwise black.\n",
    "    threshold = cm.max() / 2.\n",
    "    for i, j in itertools.product(range(cm.shape[0]), range(cm.shape[1])):\n",
    "            color = \"white\" if cm[i, j] > threshold else \"black\"\n",
    "            plt.text(j, i, cm[i, j], horizontalalignment=\"center\", color=color, fontsize = 9, weight=\"bold\")\n",
    "\n",
    "    plt.tight_layout()\n",
    "    plt.ylabel('True label', fontsize=14, fontweight='bold')\n",
    "    plt.xlabel('Predicted label', fontsize=14, fontweight='bold') \n",
    "    plt.subplots_adjust(bottom=0.1, left=.25)\n",
    "    return figure"
   ]
  },
  {
   "cell_type": "code",
   "execution_count": 108,
   "metadata": {},
   "outputs": [
    {
     "data": {
      "text/plain": [
       "<Figure size 432x288 with 0 Axes>"
      ]
     },
     "metadata": {},
     "output_type": "display_data"
    },
    {
     "data": {
      "image/png": "[encoded data removed]",
      "text/plain": [
       "<Figure size 720x720 with 1 Axes>"
      ]
     },
     "metadata": {
      "needs_background": "light"
     },
     "output_type": "display_data"
    }
   ],
   "source": [
    "# VISUALIZE PREDICTIVE CAPACITY USING CONFUSION MATRICES\n",
    "cm = confusion_matrix(np.argmax(test_y, axis=-1), test_ypred)\n",
    "np.set_printoptions(precision=2)\n",
    "plt.figure()\n",
    "\n",
    "class_names = []\n",
    "for k,v in label2className.items():\n",
    "    class_names.append(k)\n",
    "\n",
    "plot_confusion_matrix(cm, class_names)\n",
    "plt.savefig('Confusion_matrix_model_{}.png'.format(1))\n",
    "plt.show()"
   ]
  },
  {
   "cell_type": "code",
   "execution_count": null,
   "metadata": {},
   "outputs": [],
   "source": []
  },
  {
   "cell_type": "code",
   "execution_count": null,
   "metadata": {},
   "outputs": [],
   "source": []
  }
 ],
 "metadata": {
  "kernelspec": {
   "display_name": "Python 3",
   "language": "python",
   "name": "python3"
  },
  "language_info": {
   "codemirror_mode": {
    "name": "ipython",
    "version": 3
   },
   "file_extension": ".py",
   "mimetype": "text/x-python",
   "name": "python",
   "nbconvert_exporter": "python",
   "pygments_lexer": "ipython3",
   "version": "3.6.6"
  }
 },
 "nbformat": 4,
 "nbformat_minor": 4
}
