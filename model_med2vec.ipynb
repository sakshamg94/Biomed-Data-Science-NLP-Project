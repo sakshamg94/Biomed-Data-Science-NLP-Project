{
 "cells": [
  {
   "cell_type": "markdown",
   "metadata": {},
   "source": [
    "# CS 271 MED2VEC"
   ]
  },
  {
   "cell_type": "code",
   "execution_count": 1,
   "metadata": {},
   "outputs": [],
   "source": [
    "# Define imports\n",
    "import random\n",
    "import pandas as pd\n",
    "import numpy as np\n",
    "import tensorflow as tf\n",
    "from numpy import asarray\n",
    "from sklearn import preprocessing\n",
    "from sklearn.preprocessing import OneHotEncoder\n",
    "from tensorflow.keras.utils import to_categorical\n",
    "import gensim.downloader as api\n",
    "import matplotlib.pyplot as plt\n",
    "import sys\n",
    "import pickle\n",
    "import os\n",
    "import csv\n",
    "from collections import defaultdict\n",
    "import time\n",
    "import re"
   ]
  },
  {
   "cell_type": "markdown",
   "metadata": {},
   "source": [
    "### Step 1: Read in relevant Data Files"
   ]
  },
  {
   "cell_type": "markdown",
   "metadata": {},
   "source": [
    "Make sure the files below are in the same directory as your jupyter file"
   ]
  },
  {
   "cell_type": "code",
   "execution_count": 2,
   "metadata": {},
   "outputs": [],
   "source": [
    "# Define constants\n",
    "PATIENT_DATA_FILE = 'B220_SAA_v1.csv'\n",
    "CLEANED_LABELS_FILE = 'ICD_Label_Cleaned_Oct_25.csv'\n",
    "CODE_DESC_FILE = 'BIODS220_ICD_Dx_10_9_v7 - icd_dx_10_9_v7.csv'\n",
    "# May want to consider: glove-wiki-gigaword-100 in the future\n",
    "# See more here: https://github.com/RaRe-Technologies/gensim-data\n",
    "LANG_MODEL = 'MED2VEC'\n",
    "MED2VEC_MODEL = 'med2vec_embedding.pkl'"
   ]
  },
  {
   "cell_type": "code",
   "execution_count": 3,
   "metadata": {},
   "outputs": [],
   "source": [
    "def read_csv_to_dict(file_path: str, key: int, value: int):\n",
    "    ret_dict = {}\n",
    "    with open(file_path, newline='') as csvfile:\n",
    "        data = csv.reader(csvfile, delimiter=',')\n",
    "        for row in data:\n",
    "            ret_dict[row[key]] = row[value]\n",
    "    print(\"Reading {} complete!\".format(file_path))\n",
    "    return ret_dict"
   ]
  },
  {
   "cell_type": "code",
   "execution_count": 4,
   "metadata": {},
   "outputs": [],
   "source": [
    "def get_category_dict():\n",
    "    category_dict = {\n",
    "        'Circulatory': 0,\n",
    "        'Dermatologic': 4,\n",
    "        'Endocrine & Immune': 6,\n",
    "        'Gastrointestinal': 1,\n",
    "        'Genitourinary': 1, \n",
    "        'Hematologic': 4,\n",
    "        'Infectious': 6,\n",
    "        'Injury': 2,\n",
    "        'Injury & Poisoning': 2,\n",
    "        'Poisoning': 2,\n",
    "        'Musculoskeletal': 2,\n",
    "        'Neurologic': 3,\n",
    "        'Other': 4,\n",
    "        'Obstetric': 5,\n",
    "        'Neoplastic': 4,\n",
    "        'Psychiatric': 3,\n",
    "        'Respiratory': 0,\n",
    "        'Substance use': 2}\n",
    "    #use to_categorical()\n",
    "    return category_dict"
   ]
  },
  {
   "cell_type": "code",
   "execution_count": 5,
   "metadata": {},
   "outputs": [],
   "source": [
    "NUM_CLASSES = 7"
   ]
  },
  {
   "cell_type": "code",
   "execution_count": 6,
   "metadata": {},
   "outputs": [],
   "source": [
    "def get_label2className_dict():\n",
    "    '''\n",
    "    Function to create reverse map of labels to category name\n",
    "    '''\n",
    "    category_dict = {\n",
    "        0:'Cardio-Resp',\n",
    "        1:'Abdominal',\n",
    "        2:'Injury/Subst/Poison', \n",
    "        3:'NeuroPsych',\n",
    "        4:'Other',\n",
    "        5:'Obstetric',\n",
    "        6:'Infection-Immune'\n",
    "    }\n",
    "    #use to_categorical()\n",
    "    return category_dict"
   ]
  },
  {
   "cell_type": "code",
   "execution_count": 7,
   "metadata": {},
   "outputs": [
    {
     "name": "stdout",
     "output_type": "stream",
     "text": [
      "Reading ICD_Label_Cleaned_Oct_25.csv complete!\n",
      "Reading BIODS220_ICD_Dx_10_9_v7 - icd_dx_10_9_v7.csv complete!\n"
     ]
    }
   ],
   "source": [
    "# Create labels dict i.e. code -> label, i.e. A840 -> 'Neurologic'\n",
    "label_dict = read_csv_to_dict(CLEANED_LABELS_FILE, key=0, value=1)\n",
    "\n",
    "# Create descriptions dict i.e. code -> description\n",
    "codes_dict = read_csv_to_dict(CODE_DESC_FILE, key=0, value=2)\n",
    "\n",
    "# Create dict for label to int\n",
    "category_dict = get_category_dict()"
   ]
  },
  {
   "cell_type": "markdown",
   "metadata": {},
   "source": [
    "### Step 2: Create one-hot feature vectors"
   ]
  },
  {
   "cell_type": "markdown",
   "metadata": {},
   "source": [
    "For the sake of reducing feature space, we are only including three features in our embedding. Future iterations of our embeddings will include more features, such as the patient's county."
   ]
  },
  {
   "cell_type": "code",
   "execution_count": 8,
   "metadata": {},
   "outputs": [],
   "source": [
    "def create_one_hot(patient_data):\n",
    "    # Creates one-hot vectors\n",
    "    columns_to_one_hot = ['Sex','Race']\n",
    "    one_hot = pd.get_dummies(patient_data[columns_to_one_hot])\n",
    "    \n",
    "    ordinal_columns = ['Age']\n",
    "    one_hot = pd.concat([patient_data[ordinal_columns], one_hot], axis=1)\n",
    "    \n",
    "    # Normalize age\n",
    "    x = one_hot.Age.values.reshape(-1,1)\n",
    "    min_max_scaler = preprocessing.MinMaxScaler()\n",
    "    x_scaled = min_max_scaler.fit_transform(x)\n",
    "    one_hot.Age = x_scaled\n",
    "    \n",
    "    return one_hot.values"
   ]
  },
  {
   "cell_type": "code",
   "execution_count": 9,
   "metadata": {},
   "outputs": [
    {
     "name": "stdout",
     "output_type": "stream",
     "text": [
      "Reading in patient_data took 71.72912621498108\n",
      "Creating one-hot encodings took 10.302989482879639\n",
      "(27977932, 11)\n"
     ]
    }
   ],
   "source": [
    "# Read in patient_data - takes a few mins\n",
    "patient_read_start = time.time()\n",
    "patient_data = pd.read_csv(PATIENT_DATA_FILE, dtype=str, usecols=['Sex','Race','Age','Dx10_prin'])\n",
    "print(\"Reading in patient_data took {}\".format(time.time() - patient_read_start))\n",
    "\n",
    "# One-hot encode visit features\n",
    "one_hot_start = time.time()\n",
    "one_hot = create_one_hot(patient_data)\n",
    "print(\"Creating one-hot encodings took {}\".format(time.time() - one_hot_start))\n",
    "print(one_hot.shape)"
   ]
  },
  {
   "cell_type": "code",
   "execution_count": 10,
   "metadata": {},
   "outputs": [
    {
     "data": {
      "text/html": [
       "<div>\n",
       "<style scoped>\n",
       "    .dataframe tbody tr th:only-of-type {\n",
       "        vertical-align: middle;\n",
       "    }\n",
       "\n",
       "    .dataframe tbody tr th {\n",
       "        vertical-align: top;\n",
       "    }\n",
       "\n",
       "    .dataframe thead th {\n",
       "        text-align: right;\n",
       "    }\n",
       "</style>\n",
       "<table border=\"1\" class=\"dataframe\">\n",
       "  <thead>\n",
       "    <tr style=\"text-align: right;\">\n",
       "      <th></th>\n",
       "      <th>Age</th>\n",
       "      <th>Sex</th>\n",
       "      <th>Race</th>\n",
       "      <th>Dx10_prin</th>\n",
       "    </tr>\n",
       "  </thead>\n",
       "  <tbody>\n",
       "    <tr>\n",
       "      <th>0</th>\n",
       "      <td>35</td>\n",
       "      <td>F</td>\n",
       "      <td>White</td>\n",
       "      <td>S300XXA</td>\n",
       "    </tr>\n",
       "    <tr>\n",
       "      <th>1</th>\n",
       "      <td>36</td>\n",
       "      <td>F</td>\n",
       "      <td>White</td>\n",
       "      <td>N938</td>\n",
       "    </tr>\n",
       "    <tr>\n",
       "      <th>2</th>\n",
       "      <td>36</td>\n",
       "      <td>F</td>\n",
       "      <td>White</td>\n",
       "      <td>F10129</td>\n",
       "    </tr>\n",
       "    <tr>\n",
       "      <th>3</th>\n",
       "      <td>37</td>\n",
       "      <td>F</td>\n",
       "      <td>White</td>\n",
       "      <td>R0789</td>\n",
       "    </tr>\n",
       "    <tr>\n",
       "      <th>4</th>\n",
       "      <td>42</td>\n",
       "      <td>M</td>\n",
       "      <td>Hispanic</td>\n",
       "      <td>N390</td>\n",
       "    </tr>\n",
       "  </tbody>\n",
       "</table>\n",
       "</div>"
      ],
      "text/plain": [
       "  Age Sex      Race Dx10_prin\n",
       "0  35   F     White   S300XXA\n",
       "1  36   F     White      N938\n",
       "2  36   F     White    F10129\n",
       "3  37   F     White     R0789\n",
       "4  42   M  Hispanic      N390"
      ]
     },
     "execution_count": 10,
     "metadata": {},
     "output_type": "execute_result"
    }
   ],
   "source": [
    "patient_data.head()"
   ]
  },
  {
   "cell_type": "code",
   "execution_count": 11,
   "metadata": {},
   "outputs": [],
   "source": [
    "# (num_patients, 311)"
   ]
  },
  {
   "cell_type": "markdown",
   "metadata": {},
   "source": [
    "# Step 3: Embed ICD Codes + concat with one-hot vectors"
   ]
  },
  {
   "cell_type": "markdown",
   "metadata": {},
   "source": [
    "Read the presaved cui2vec embeddings dictionary (ICD10_Code_first_3_chars : float_embedding_vector of size 300)"
   ]
  },
  {
   "cell_type": "markdown",
   "metadata": {},
   "source": [
    "Given the embedding from the pretrained cui2vec embeddings dictionary (in a pickle) that stores the first three chars of the ICD10 code and its corresponding embeddings vector of floats. If there is no embedding for the sentence then return the embedding for the label."
   ]
  },
  {
   "cell_type": "code",
   "execution_count": 12,
   "metadata": {},
   "outputs": [],
   "source": [
    "pickle_in = open(MED2VEC_MODEL, 'rb')\n",
    "EMBEDDINGS = pickle.load(pickle_in)\n",
    "pickle_in.close()\n",
    "CONST_EMBEDDING_SIZE = 300"
   ]
  },
  {
   "cell_type": "code",
   "execution_count": 13,
   "metadata": {},
   "outputs": [
    {
     "data": {
      "text/plain": [
       "18322"
      ]
     },
     "execution_count": 13,
     "metadata": {},
     "output_type": "execute_result"
    }
   ],
   "source": [
    "len(EMBEDDINGS)"
   ]
  },
  {
   "cell_type": "markdown",
   "metadata": {},
   "source": [
    "Given an ICD code, we retrieve the embedding (300x1). We use dynamic programming to save embeddings. Often, only the first three characters of an ICD code are enough to determine the general diagnosis. Longer codes will only have slightly different descriptions (if at all). Thus, to reduce computational complexity, we store the first three characters of ICD codes. Future ICD codes that share the same first three characters will automatically use the same embedding, regardless of any remaining characters."
   ]
  },
  {
   "cell_type": "code",
   "execution_count": 14,
   "metadata": {},
   "outputs": [],
   "source": [
    "def code_to_embedding(code):\n",
    "    try:\n",
    "        embedding = EMBEDDINGS[str(code)].reshape((CONST_EMBEDDING_SIZE,))\n",
    "    except:\n",
    "        try:\n",
    "            embedding = EMBEDDINGS[str(code[:3])].reshape((CONST_EMBEDDING_SIZE,))\n",
    "        except:\n",
    "            embedding = np.zeros((CONST_EMBEDDING_SIZE,))\n",
    "    return embedding"
   ]
  },
  {
   "cell_type": "markdown",
   "metadata": {},
   "source": [
    "For each row of ICD Codes (i.e ['E839', 'SA920']), we retrieve the corresponding embeddings. For patient visits with n ICD Codes where n>1, we give 0.75 weight to the primary ICD code and 0.25/n-1 weight to the remaining (secondary) codes."
   ]
  },
  {
   "cell_type": "code",
   "execution_count": 15,
   "metadata": {},
   "outputs": [],
   "source": [
    "PRIMARY_WEIGHT = 0.5\n",
    "SECONDARY_WEIGHT = 0.5\n",
    "\n",
    "def row_to_embedding(input_row):\n",
    "    \"\"\"\n",
    "    input_row: A list of ICD10 codes\n",
    "    returns a 300x1 embedding\n",
    "    \"\"\"\n",
    "    n = len(input_row)\n",
    "    code = input_row[0]\n",
    "    # Primary ICD code:\n",
    "    primary_embedding = code_to_embedding(code)\n",
    "    if n < 2: return primary_embedding\n",
    "    \n",
    "    # Subsequent ICD codes:\n",
    "    secondary_embedding = None\n",
    "    for i in range(1, n):\n",
    "        code = input_row[i]\n",
    "        curr_embed = code_to_embedding(code)\n",
    "        if secondary_embedding is None:\n",
    "            secondary_embedding = curr_embed\n",
    "        else:\n",
    "            secondary_embedding = np.sum([secondary_embedding, curr_embed], axis=0)\n",
    "    \n",
    "    final_embedding = np.sum([primary_embedding * PRIMARY_WEIGHT, secondary_embedding * (SECONDARY_WEIGHT/(n-1))], axis=0)\n",
    "    \n",
    "    return final_embedding\n"
   ]
  },
  {
   "cell_type": "markdown",
   "metadata": {},
   "source": [
    "We read in the patient visit csv file again and create embeddings for each visit as we read the file. For each visit, we have already computed the one-hot vector encoding for categorical and ordinal variables. Here, we combine those encodings with ICD_10 code embeddings. To reduce model complexity, we limit the number of patients (not total visits) for which to create embeddings. Here, we are working under the assumption that all visits for a patient appear one after the other in the csv file, thus, we can stop reading from the file once `patient id > num_patients`. Takes a few mins to run"
   ]
  },
  {
   "cell_type": "code",
   "execution_count": 16,
   "metadata": {},
   "outputs": [
    {
     "name": "stdout",
     "output_type": "stream",
     "text": [
      "Completed 250000 visit embeddings in 24.824077367782593\n",
      "Number of patients with none of their ICD10 codes in pretrained embeddings: (0,)\n",
      "Shape of embeddings: (428174,311)\n",
      "Shape of patient_visit: (428174,2)\n"
     ]
    }
   ],
   "source": [
    "NUM_PATIENTS = .2e6\n",
    "\n",
    "def get_visit_embedding(input_file_path: str):\n",
    "    num_invalid_patient_codes = 0\n",
    "    start_time = time.time()\n",
    "    embeddings = []\n",
    "    patient_visit = []\n",
    "    max_len = 0\n",
    "#     patient_visit = {\n",
    "#         1 : [[1, embed],[4, embed],[2,embed]],\n",
    "#         2 : [[embed],[embed],....],\n",
    "#         .\n",
    "#         .\n",
    "#         .\n",
    "#     }\n",
    "    with open(input_file_path, newline='') as csvfile:\n",
    "        data = csv.reader(csvfile, delimiter=',')\n",
    "        count = 0\n",
    "        for row in data: # <- top to bottom\n",
    "            if count == 0: # Skip the first row\n",
    "                count += 1\n",
    "                continue\n",
    "            \n",
    "            if int(row[0]) > NUM_PATIENTS: # Used to limit num patients, reducing model space\n",
    "                break\n",
    "                \n",
    "            ICD_code_embeddings = row_to_embedding([entry for entry in row[16:41] if entry is not ''])\n",
    "            # check which patients had none of their ICD 10 codes in the pretrained embeddings model \n",
    "#             if (not ICD_code_embeddings.any()): num_invalid_patient_codes+=1\n",
    "            \n",
    "            # Combine one-hot with w2v embeddings\n",
    "            visit_embedding = np.concatenate((one_hot[count-1, :], ICD_code_embeddings), axis=0)\n",
    "            embeddings.append(visit_embedding)\n",
    "            patient_visit.append([row[0], row[1]]) # store patient and visit info\n",
    "            \n",
    "            # Tracking progress\n",
    "            if count % 250000 == 0:\n",
    "                print(\"Completed {} visit embeddings in {}\".format(count, (time.time() - start_time)))\n",
    "            count +=1\n",
    "            \n",
    "    print(\"Number of patients with none of their ICD10 codes in pretrained embeddings: ({},)\".format(num_invalid_patient_codes))        \n",
    "    print(\"Shape of embeddings: ({},{})\".format(len(embeddings), len(embeddings[0])))\n",
    "    print(\"Shape of patient_visit: ({},{})\".format(len(patient_visit), len(patient_visit[0])))\n",
    "    embedding_vecs = np.array(embeddings)\n",
    "    result = np.hstack((np.array(patient_visit),embedding_vecs)) # patient id, visit id, embedding vector\n",
    "    return result, count-1, num_invalid_patient_codes\n",
    "\n",
    "embedding_dset, num_visits, num_invalid_patient_codes = get_visit_embedding(PATIENT_DATA_FILE)"
   ]
  },
  {
   "cell_type": "markdown",
   "metadata": {},
   "source": [
    "### Step 4: Get labels"
   ]
  },
  {
   "cell_type": "markdown",
   "metadata": {},
   "source": [
    "To create labels, we copy the primary diagnosis codes (`DX10_prin` column) into its own column named `Label`. For each code, we use the `label_dict` to retrive the corresponding category of the ICD code. Then we use the `category_dict` to retieve a number to represent the label. We limit the number of visits to the same size as the number of embeddings."
   ]
  },
  {
   "cell_type": "code",
   "execution_count": 17,
   "metadata": {},
   "outputs": [],
   "source": [
    "def convert_Dx10_prin_to_label(DX_10_code):\n",
    "    try:\n",
    "        category = label_dict[DX_10_code] # i.e. A065 -> Infectious\n",
    "    except KeyError:\n",
    "        category = 'Other'\n",
    "    return category_dict[category] # i.e. Infectious -> 7 \n",
    "\n",
    "def get_y_labels(patient_data):\n",
    "    # Copy Dx10 code into new column named Label\n",
    "    patient_data['Label'] = patient_data.Dx10_prin\n",
    "\n",
    "    # Apply function to Label column to convert Dx10_prin code to category\n",
    "    patient_data.Label = patient_data.Label.apply(convert_Dx10_prin_to_label)\n",
    "    \n",
    "    # Saves only the top num_visits, since that's how many embeddings there are\n",
    "    y_list = patient_data.Label.iloc[:num_visits].to_list()\n",
    "    return np.array(y_list), len(y_list)"
   ]
  },
  {
   "cell_type": "code",
   "execution_count": 18,
   "metadata": {},
   "outputs": [
    {
     "name": "stdout",
     "output_type": "stream",
     "text": [
      "Creating labels took 14.702522039413452\n"
     ]
    }
   ],
   "source": [
    "# Get y_dset\n",
    "label_start = time.time()\n",
    "y_dset, num_labels = get_y_labels(patient_data)\n",
    "print(\"Creating labels took {}\".format(time.time() - label_start))"
   ]
  },
  {
   "cell_type": "code",
   "execution_count": 19,
   "metadata": {},
   "outputs": [],
   "source": [
    "# Ensures the number of labels corresponds to the number of patient visits\n",
    "assert(num_labels == num_visits)"
   ]
  },
  {
   "cell_type": "markdown",
   "metadata": {},
   "source": [
    "### Step 5: Save embeddings and labels"
   ]
  },
  {
   "cell_type": "code",
   "execution_count": 20,
   "metadata": {},
   "outputs": [
    {
     "name": "stdout",
     "output_type": "stream",
     "text": [
      "Saving embeddings took: 163.70662593841553\n"
     ]
    }
   ],
   "source": [
    "filename = 'embeddings_{}.pickle'.format(LANG_MODEL)\n",
    "\n",
    "start_time = time.time()\n",
    "pickle_out = open(filename, 'wb')\n",
    "pickle.dump((embedding_dset, y_dset), pickle_out, protocol=4)\n",
    "pickle_out.close()\n",
    "print(\"Saving embeddings took: {}\".format(time.time() - start_time))"
   ]
  },
  {
   "cell_type": "code",
   "execution_count": 21,
   "metadata": {},
   "outputs": [],
   "source": [
    "# filename = 'embeddings_{}.pickle'.format(LANG_MODEL)\n",
    "# start_time = time.time()\n",
    "# pickle_in = open(filename, 'rb')\n",
    "# embedding_dset, y_dset = pickle.load(pickle_in)\n",
    "# pickle_in.close()\n",
    "# print(\"Saving embeddings took: {}\".format(time.time() - start_time))"
   ]
  },
  {
   "cell_type": "markdown",
   "metadata": {},
   "source": [
    "### Step 6: Store patient_id, visit_id, embedding_vec, label in a pandas dataframe"
   ]
  },
  {
   "cell_type": "code",
   "execution_count": 22,
   "metadata": {},
   "outputs": [],
   "source": [
    "collated_data = np.hstack((embedding_dset, y_dset.reshape(y_dset.shape[0],1))) # -- last col is label column, first 2 are patient an visit ids\n",
    "cols =  ['patient_id', 'visit_id'] + ['embed_vec'+ str(i) for i in range(embedding_dset.shape[1]-2)] + ['label']\n",
    "df = pd.DataFrame(data = collated_data, columns = cols)"
   ]
  },
  {
   "cell_type": "markdown",
   "metadata": {},
   "source": [
    "Transform the data types "
   ]
  },
  {
   "cell_type": "code",
   "execution_count": 23,
   "metadata": {},
   "outputs": [],
   "source": [
    "df['patient_id'] = df['patient_id'].astype(str).astype('int64')\n",
    "df['visit_id'] = df['visit_id'].astype(str).astype('int64')\n",
    "for col in cols[2:-1]:\n",
    "    df[col] = df[col].astype(str).astype(np.float32)\n",
    "\n",
    "df['label'] = df['label'].astype(str).astype(np.int16)"
   ]
  },
  {
   "cell_type": "code",
   "execution_count": 24,
   "metadata": {},
   "outputs": [
    {
     "data": {
      "text/plain": [
       "patient_id        int64\n",
       "visit_id          int64\n",
       "embed_vec0      float32\n",
       "embed_vec1      float32\n",
       "embed_vec2      float32\n",
       "                 ...   \n",
       "embed_vec307    float32\n",
       "embed_vec308    float32\n",
       "embed_vec309    float32\n",
       "embed_vec310    float32\n",
       "label             int16\n",
       "Length: 314, dtype: object"
      ]
     },
     "execution_count": 24,
     "metadata": {},
     "output_type": "execute_result"
    }
   ],
   "source": [
    "df.dtypes"
   ]
  },
  {
   "cell_type": "markdown",
   "metadata": {},
   "source": [
    "Comment out the pickle dump/load sections below based on need"
   ]
  },
  {
   "cell_type": "code",
   "execution_count": 25,
   "metadata": {},
   "outputs": [],
   "source": [
    "filename = 'patient_dataframe_{}.pkl'.format(LANG_MODEL)\n",
    "pickle_out = open(filename, 'wb')\n",
    "pickle.dump(df, pickle_out, protocol=4)\n",
    "pickle_out.close()"
   ]
  },
  {
   "cell_type": "code",
   "execution_count": 26,
   "metadata": {},
   "outputs": [],
   "source": [
    "# filename = 'patient_dataframe_{}.pkl'.format(LANG_MODEL)\n",
    "# pickle_in = open(filename, 'rb')\n",
    "# df = pickle.load(pickle_in)\n",
    "# pickle_in.close()"
   ]
  },
  {
   "cell_type": "code",
   "execution_count": 27,
   "metadata": {
    "scrolled": true
   },
   "outputs": [
    {
     "data": {
      "text/html": [
       "<div>\n",
       "<style scoped>\n",
       "    .dataframe tbody tr th:only-of-type {\n",
       "        vertical-align: middle;\n",
       "    }\n",
       "\n",
       "    .dataframe tbody tr th {\n",
       "        vertical-align: top;\n",
       "    }\n",
       "\n",
       "    .dataframe thead th {\n",
       "        text-align: right;\n",
       "    }\n",
       "</style>\n",
       "<table border=\"1\" class=\"dataframe\">\n",
       "  <thead>\n",
       "    <tr style=\"text-align: right;\">\n",
       "      <th></th>\n",
       "      <th>patient_id</th>\n",
       "      <th>visit_id</th>\n",
       "      <th>embed_vec0</th>\n",
       "      <th>embed_vec1</th>\n",
       "      <th>embed_vec2</th>\n",
       "      <th>embed_vec3</th>\n",
       "      <th>embed_vec4</th>\n",
       "      <th>embed_vec5</th>\n",
       "      <th>embed_vec6</th>\n",
       "      <th>embed_vec7</th>\n",
       "      <th>...</th>\n",
       "      <th>embed_vec302</th>\n",
       "      <th>embed_vec303</th>\n",
       "      <th>embed_vec304</th>\n",
       "      <th>embed_vec305</th>\n",
       "      <th>embed_vec306</th>\n",
       "      <th>embed_vec307</th>\n",
       "      <th>embed_vec308</th>\n",
       "      <th>embed_vec309</th>\n",
       "      <th>embed_vec310</th>\n",
       "      <th>label</th>\n",
       "    </tr>\n",
       "  </thead>\n",
       "  <tbody>\n",
       "    <tr>\n",
       "      <th>0</th>\n",
       "      <td>1</td>\n",
       "      <td>1</td>\n",
       "      <td>0.296610</td>\n",
       "      <td>1.0</td>\n",
       "      <td>0.0</td>\n",
       "      <td>0.0</td>\n",
       "      <td>0.0</td>\n",
       "      <td>0.0</td>\n",
       "      <td>0.0</td>\n",
       "      <td>0.0</td>\n",
       "      <td>...</td>\n",
       "      <td>0.001690</td>\n",
       "      <td>0.004067</td>\n",
       "      <td>0.001073</td>\n",
       "      <td>0.005790</td>\n",
       "      <td>0.000000</td>\n",
       "      <td>0.000064</td>\n",
       "      <td>0.009988</td>\n",
       "      <td>0.000803</td>\n",
       "      <td>0.000000</td>\n",
       "      <td>2</td>\n",
       "    </tr>\n",
       "    <tr>\n",
       "      <th>1</th>\n",
       "      <td>1</td>\n",
       "      <td>2</td>\n",
       "      <td>0.305085</td>\n",
       "      <td>1.0</td>\n",
       "      <td>0.0</td>\n",
       "      <td>0.0</td>\n",
       "      <td>0.0</td>\n",
       "      <td>0.0</td>\n",
       "      <td>0.0</td>\n",
       "      <td>0.0</td>\n",
       "      <td>...</td>\n",
       "      <td>0.016987</td>\n",
       "      <td>0.000000</td>\n",
       "      <td>0.006920</td>\n",
       "      <td>0.000000</td>\n",
       "      <td>0.000000</td>\n",
       "      <td>0.010834</td>\n",
       "      <td>0.000000</td>\n",
       "      <td>0.000000</td>\n",
       "      <td>0.028890</td>\n",
       "      <td>1</td>\n",
       "    </tr>\n",
       "    <tr>\n",
       "      <th>2</th>\n",
       "      <td>1</td>\n",
       "      <td>3</td>\n",
       "      <td>0.305085</td>\n",
       "      <td>1.0</td>\n",
       "      <td>0.0</td>\n",
       "      <td>0.0</td>\n",
       "      <td>0.0</td>\n",
       "      <td>0.0</td>\n",
       "      <td>0.0</td>\n",
       "      <td>0.0</td>\n",
       "      <td>...</td>\n",
       "      <td>0.000000</td>\n",
       "      <td>0.029267</td>\n",
       "      <td>0.000000</td>\n",
       "      <td>0.016001</td>\n",
       "      <td>0.003718</td>\n",
       "      <td>0.006091</td>\n",
       "      <td>0.007346</td>\n",
       "      <td>0.000000</td>\n",
       "      <td>0.004221</td>\n",
       "      <td>2</td>\n",
       "    </tr>\n",
       "    <tr>\n",
       "      <th>3</th>\n",
       "      <td>1</td>\n",
       "      <td>4</td>\n",
       "      <td>0.313559</td>\n",
       "      <td>1.0</td>\n",
       "      <td>0.0</td>\n",
       "      <td>0.0</td>\n",
       "      <td>0.0</td>\n",
       "      <td>0.0</td>\n",
       "      <td>0.0</td>\n",
       "      <td>0.0</td>\n",
       "      <td>...</td>\n",
       "      <td>0.000000</td>\n",
       "      <td>0.000000</td>\n",
       "      <td>0.006454</td>\n",
       "      <td>0.026563</td>\n",
       "      <td>0.002210</td>\n",
       "      <td>0.017198</td>\n",
       "      <td>0.011468</td>\n",
       "      <td>0.000506</td>\n",
       "      <td>0.009274</td>\n",
       "      <td>4</td>\n",
       "    </tr>\n",
       "    <tr>\n",
       "      <th>4</th>\n",
       "      <td>2</td>\n",
       "      <td>1</td>\n",
       "      <td>0.355932</td>\n",
       "      <td>0.0</td>\n",
       "      <td>1.0</td>\n",
       "      <td>0.0</td>\n",
       "      <td>0.0</td>\n",
       "      <td>0.0</td>\n",
       "      <td>1.0</td>\n",
       "      <td>0.0</td>\n",
       "      <td>...</td>\n",
       "      <td>0.000000</td>\n",
       "      <td>0.007228</td>\n",
       "      <td>0.000000</td>\n",
       "      <td>0.000000</td>\n",
       "      <td>0.007435</td>\n",
       "      <td>0.000000</td>\n",
       "      <td>0.000041</td>\n",
       "      <td>0.000000</td>\n",
       "      <td>0.008443</td>\n",
       "      <td>1</td>\n",
       "    </tr>\n",
       "  </tbody>\n",
       "</table>\n",
       "<p>5 rows × 314 columns</p>\n",
       "</div>"
      ],
      "text/plain": [
       "   patient_id  visit_id  embed_vec0  embed_vec1  embed_vec2  embed_vec3  \\\n",
       "0           1         1    0.296610         1.0         0.0         0.0   \n",
       "1           1         2    0.305085         1.0         0.0         0.0   \n",
       "2           1         3    0.305085         1.0         0.0         0.0   \n",
       "3           1         4    0.313559         1.0         0.0         0.0   \n",
       "4           2         1    0.355932         0.0         1.0         0.0   \n",
       "\n",
       "   embed_vec4  embed_vec5  embed_vec6  embed_vec7  ...  embed_vec302  \\\n",
       "0         0.0         0.0         0.0         0.0  ...      0.001690   \n",
       "1         0.0         0.0         0.0         0.0  ...      0.016987   \n",
       "2         0.0         0.0         0.0         0.0  ...      0.000000   \n",
       "3         0.0         0.0         0.0         0.0  ...      0.000000   \n",
       "4         0.0         0.0         1.0         0.0  ...      0.000000   \n",
       "\n",
       "   embed_vec303  embed_vec304  embed_vec305  embed_vec306  embed_vec307  \\\n",
       "0      0.004067      0.001073      0.005790      0.000000      0.000064   \n",
       "1      0.000000      0.006920      0.000000      0.000000      0.010834   \n",
       "2      0.029267      0.000000      0.016001      0.003718      0.006091   \n",
       "3      0.000000      0.006454      0.026563      0.002210      0.017198   \n",
       "4      0.007228      0.000000      0.000000      0.007435      0.000000   \n",
       "\n",
       "   embed_vec308  embed_vec309  embed_vec310  label  \n",
       "0      0.009988      0.000803      0.000000      2  \n",
       "1      0.000000      0.000000      0.028890      1  \n",
       "2      0.007346      0.000000      0.004221      2  \n",
       "3      0.011468      0.000506      0.009274      4  \n",
       "4      0.000041      0.000000      0.008443      1  \n",
       "\n",
       "[5 rows x 314 columns]"
      ]
     },
     "execution_count": 27,
     "metadata": {},
     "output_type": "execute_result"
    }
   ],
   "source": [
    "df.head()"
   ]
  },
  {
   "cell_type": "markdown",
   "metadata": {},
   "source": [
    "### Step 7: Data preprocessing: Create triplets of visits with labels using Sliding window approach"
   ]
  },
  {
   "cell_type": "code",
   "execution_count": 28,
   "metadata": {},
   "outputs": [
    {
     "name": "stdout",
     "output_type": "stream",
     "text": [
      "Number of patients:  68212\n"
     ]
    }
   ],
   "source": [
    "print(\"Number of patients: \", len(df['patient_id'].unique()))"
   ]
  },
  {
   "cell_type": "code",
   "execution_count": 29,
   "metadata": {},
   "outputs": [],
   "source": [
    "# DATA PROCESSING\n",
    "# RESHAPE INPUT TO THE DESIRED FORM FOR LSTM TRAINING:\n",
    "# NEED 3D tensors of shape: [n_samples, n_timesteps = 2, n_features = input vector dim]"
   ]
  },
  {
   "cell_type": "code",
   "execution_count": 30,
   "metadata": {},
   "outputs": [],
   "source": [
    "df = df.sort_values(['patient_id', 'visit_id'])\n",
    "gf = df.groupby('patient_id')\n",
    "data_X = []\n",
    "data_Y = []\n",
    "for patient in df['patient_id'].unique():\n",
    "#     print(patient)\n",
    "    curr_patient = gf.get_group(patient)\n",
    "    num_visits  = curr_patient.shape[0]\n",
    "    if num_visits < 3:\n",
    "        continue\n",
    "    elif num_visits == 3:\n",
    "        visit_0 = list(curr_patient.iloc[0,2:-1].values)\n",
    "        visit_1 = list(curr_patient.iloc[1,2:-1].values)\n",
    "        data_X.append([visit_0, visit_1])\n",
    "        data_Y.append(curr_patient.iloc[2,-1])\n",
    "    else:\n",
    "        for i in range(0, num_visits-2):\n",
    "            visit_0 = list(curr_patient.iloc[i,2:-1].values)\n",
    "            visit_1 = list(curr_patient.iloc[i+1,2:-1].values)\n",
    "            data_X.append([visit_0, visit_1])\n",
    "            data_Y.append(curr_patient.iloc[i+2,-1])"
   ]
  },
  {
   "cell_type": "code",
   "execution_count": 31,
   "metadata": {},
   "outputs": [],
   "source": [
    "data_X = np.array(data_X)"
   ]
  },
  {
   "cell_type": "code",
   "execution_count": 32,
   "metadata": {},
   "outputs": [],
   "source": [
    "data_Y = np.asarray(data_Y)"
   ]
  },
  {
   "cell_type": "code",
   "execution_count": 33,
   "metadata": {},
   "outputs": [
    {
     "name": "stdout",
     "output_type": "stream",
     "text": [
      "(291750, 2, 311) (291750,)\n",
      "1\n"
     ]
    }
   ],
   "source": [
    "print(data_X.shape, data_Y.shape)\n",
    "print(data_Y[100])"
   ]
  },
  {
   "cell_type": "code",
   "execution_count": 34,
   "metadata": {},
   "outputs": [],
   "source": [
    "filename = 'data_X_data_Y_{}.pkl'.format(LANG_MODEL)\n",
    "pickle_out = open(filename, 'wb')\n",
    "pickle.dump((data_X, data_Y), pickle_out, protocol=4)\n",
    "pickle_out.close()"
   ]
  },
  {
   "cell_type": "code",
   "execution_count": 35,
   "metadata": {},
   "outputs": [],
   "source": [
    "# filename = 'data_X_data_Y_{}.pkl'.format(LANG_MODEL)\n",
    "# pickle_in = open(filename, 'rb')\n",
    "# data_X, data_Y = pickle.load(pickle_in)\n",
    "# pickle_in.close()"
   ]
  },
  {
   "cell_type": "markdown",
   "metadata": {},
   "source": [
    "### Step 8: Shuffle the data with correspoding labels and create train-val-test splits"
   ]
  },
  {
   "cell_type": "markdown",
   "metadata": {},
   "source": [
    "- All examples are shuffled within a class. For training, intra- and inter-class shuffling happens and for val and test, no inter-class shuffling. \n",
    "-  Class balance is enforced for train,. val, test sets; Downside of the below approach for enforcing class balance is that not all examples are used and the bottleneck is the class which has the loweest fraction of the total examples"
   ]
  },
  {
   "cell_type": "code",
   "execution_count": 36,
   "metadata": {},
   "outputs": [
    {
     "name": "stdout",
     "output_type": "stream",
     "text": [
      "0  :  54301\n",
      "1  :  57093\n",
      "2  :  65160\n",
      "3  :  42522\n",
      "4  :  37891\n",
      "5  :  11851\n",
      "6  :  22932\n"
     ]
    }
   ],
   "source": [
    "category_examples = []\n",
    "for i in range(NUM_CLASSES):\n",
    "#     print(i)\n",
    "    category_examples.append(sum(data_Y==i))\n",
    "for i, num in enumerate(category_examples):\n",
    "    print(i , \" : \", num)"
   ]
  },
  {
   "cell_type": "code",
   "execution_count": 37,
   "metadata": {},
   "outputs": [
    {
     "name": "stdout",
     "output_type": "stream",
     "text": [
      "11258\n"
     ]
    }
   ],
   "source": [
    "min_category_size = np.floor(min(category_examples))\n",
    "min_train_classSize = int(0.95*min_category_size)\n",
    "min_val_classSize = int(0.025*min_category_size)\n",
    "total_examples  =  sum(category_examples)\n",
    "print(min_train_classSize)"
   ]
  },
  {
   "cell_type": "code",
   "execution_count": 38,
   "metadata": {},
   "outputs": [],
   "source": [
    "# dictionary mapping class label to all its examples\n",
    "examples = defaultdict(list)\n",
    "for i in range(data_Y.shape[0]): \n",
    "    examples[data_Y[i]].append(data_X[i,:,:])\n",
    "    \n",
    "# shuffle examples of each class in place in the dictionary\n",
    "for i in range(NUM_CLASSES):\n",
    "    random.shuffle(examples[i]) "
   ]
  },
  {
   "cell_type": "code",
   "execution_count": 39,
   "metadata": {},
   "outputs": [],
   "source": [
    "# select min number of examples for the train set, val set and test set\n",
    "\n",
    "train_X = examples[0][:min_train_classSize]\n",
    "train_y = [0]*min_train_classSize\n",
    "for i in range(1,NUM_CLASSES):\n",
    "    train_X = np.vstack((train_X, examples[i][:min_train_classSize]))\n",
    "    train_y+=[i]*min_train_classSize\n",
    "train_X = np.array(train_X)\n",
    "train_y = np.asarray(train_y)\n",
    "\n",
    "val_X = examples[0][min_train_classSize:min_train_classSize + min_val_classSize]\n",
    "val_y = [0]*min_val_classSize\n",
    "for i in range(1,NUM_CLASSES):\n",
    "    val_X = np.vstack((val_X, examples[i][min_train_classSize:min_train_classSize + min_val_classSize]))\n",
    "    val_y+=[i]*min_val_classSize\n",
    "val_X = np.array(val_X)\n",
    "val_y = np.asarray(val_y)\n",
    "\n",
    "test_X = examples[0][min_train_classSize + min_val_classSize : min_train_classSize + 2*min_val_classSize]\n",
    "test_y = [0]*len(test_X)\n",
    "for i in range(1,NUM_CLASSES):\n",
    "    test_examples = examples[i][min_train_classSize + min_val_classSize : min_train_classSize + 2*min_val_classSize]\n",
    "    test_X = np.vstack((test_X, test_examples))\n",
    "    test_y+=[i]*len(test_examples)\n",
    "test_X = np.array(test_X)\n",
    "test_y = np.asarray(test_y)"
   ]
  },
  {
   "cell_type": "code",
   "execution_count": 40,
   "metadata": {},
   "outputs": [
    {
     "name": "stdout",
     "output_type": "stream",
     "text": [
      "(78806, 2, 311) (78806,)\n",
      "(2072, 2, 311) (2072,)\n",
      "(2072, 2, 311) (2072,)\n"
     ]
    }
   ],
   "source": [
    "print(train_X.shape, train_y.shape)\n",
    "print(val_X.shape, val_y.shape)\n",
    "print(test_X.shape, test_y.shape)"
   ]
  },
  {
   "cell_type": "markdown",
   "metadata": {},
   "source": [
    "Convert integer y labels to one-hot vectors"
   ]
  },
  {
   "cell_type": "code",
   "execution_count": 41,
   "metadata": {},
   "outputs": [
    {
     "name": "stdout",
     "output_type": "stream",
     "text": [
      "(78806, 2, 311) (78806, 7)\n",
      "(2072, 2, 311) (2072, 7)\n",
      "(2072, 2, 311) (2072, 7)\n"
     ]
    }
   ],
   "source": [
    "train_y = tf.keras.utils.to_categorical(train_y, num_classes=NUM_CLASSES)\n",
    "val_y = tf.keras.utils.to_categorical(val_y, num_classes=NUM_CLASSES)\n",
    "test_y = tf.keras.utils.to_categorical(test_y, num_classes=NUM_CLASSES)\n",
    "\n",
    "print(train_X.shape, train_y.shape)\n",
    "print(val_X.shape, val_y.shape)\n",
    "print(test_X.shape, test_y.shape)\n"
   ]
  },
  {
   "cell_type": "markdown",
   "metadata": {},
   "source": [
    "### Step 9: Create the model"
   ]
  },
  {
   "cell_type": "code",
   "execution_count": 50,
   "metadata": {},
   "outputs": [],
   "source": [
    "BATCH_SIZE = 128\n",
    "EPOCHS = 75\n",
    "NUM_LSTM_UNITS = 300"
   ]
  },
  {
   "cell_type": "code",
   "execution_count": 53,
   "metadata": {},
   "outputs": [],
   "source": [
    "# BUILD THE MODEL BY ADDING LAYERS\n",
    "model = tf.keras.models.Sequential()\n",
    "\n",
    "# add a bidirectional LSTM layer to not only take the past context of a vector into account but also the future context\n",
    "# can play with the activation type here: tanh(default) or relu being popular options\n",
    "# num_hidden_units\n",
    "# model.add(tf.keras.layers.Bidirectional(tf.keras.layers.LSTM(units = NUM_LSTM_UNITS,\n",
    "#                                                              input_shape= (train_X.shape[1], train_X.shape[2])\n",
    "#                                                             ), \n",
    "#                                                             merge_mode = 'sum'))\n",
    "model.add(tf.keras.layers.LSTM(units = NUM_LSTM_UNITS,input_shape= (train_X.shape[1], train_X.shape[2])))\n",
    "# model.add(tf.keras.layers.Conv1D(filters=32, kernel_size=20, input_shape=(BATCH_SIZE,NUM_LSTM_UNITS),\n",
    "#                                  padding = \"valid\", kernel_initializer = \"glorot_uniform\"))\n",
    "# # we can add another Bidirectional LSTM layer if need be -- but we will need to evaluate that later -- no need rn\n",
    "# model.add(Bidirectional(LSTM(num_hidden_units, input_shape= (train_X.shape[1], train_X.shape[2]))))\n",
    "\n",
    "# add dense units\n",
    "model.add(tf.keras.layers.Dense(units = 20, activation='relu'))\n",
    "model.add(tf.keras.layers.Dense(units = 20, activation='relu'))\n",
    "\n",
    "model.add(tf.keras.layers.Dense(units = NUM_CLASSES, activation='softmax'))\n",
    "\n",
    "# patient early stopping\n",
    "es = tf.keras.callbacks.EarlyStopping(monitor='val_loss', mode='min', verbose=1, patience=8)\n",
    "# COMILE THE MODEL\n",
    "model.compile(loss='categorical_crossentropy', optimizer=tf.keras.optimizers.Adam(learning_rate=0.0001),\n",
    "              metrics=['accuracy'])"
   ]
  },
  {
   "cell_type": "markdown",
   "metadata": {},
   "source": [
    "### Step 10: Train the model"
   ]
  },
  {
   "cell_type": "code",
   "execution_count": 54,
   "metadata": {},
   "outputs": [
    {
     "name": "stdout",
     "output_type": "stream",
     "text": [
      "Epoch 1/75\n",
      "616/616 [==============================] - 3s 5ms/step - loss: 1.8078 - accuracy: 0.2437 - val_loss: 1.7141 - val_accuracy: 0.2915\n",
      "Epoch 2/75\n",
      "616/616 [==============================] - 2s 4ms/step - loss: 1.6375 - accuracy: 0.3478 - val_loss: 1.6174 - val_accuracy: 0.3625\n",
      "Epoch 3/75\n",
      "616/616 [==============================] - 2s 4ms/step - loss: 1.5850 - accuracy: 0.3774 - val_loss: 1.6021 - val_accuracy: 0.3702\n",
      "Epoch 4/75\n",
      "616/616 [==============================] - 2s 4ms/step - loss: 1.5710 - accuracy: 0.3877 - val_loss: 1.5916 - val_accuracy: 0.3789\n",
      "Epoch 5/75\n",
      "616/616 [==============================] - 2s 4ms/step - loss: 1.5625 - accuracy: 0.3935 - val_loss: 1.5817 - val_accuracy: 0.3856\n",
      "Epoch 6/75\n",
      "616/616 [==============================] - 2s 4ms/step - loss: 1.5572 - accuracy: 0.3959 - val_loss: 1.5764 - val_accuracy: 0.3900\n",
      "Epoch 7/75\n",
      "616/616 [==============================] - 2s 4ms/step - loss: 1.5535 - accuracy: 0.3991 - val_loss: 1.5735 - val_accuracy: 0.3880\n",
      "Epoch 8/75\n",
      "616/616 [==============================] - 2s 4ms/step - loss: 1.5498 - accuracy: 0.4011 - val_loss: 1.5733 - val_accuracy: 0.3977\n",
      "Epoch 9/75\n",
      "616/616 [==============================] - 2s 4ms/step - loss: 1.5471 - accuracy: 0.4019 - val_loss: 1.5674 - val_accuracy: 0.3962\n",
      "Epoch 10/75\n",
      "616/616 [==============================] - 2s 4ms/step - loss: 1.5441 - accuracy: 0.4027 - val_loss: 1.5632 - val_accuracy: 0.4020\n",
      "Epoch 11/75\n",
      "616/616 [==============================] - 2s 4ms/step - loss: 1.5418 - accuracy: 0.4044 - val_loss: 1.5624 - val_accuracy: 0.3986\n",
      "Epoch 12/75\n",
      "616/616 [==============================] - 2s 4ms/step - loss: 1.5392 - accuracy: 0.4061 - val_loss: 1.5587 - val_accuracy: 0.3967\n",
      "Epoch 13/75\n",
      "616/616 [==============================] - 2s 4ms/step - loss: 1.5373 - accuracy: 0.4071 - val_loss: 1.5563 - val_accuracy: 0.4020\n",
      "Epoch 14/75\n",
      "616/616 [==============================] - 2s 4ms/step - loss: 1.5357 - accuracy: 0.4082 - val_loss: 1.5560 - val_accuracy: 0.4011\n",
      "Epoch 15/75\n",
      "616/616 [==============================] - 2s 4ms/step - loss: 1.5341 - accuracy: 0.4081 - val_loss: 1.5531 - val_accuracy: 0.3991\n",
      "Epoch 16/75\n",
      "616/616 [==============================] - 2s 4ms/step - loss: 1.5325 - accuracy: 0.4089 - val_loss: 1.5506 - val_accuracy: 0.3943\n",
      "Epoch 17/75\n",
      "616/616 [==============================] - 2s 4ms/step - loss: 1.5311 - accuracy: 0.4096 - val_loss: 1.5513 - val_accuracy: 0.3991\n",
      "Epoch 18/75\n",
      "616/616 [==============================] - 2s 4ms/step - loss: 1.5300 - accuracy: 0.4091 - val_loss: 1.5503 - val_accuracy: 0.4049\n",
      "Epoch 19/75\n",
      "616/616 [==============================] - 2s 4ms/step - loss: 1.5286 - accuracy: 0.4100 - val_loss: 1.5487 - val_accuracy: 0.3986\n",
      "Epoch 20/75\n",
      "616/616 [==============================] - 2s 4ms/step - loss: 1.5277 - accuracy: 0.4107 - val_loss: 1.5476 - val_accuracy: 0.4020\n",
      "Epoch 21/75\n",
      "616/616 [==============================] - 2s 4ms/step - loss: 1.5263 - accuracy: 0.4112 - val_loss: 1.5490 - val_accuracy: 0.3933\n",
      "Epoch 22/75\n",
      "616/616 [==============================] - 2s 4ms/step - loss: 1.5257 - accuracy: 0.4115 - val_loss: 1.5468 - val_accuracy: 0.4025\n",
      "Epoch 23/75\n",
      "616/616 [==============================] - 2s 4ms/step - loss: 1.5243 - accuracy: 0.4124 - val_loss: 1.5450 - val_accuracy: 0.4088\n",
      "Epoch 24/75\n",
      "616/616 [==============================] - 2s 4ms/step - loss: 1.5236 - accuracy: 0.4130 - val_loss: 1.5462 - val_accuracy: 0.4025\n",
      "Epoch 25/75\n",
      "616/616 [==============================] - 2s 4ms/step - loss: 1.5225 - accuracy: 0.4127 - val_loss: 1.5489 - val_accuracy: 0.4006\n",
      "Epoch 26/75\n",
      "616/616 [==============================] - 2s 4ms/step - loss: 1.5218 - accuracy: 0.4133 - val_loss: 1.5449 - val_accuracy: 0.4073\n",
      "Epoch 27/75\n",
      "616/616 [==============================] - 2s 4ms/step - loss: 1.5212 - accuracy: 0.4131 - val_loss: 1.5433 - val_accuracy: 0.4015\n",
      "Epoch 28/75\n",
      "616/616 [==============================] - 2s 4ms/step - loss: 1.5202 - accuracy: 0.4140 - val_loss: 1.5433 - val_accuracy: 0.4107\n",
      "Epoch 29/75\n",
      "616/616 [==============================] - 2s 4ms/step - loss: 1.5195 - accuracy: 0.4146 - val_loss: 1.5428 - val_accuracy: 0.4097\n",
      "Epoch 30/75\n",
      "616/616 [==============================] - 2s 4ms/step - loss: 1.5188 - accuracy: 0.4139 - val_loss: 1.5431 - val_accuracy: 0.4102\n",
      "Epoch 31/75\n",
      "616/616 [==============================] - 2s 4ms/step - loss: 1.5177 - accuracy: 0.4145 - val_loss: 1.5432 - val_accuracy: 0.4093\n",
      "Epoch 32/75\n",
      "616/616 [==============================] - 2s 4ms/step - loss: 1.5172 - accuracy: 0.4152 - val_loss: 1.5414 - val_accuracy: 0.4102\n",
      "Epoch 33/75\n",
      "616/616 [==============================] - 2s 4ms/step - loss: 1.5168 - accuracy: 0.4159 - val_loss: 1.5408 - val_accuracy: 0.4069\n",
      "Epoch 34/75\n",
      "616/616 [==============================] - 2s 4ms/step - loss: 1.5158 - accuracy: 0.4148 - val_loss: 1.5398 - val_accuracy: 0.4059\n",
      "Epoch 35/75\n",
      "616/616 [==============================] - 2s 4ms/step - loss: 1.5154 - accuracy: 0.4154 - val_loss: 1.5400 - val_accuracy: 0.4011\n",
      "Epoch 36/75\n",
      "616/616 [==============================] - 2s 4ms/step - loss: 1.5145 - accuracy: 0.4163 - val_loss: 1.5401 - val_accuracy: 0.4059\n",
      "Epoch 37/75\n",
      "616/616 [==============================] - 2s 4ms/step - loss: 1.5141 - accuracy: 0.4157 - val_loss: 1.5392 - val_accuracy: 0.4102\n",
      "Epoch 38/75\n",
      "616/616 [==============================] - 2s 4ms/step - loss: 1.5133 - accuracy: 0.4171 - val_loss: 1.5378 - val_accuracy: 0.4025\n",
      "Epoch 39/75\n",
      "616/616 [==============================] - 2s 4ms/step - loss: 1.5129 - accuracy: 0.4165 - val_loss: 1.5350 - val_accuracy: 0.4073\n",
      "Epoch 40/75\n",
      "616/616 [==============================] - 2s 4ms/step - loss: 1.5121 - accuracy: 0.4172 - val_loss: 1.5374 - val_accuracy: 0.4083\n",
      "Epoch 41/75\n",
      "616/616 [==============================] - 2s 4ms/step - loss: 1.5116 - accuracy: 0.4184 - val_loss: 1.5393 - val_accuracy: 0.4107\n",
      "Epoch 42/75\n",
      "616/616 [==============================] - 2s 4ms/step - loss: 1.5113 - accuracy: 0.4177 - val_loss: 1.5355 - val_accuracy: 0.4102\n",
      "Epoch 43/75\n",
      "616/616 [==============================] - 2s 4ms/step - loss: 1.5104 - accuracy: 0.4188 - val_loss: 1.5408 - val_accuracy: 0.4035\n",
      "Epoch 44/75\n",
      "616/616 [==============================] - 2s 4ms/step - loss: 1.5096 - accuracy: 0.4185 - val_loss: 1.5364 - val_accuracy: 0.4151\n",
      "Epoch 45/75\n",
      "616/616 [==============================] - 2s 4ms/step - loss: 1.5093 - accuracy: 0.4195 - val_loss: 1.5345 - val_accuracy: 0.4093\n",
      "Epoch 46/75\n",
      "616/616 [==============================] - 2s 4ms/step - loss: 1.5088 - accuracy: 0.4194 - val_loss: 1.5365 - val_accuracy: 0.4083\n",
      "Epoch 47/75\n",
      "616/616 [==============================] - 2s 4ms/step - loss: 1.5085 - accuracy: 0.4203 - val_loss: 1.5344 - val_accuracy: 0.4088\n",
      "Epoch 48/75\n",
      "616/616 [==============================] - 2s 4ms/step - loss: 1.5078 - accuracy: 0.4196 - val_loss: 1.5337 - val_accuracy: 0.4088\n",
      "Epoch 49/75\n",
      "616/616 [==============================] - 2s 4ms/step - loss: 1.5072 - accuracy: 0.4194 - val_loss: 1.5329 - val_accuracy: 0.4088\n",
      "Epoch 50/75\n",
      "616/616 [==============================] - 2s 4ms/step - loss: 1.5065 - accuracy: 0.4195 - val_loss: 1.5347 - val_accuracy: 0.4088\n",
      "Epoch 51/75\n",
      "616/616 [==============================] - 2s 4ms/step - loss: 1.5066 - accuracy: 0.4202 - val_loss: 1.5336 - val_accuracy: 0.4078\n",
      "Epoch 52/75\n",
      "616/616 [==============================] - 2s 4ms/step - loss: 1.5059 - accuracy: 0.4208 - val_loss: 1.5325 - val_accuracy: 0.4131\n",
      "Epoch 53/75\n",
      "616/616 [==============================] - 2s 4ms/step - loss: 1.5052 - accuracy: 0.4205 - val_loss: 1.5326 - val_accuracy: 0.4136\n",
      "Epoch 54/75\n",
      "616/616 [==============================] - 2s 4ms/step - loss: 1.5049 - accuracy: 0.4204 - val_loss: 1.5323 - val_accuracy: 0.4102\n",
      "Epoch 55/75\n",
      "616/616 [==============================] - 2s 4ms/step - loss: 1.5043 - accuracy: 0.4204 - val_loss: 1.5313 - val_accuracy: 0.4102\n",
      "Epoch 56/75\n",
      "616/616 [==============================] - 2s 4ms/step - loss: 1.5040 - accuracy: 0.4214 - val_loss: 1.5330 - val_accuracy: 0.4020\n",
      "Epoch 57/75\n",
      "616/616 [==============================] - 2s 4ms/step - loss: 1.5034 - accuracy: 0.4216 - val_loss: 1.5311 - val_accuracy: 0.4097\n",
      "Epoch 58/75\n",
      "616/616 [==============================] - 2s 4ms/step - loss: 1.5027 - accuracy: 0.4211 - val_loss: 1.5301 - val_accuracy: 0.4122\n",
      "Epoch 59/75\n",
      "616/616 [==============================] - 2s 4ms/step - loss: 1.5024 - accuracy: 0.4216 - val_loss: 1.5295 - val_accuracy: 0.4102\n",
      "Epoch 60/75\n",
      "616/616 [==============================] - 2s 4ms/step - loss: 1.5020 - accuracy: 0.4220 - val_loss: 1.5300 - val_accuracy: 0.4112\n",
      "Epoch 61/75\n",
      "616/616 [==============================] - 2s 4ms/step - loss: 1.5016 - accuracy: 0.4218 - val_loss: 1.5281 - val_accuracy: 0.4064\n",
      "Epoch 62/75\n",
      "616/616 [==============================] - 2s 4ms/step - loss: 1.5013 - accuracy: 0.4224 - val_loss: 1.5322 - val_accuracy: 0.4069\n",
      "Epoch 63/75\n",
      "616/616 [==============================] - 2s 4ms/step - loss: 1.5006 - accuracy: 0.4220 - val_loss: 1.5312 - val_accuracy: 0.4093\n",
      "Epoch 64/75\n",
      "616/616 [==============================] - 2s 4ms/step - loss: 1.5000 - accuracy: 0.4231 - val_loss: 1.5297 - val_accuracy: 0.4069\n",
      "Epoch 65/75\n",
      "616/616 [==============================] - 2s 4ms/step - loss: 1.4999 - accuracy: 0.4233 - val_loss: 1.5290 - val_accuracy: 0.4112\n",
      "Epoch 66/75\n",
      "616/616 [==============================] - 2s 4ms/step - loss: 1.4993 - accuracy: 0.4219 - val_loss: 1.5310 - val_accuracy: 0.4117\n",
      "Epoch 67/75\n",
      "616/616 [==============================] - 2s 4ms/step - loss: 1.4990 - accuracy: 0.4229 - val_loss: 1.5292 - val_accuracy: 0.4107\n",
      "Epoch 68/75\n",
      "616/616 [==============================] - 2s 4ms/step - loss: 1.4982 - accuracy: 0.4236 - val_loss: 1.5274 - val_accuracy: 0.4102\n",
      "Epoch 69/75\n",
      "616/616 [==============================] - 2s 4ms/step - loss: 1.4978 - accuracy: 0.4235 - val_loss: 1.5272 - val_accuracy: 0.4151\n",
      "Epoch 70/75\n",
      "616/616 [==============================] - 2s 4ms/step - loss: 1.4976 - accuracy: 0.4240 - val_loss: 1.5299 - val_accuracy: 0.4093\n",
      "Epoch 71/75\n",
      "616/616 [==============================] - 2s 4ms/step - loss: 1.4969 - accuracy: 0.4244 - val_loss: 1.5263 - val_accuracy: 0.4078\n",
      "Epoch 72/75\n",
      "616/616 [==============================] - 2s 4ms/step - loss: 1.4967 - accuracy: 0.4243 - val_loss: 1.5276 - val_accuracy: 0.4112\n",
      "Epoch 73/75\n",
      "616/616 [==============================] - 2s 4ms/step - loss: 1.4963 - accuracy: 0.4235 - val_loss: 1.5282 - val_accuracy: 0.4122\n",
      "Epoch 74/75\n",
      "616/616 [==============================] - 2s 4ms/step - loss: 1.4960 - accuracy: 0.4246 - val_loss: 1.5273 - val_accuracy: 0.4097\n",
      "Epoch 75/75\n",
      "616/616 [==============================] - 2s 4ms/step - loss: 1.4956 - accuracy: 0.4246 - val_loss: 1.5266 - val_accuracy: 0.4059\n"
     ]
    }
   ],
   "source": [
    "# TRAIN THE NETWORK\n",
    "hist = model.fit(train_X, train_y, shuffle=True , epochs= EPOCHS,\n",
    "                 batch_size = BATCH_SIZE, validation_data = (val_X, val_y)) \n",
    "# val data is not inter-class shuffled -- need not be  - bec evaluation is on entire val set"
   ]
  },
  {
   "cell_type": "markdown",
   "metadata": {},
   "source": [
    "### Step 11: Evaluate the model"
   ]
  },
  {
   "cell_type": "code",
   "execution_count": 55,
   "metadata": {},
   "outputs": [
    {
     "data": {
      "image/png": "[encoded data removed]",
      "text/plain": [
       "<Figure size 432x288 with 1 Axes>"
      ]
     },
     "metadata": {
      "needs_background": "light"
     },
     "output_type": "display_data"
    },
    {
     "data": {
      "image/png": "[encoded data removed]",
      "text/plain": [
       "<Figure size 432x288 with 1 Axes>"
      ]
     },
     "metadata": {
      "needs_background": "light"
     },
     "output_type": "display_data"
    }
   ],
   "source": [
    "# PLOT HISTORY\n",
    "plt.plot(hist.history['loss'], label = 'train_loss')\n",
    "plt.plot(hist.history['val_loss'], label = 'validation_loss')\n",
    "plt.legend()\n",
    "plt.show()\n",
    "\n",
    "plt.plot(hist.history['accuracy'], label = 'train_acc')\n",
    "plt.plot(hist.history['val_accuracy'], label = 'validation_acc')\n",
    "plt.legend()\n",
    "plt.show()"
   ]
  },
  {
   "cell_type": "code",
   "execution_count": 56,
   "metadata": {},
   "outputs": [
    {
     "name": "stdout",
     "output_type": "stream",
     "text": [
      "Average training acc:  41.7256203523049\n",
      "Average validation acc:  40.68978327971238\n"
     ]
    }
   ],
   "source": [
    "# PRINT THE STATS\n",
    "avg_train_acc = np.average(hist.history['accuracy'][10:])*100\n",
    "avg_valid_acc = np.average(hist.history['val_accuracy'][10:])*100\n",
    "print(\"Average training acc: \", avg_train_acc)\n",
    "print(\"Average validation acc: \", avg_valid_acc)"
   ]
  },
  {
   "cell_type": "code",
   "execution_count": 57,
   "metadata": {},
   "outputs": [
    {
     "name": "stdout",
     "output_type": "stream",
     "text": [
      "65/65 [==============================] - 0s 2ms/step - loss: 1.5066 - accuracy: 0.4194\n",
      "test loss, test acc: [1.5065624713897705, 0.4194015562534332]\n"
     ]
    }
   ],
   "source": [
    "# EVALUATE THE MODEL\n",
    "results = model.evaluate(test_X, test_y)\n",
    "print(\"test loss, test acc:\", results)"
   ]
  },
  {
   "cell_type": "markdown",
   "metadata": {},
   "source": [
    "### Step 12: Predict based on the model and Visualize Output"
   ]
  },
  {
   "cell_type": "code",
   "execution_count": 58,
   "metadata": {},
   "outputs": [],
   "source": [
    "from sklearn.metrics import confusion_matrix\n",
    "\n",
    "# VARIABLES USED FOR MODEL SAVING, EVALUATING AND PLOTTING\n",
    "label2className = get_label2className_dict() # dictionary to map numerical categories to their names : eg {1:\"injury\", 2:\"endocrine\"}"
   ]
  },
  {
   "cell_type": "code",
   "execution_count": 59,
   "metadata": {},
   "outputs": [],
   "source": [
    "# make predictions\n",
    "test_ypred = model.predict(test_X)\n",
    "test_ypred = np.argmax(test_ypred, axis=-1)"
   ]
  },
  {
   "cell_type": "code",
   "execution_count": 60,
   "metadata": {},
   "outputs": [
    {
     "name": "stdout",
     "output_type": "stream",
     "text": [
      "(2072,)\n"
     ]
    }
   ],
   "source": [
    "print(test_ypred.shape)"
   ]
  },
  {
   "cell_type": "code",
   "execution_count": 61,
   "metadata": {},
   "outputs": [],
   "source": [
    "import itertools  \n",
    "def plot_confusion_matrix(cm, class_names):\n",
    "    \"\"\"\n",
    "    Returns a matplotlib figure containing the plotted confusion matrix.\n",
    "\n",
    "    Args:\n",
    "        cm (array, shape = [n, n]): a confusion matrix of integer classes\n",
    "        class_names (array, shape = [n]): String names of the integer classes\n",
    "    \"\"\"\n",
    "    figure = plt.figure(figsize=(10, 10))\n",
    "    pp = plt.imshow(cm, interpolation='nearest', cmap=plt.cm.Blues)\n",
    "\n",
    "    tick_marks = np.arange(len(class_names))\n",
    "    plt.xticks(tick_marks, class_names, rotation=0, fontsize=12)\n",
    "    plt.yticks(tick_marks, class_names, fontsize=12)\n",
    "\n",
    "    # Normalize the confusion matrix.\n",
    "    cm = np.around(cm.astype('float') / cm.sum(axis=1)[:, np.newaxis], decimals=2)\n",
    "\n",
    "    # Use white text if squares are dark; otherwise black.\n",
    "    threshold = cm.max() / 2.\n",
    "    for i, j in itertools.product(range(cm.shape[0]), range(cm.shape[1])):\n",
    "            color = \"white\" if cm[i, j] > threshold else \"black\"\n",
    "            plt.text(j, i, cm[i, j], horizontalalignment=\"center\", color=color, fontsize = 9, weight=\"bold\")\n",
    "\n",
    "    plt.tight_layout()\n",
    "    plt.ylabel('True label', fontsize=14, fontweight='bold')\n",
    "    plt.xlabel('Predicted label', fontsize=14, fontweight='bold') \n",
    "    plt.xticks(rotation=45)\n",
    "    plt.subplots_adjust(bottom=0.1, left=.25)\n",
    "    return figure"
   ]
  },
  {
   "cell_type": "code",
   "execution_count": 62,
   "metadata": {},
   "outputs": [
    {
     "name": "stdout",
     "output_type": "stream",
     "text": [
      "['Cardio-Resp', 'Abdominal', 'Injury/Subst/Poison', 'NeuroPsych', 'Other', 'Obstetric', 'Infection-Immune']\n"
     ]
    },
    {
     "data": {
      "text/plain": [
       "<Figure size 432x288 with 0 Axes>"
      ]
     },
     "metadata": {},
     "output_type": "display_data"
    },
    {
     "data": {
      "image/png": "[encoded data removed]",
      "text/plain": [
       "<Figure size 720x720 with 1 Axes>"
      ]
     },
     "metadata": {
      "needs_background": "light"
     },
     "output_type": "display_data"
    }
   ],
   "source": [
    "# VISUALIZE PREDICTIVE CAPACITY USING CONFUSION MATRICES\n",
    "cm = confusion_matrix(np.argmax(test_y, axis=-1), test_ypred)\n",
    "np.set_printoptions(precision=2)\n",
    "plt.figure()\n",
    "\n",
    "class_names = []\n",
    "for k,v in label2className.items():\n",
    "    class_names.append(v)\n",
    "print(class_names)\n",
    "plot_confusion_matrix(cm, class_names)\n",
    "plt.savefig('Confusion_matrix_model_{}.png'.format(1))\n",
    "plt.show()"
   ]
  },
  {
   "cell_type": "code",
   "execution_count": null,
   "metadata": {},
   "outputs": [],
   "source": []
  },
  {
   "cell_type": "code",
   "execution_count": null,
   "metadata": {},
   "outputs": [],
   "source": []
  }
 ],
 "metadata": {
  "kernelspec": {
   "display_name": "Python 3",
   "language": "python",
   "name": "python3"
  },
  "language_info": {
   "codemirror_mode": {
    "name": "ipython",
    "version": 3
   },
   "file_extension": ".py",
   "mimetype": "text/x-python",
   "name": "python",
   "nbconvert_exporter": "python",
   "pygments_lexer": "ipython3",
   "version": "3.6.6"
  }
 },
 "nbformat": 4,
 "nbformat_minor": 4
}
